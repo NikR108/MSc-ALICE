{
 "cells": [
  {
   "cell_type": "markdown",
   "id": "d20bf22e",
   "metadata": {},
   "source": [
    "# This notebook assess the effect of tuning the electron attachment probability in the $O^2$ simulation on our ML discrimination capability "
   ]
  },
  {
   "cell_type": "code",
   "execution_count": 1,
   "id": "80a8dd4d",
   "metadata": {},
   "outputs": [],
   "source": [
    "import numpy as np\n",
    "import matplotlib.pyplot as plt \n",
    "import pandas as pd\n",
    "import keras \n",
    "from keras.models import Sequential\n",
    "from keras.layers import Dense \n",
    "import tensorflow\n",
    "#from tensorflow.keras.utils import to_categorical\n",
    "from keras import layers\n",
    "#from keras.utils import to_categorical\n",
    "from keras.callbacks import EarlyStopping\n",
    "from keras.datasets import mnist\n",
    "from keras.models import Model\n",
    "from keras.layers import Dense, Input\n",
    "from keras.layers import Conv2D, MaxPooling2D, Dropout, Flatten\n",
    "from keras import backend as K\n",
    "from keras.utils import np_utils\n",
    "\n",
    "from tensorflow.keras.models import load_model"
   ]
  },
  {
   "cell_type": "code",
   "execution_count": 2,
   "id": "8462249b",
   "metadata": {},
   "outputs": [
    {
     "name": "stdout",
     "output_type": "stream",
     "text": [
      " Volume in drive C is Windows\n",
      " Volume Serial Number is 4051-E7E7\n",
      "\n",
      " Directory of C:\\Users\\Nikhiel\\Desktop\\model_analysis\n",
      "\n",
      "2022/12/15  04:05    <DIR>          .\n",
      "2022/12/12  13:05    <DIR>          ..\n",
      "2022/12/13  04:00    <DIR>          .ipynb_checkpoints\n",
      "2022/12/13  08:10    <DIR>          __pycache__\n",
      "2022/11/28  10:04         1ÿ459ÿ166 Analysis_of_nets(1)_updated.html\n",
      "2022/11/28  21:35           800ÿ771 Analysis_of_nets.ipynb\n",
      "2022/11/28  02:11           161ÿ352 ann1.h5\n",
      "2022/11/06  00:42             2ÿ899 avgph.py\n",
      "2022/12/14  10:42           758ÿ157 Clean_simsigs_eap20.csv\n",
      "2022/12/14  11:02           851ÿ214 Clean_simsigs_eap40.csv\n",
      "2022/12/14  11:33           876ÿ566 Clean_simsigs_eap80.csv\n",
      "2022/12/11  13:24            54ÿ422 Clean_xe1000.csv\n",
      "2022/12/13  13:46           248ÿ472 Clean_xe1400.csv\n",
      "2022/12/11  13:24           469ÿ330 Clean_xe2000.csv\n",
      "2022/12/13  13:47           620ÿ215 Clean_xe2400.csv\n",
      "2022/12/13  13:47           576ÿ557 Clean_xe2700.csv\n",
      "2022/12/11  13:25           648ÿ229 Clean_xe3000.csv\n",
      "2022/12/13  13:47           809ÿ171 Clean_xe3100.csv\n",
      "2022/12/11  13:25           696ÿ701 Clean_xe3200.csv\n",
      "2022/12/13  13:47           708ÿ415 Clean_xe3400.csv\n",
      "2022/12/11  13:25           889ÿ882 Clean_xe3600.csv\n",
      "2022/12/11  13:25           808ÿ634 Clean_xe4000.csv\n",
      "2022/11/28  02:14            72ÿ192 cnn_NET1.h5\n",
      "2022/11/28  02:15           978ÿ448 cnn2_NET1.h5\n",
      "2022/11/17  23:42         1ÿ125ÿ254 CNN-o2-models(5).html\n",
      "2022/11/28  05:23           749ÿ761 Combining_sim_data.html\n",
      "2022/11/25  11:01           125ÿ410 predictions_analysis.ipynb\n",
      "2022/11/22  00:06        21ÿ624ÿ058 test.csv\n",
      "2022/12/15  04:04           570ÿ153 TunedGain_ML_results.ipynb\n",
      "2022/12/15  03:59           570ÿ153 TunedGain_ML_results_eap.ipynb\n",
      "              26 File(s)     37ÿ255ÿ582 bytes\n",
      "               4 Dir(s)  298ÿ614ÿ562ÿ816 bytes free\n"
     ]
    }
   ],
   "source": [
    "%ls"
   ]
  },
  {
   "cell_type": "markdown",
   "id": "121d48e8",
   "metadata": {},
   "source": [
    "## Load in our test data and extract the real signals "
   ]
  },
  {
   "cell_type": "code",
   "execution_count": 3,
   "id": "10e3cf84",
   "metadata": {},
   "outputs": [],
   "source": [
    "testset = pd.read_csv('test.csv')"
   ]
  },
  {
   "cell_type": "code",
   "execution_count": 4,
   "id": "eead3c54",
   "metadata": {},
   "outputs": [
    {
     "data": {
      "text/html": [
       "<div>\n",
       "<style scoped>\n",
       "    .dataframe tbody tr th:only-of-type {\n",
       "        vertical-align: middle;\n",
       "    }\n",
       "\n",
       "    .dataframe tbody tr th {\n",
       "        vertical-align: top;\n",
       "    }\n",
       "\n",
       "    .dataframe thead th {\n",
       "        text-align: right;\n",
       "    }\n",
       "</style>\n",
       "<table border=\"1\" class=\"dataframe\">\n",
       "  <thead>\n",
       "    <tr style=\"text-align: right;\">\n",
       "      <th></th>\n",
       "      <th>AN00</th>\n",
       "      <th>AN01</th>\n",
       "      <th>AN02</th>\n",
       "      <th>AN03</th>\n",
       "      <th>AN04</th>\n",
       "      <th>AN05</th>\n",
       "      <th>AN06</th>\n",
       "      <th>AN07</th>\n",
       "      <th>AN08</th>\n",
       "      <th>AN09</th>\n",
       "      <th>...</th>\n",
       "      <th>BN21</th>\n",
       "      <th>BN22</th>\n",
       "      <th>BN23</th>\n",
       "      <th>BN24</th>\n",
       "      <th>BN25</th>\n",
       "      <th>BN26</th>\n",
       "      <th>BN27</th>\n",
       "      <th>BN28</th>\n",
       "      <th>BN29</th>\n",
       "      <th>label</th>\n",
       "    </tr>\n",
       "  </thead>\n",
       "  <tbody>\n",
       "    <tr>\n",
       "      <th>0</th>\n",
       "      <td>10</td>\n",
       "      <td>8</td>\n",
       "      <td>10</td>\n",
       "      <td>11</td>\n",
       "      <td>10</td>\n",
       "      <td>10</td>\n",
       "      <td>20</td>\n",
       "      <td>63</td>\n",
       "      <td>68</td>\n",
       "      <td>42</td>\n",
       "      <td>...</td>\n",
       "      <td>15</td>\n",
       "      <td>15</td>\n",
       "      <td>14</td>\n",
       "      <td>13</td>\n",
       "      <td>13</td>\n",
       "      <td>13</td>\n",
       "      <td>12</td>\n",
       "      <td>12</td>\n",
       "      <td>12</td>\n",
       "      <td>0</td>\n",
       "    </tr>\n",
       "    <tr>\n",
       "      <th>1</th>\n",
       "      <td>89</td>\n",
       "      <td>122</td>\n",
       "      <td>65</td>\n",
       "      <td>40</td>\n",
       "      <td>30</td>\n",
       "      <td>26</td>\n",
       "      <td>23</td>\n",
       "      <td>22</td>\n",
       "      <td>19</td>\n",
       "      <td>18</td>\n",
       "      <td>...</td>\n",
       "      <td>14</td>\n",
       "      <td>13</td>\n",
       "      <td>11</td>\n",
       "      <td>11</td>\n",
       "      <td>12</td>\n",
       "      <td>11</td>\n",
       "      <td>14</td>\n",
       "      <td>11</td>\n",
       "      <td>11</td>\n",
       "      <td>0</td>\n",
       "    </tr>\n",
       "    <tr>\n",
       "      <th>2</th>\n",
       "      <td>11</td>\n",
       "      <td>12</td>\n",
       "      <td>10</td>\n",
       "      <td>13</td>\n",
       "      <td>12</td>\n",
       "      <td>13</td>\n",
       "      <td>12</td>\n",
       "      <td>12</td>\n",
       "      <td>14</td>\n",
       "      <td>15</td>\n",
       "      <td>...</td>\n",
       "      <td>10</td>\n",
       "      <td>11</td>\n",
       "      <td>9</td>\n",
       "      <td>11</td>\n",
       "      <td>8</td>\n",
       "      <td>9</td>\n",
       "      <td>13</td>\n",
       "      <td>10</td>\n",
       "      <td>10</td>\n",
       "      <td>0</td>\n",
       "    </tr>\n",
       "    <tr>\n",
       "      <th>3</th>\n",
       "      <td>30</td>\n",
       "      <td>46</td>\n",
       "      <td>29</td>\n",
       "      <td>22</td>\n",
       "      <td>19</td>\n",
       "      <td>20</td>\n",
       "      <td>38</td>\n",
       "      <td>50</td>\n",
       "      <td>39</td>\n",
       "      <td>37</td>\n",
       "      <td>...</td>\n",
       "      <td>11</td>\n",
       "      <td>9</td>\n",
       "      <td>8</td>\n",
       "      <td>11</td>\n",
       "      <td>9</td>\n",
       "      <td>7</td>\n",
       "      <td>10</td>\n",
       "      <td>9</td>\n",
       "      <td>9</td>\n",
       "      <td>0</td>\n",
       "    </tr>\n",
       "    <tr>\n",
       "      <th>4</th>\n",
       "      <td>16</td>\n",
       "      <td>20</td>\n",
       "      <td>16</td>\n",
       "      <td>15</td>\n",
       "      <td>12</td>\n",
       "      <td>12</td>\n",
       "      <td>12</td>\n",
       "      <td>11</td>\n",
       "      <td>11</td>\n",
       "      <td>11</td>\n",
       "      <td>...</td>\n",
       "      <td>31</td>\n",
       "      <td>29</td>\n",
       "      <td>25</td>\n",
       "      <td>28</td>\n",
       "      <td>37</td>\n",
       "      <td>34</td>\n",
       "      <td>30</td>\n",
       "      <td>25</td>\n",
       "      <td>32</td>\n",
       "      <td>1</td>\n",
       "    </tr>\n",
       "  </tbody>\n",
       "</table>\n",
       "<p>5 rows × 91 columns</p>\n",
       "</div>"
      ],
      "text/plain": [
       "   AN00  AN01  AN02  AN03  AN04  AN05  AN06  AN07  AN08  AN09  ...  BN21  \\\n",
       "0    10     8    10    11    10    10    20    63    68    42  ...    15   \n",
       "1    89   122    65    40    30    26    23    22    19    18  ...    14   \n",
       "2    11    12    10    13    12    13    12    12    14    15  ...    10   \n",
       "3    30    46    29    22    19    20    38    50    39    37  ...    11   \n",
       "4    16    20    16    15    12    12    12    11    11    11  ...    31   \n",
       "\n",
       "   BN22  BN23  BN24  BN25  BN26  BN27  BN28  BN29  label  \n",
       "0    15    14    13    13    13    12    12    12      0  \n",
       "1    13    11    11    12    11    14    11    11      0  \n",
       "2    11     9    11     8     9    13    10    10      0  \n",
       "3     9     8    11     9     7    10     9     9      0  \n",
       "4    29    25    28    37    34    30    25    32      1  \n",
       "\n",
       "[5 rows x 91 columns]"
      ]
     },
     "execution_count": 4,
     "metadata": {},
     "output_type": "execute_result"
    }
   ],
   "source": [
    "testset.head()"
   ]
  },
  {
   "cell_type": "code",
   "execution_count": 5,
   "id": "e91aca26",
   "metadata": {},
   "outputs": [
    {
     "data": {
      "text/plain": [
       "80268"
      ]
     },
     "execution_count": 5,
     "metadata": {},
     "output_type": "execute_result"
    }
   ],
   "source": [
    "testset.shape[0]"
   ]
  },
  {
   "cell_type": "markdown",
   "id": "aefd0e43",
   "metadata": {},
   "source": [
    "## Now filter the testset and retain only the real signals ie. label = 0 "
   ]
  },
  {
   "cell_type": "code",
   "execution_count": 6,
   "id": "ea4ce71b",
   "metadata": {},
   "outputs": [
    {
     "data": {
      "text/plain": [
       "(array([60134.,     0.,     0.,     0.,     0.,     0.,     0.,     0.,\n",
       "            0., 20134.]),\n",
       " array([0. , 0.1, 0.2, 0.3, 0.4, 0.5, 0.6, 0.7, 0.8, 0.9, 1. ]),\n",
       " <BarContainer object of 10 artists>)"
      ]
     },
     "execution_count": 6,
     "metadata": {},
     "output_type": "execute_result"
    },
    {
     "data": {
      "image/png": "[encoded data removed]",
      "text/plain": [
       "<Figure size 432x288 with 1 Axes>"
      ]
     },
     "metadata": {
      "needs_background": "light"
     },
     "output_type": "display_data"
    }
   ],
   "source": [
    "plt.hist(testset.label)"
   ]
  },
  {
   "cell_type": "markdown",
   "id": "f5fd3aec",
   "metadata": {},
   "source": [
    "There are 60134 real signals "
   ]
  },
  {
   "cell_type": "code",
   "execution_count": 7,
   "id": "5057f8d6",
   "metadata": {},
   "outputs": [],
   "source": [
    "real_test = testset[testset.label==0]"
   ]
  },
  {
   "cell_type": "code",
   "execution_count": 8,
   "id": "3f82cf94",
   "metadata": {},
   "outputs": [
    {
     "data": {
      "text/plain": [
       "(60134, 91)"
      ]
     },
     "execution_count": 8,
     "metadata": {},
     "output_type": "execute_result"
    }
   ],
   "source": [
    "real_test.shape"
   ]
  },
  {
   "cell_type": "markdown",
   "id": "80091ebe",
   "metadata": {},
   "source": [
    "This matches our number so we have retained all the real signals "
   ]
  },
  {
   "cell_type": "code",
   "execution_count": 9,
   "id": "d131e338",
   "metadata": {},
   "outputs": [
    {
     "data": {
      "text/html": [
       "<div>\n",
       "<style scoped>\n",
       "    .dataframe tbody tr th:only-of-type {\n",
       "        vertical-align: middle;\n",
       "    }\n",
       "\n",
       "    .dataframe tbody tr th {\n",
       "        vertical-align: top;\n",
       "    }\n",
       "\n",
       "    .dataframe thead th {\n",
       "        text-align: right;\n",
       "    }\n",
       "</style>\n",
       "<table border=\"1\" class=\"dataframe\">\n",
       "  <thead>\n",
       "    <tr style=\"text-align: right;\">\n",
       "      <th></th>\n",
       "      <th>AN00</th>\n",
       "      <th>AN01</th>\n",
       "      <th>AN02</th>\n",
       "      <th>AN03</th>\n",
       "      <th>AN04</th>\n",
       "      <th>AN05</th>\n",
       "      <th>AN06</th>\n",
       "      <th>AN07</th>\n",
       "      <th>AN08</th>\n",
       "      <th>AN09</th>\n",
       "      <th>...</th>\n",
       "      <th>BN21</th>\n",
       "      <th>BN22</th>\n",
       "      <th>BN23</th>\n",
       "      <th>BN24</th>\n",
       "      <th>BN25</th>\n",
       "      <th>BN26</th>\n",
       "      <th>BN27</th>\n",
       "      <th>BN28</th>\n",
       "      <th>BN29</th>\n",
       "      <th>label</th>\n",
       "    </tr>\n",
       "  </thead>\n",
       "  <tbody>\n",
       "    <tr>\n",
       "      <th>0</th>\n",
       "      <td>10</td>\n",
       "      <td>8</td>\n",
       "      <td>10</td>\n",
       "      <td>11</td>\n",
       "      <td>10</td>\n",
       "      <td>10</td>\n",
       "      <td>20</td>\n",
       "      <td>63</td>\n",
       "      <td>68</td>\n",
       "      <td>42</td>\n",
       "      <td>...</td>\n",
       "      <td>15</td>\n",
       "      <td>15</td>\n",
       "      <td>14</td>\n",
       "      <td>13</td>\n",
       "      <td>13</td>\n",
       "      <td>13</td>\n",
       "      <td>12</td>\n",
       "      <td>12</td>\n",
       "      <td>12</td>\n",
       "      <td>0</td>\n",
       "    </tr>\n",
       "    <tr>\n",
       "      <th>1</th>\n",
       "      <td>89</td>\n",
       "      <td>122</td>\n",
       "      <td>65</td>\n",
       "      <td>40</td>\n",
       "      <td>30</td>\n",
       "      <td>26</td>\n",
       "      <td>23</td>\n",
       "      <td>22</td>\n",
       "      <td>19</td>\n",
       "      <td>18</td>\n",
       "      <td>...</td>\n",
       "      <td>14</td>\n",
       "      <td>13</td>\n",
       "      <td>11</td>\n",
       "      <td>11</td>\n",
       "      <td>12</td>\n",
       "      <td>11</td>\n",
       "      <td>14</td>\n",
       "      <td>11</td>\n",
       "      <td>11</td>\n",
       "      <td>0</td>\n",
       "    </tr>\n",
       "    <tr>\n",
       "      <th>2</th>\n",
       "      <td>11</td>\n",
       "      <td>12</td>\n",
       "      <td>10</td>\n",
       "      <td>13</td>\n",
       "      <td>12</td>\n",
       "      <td>13</td>\n",
       "      <td>12</td>\n",
       "      <td>12</td>\n",
       "      <td>14</td>\n",
       "      <td>15</td>\n",
       "      <td>...</td>\n",
       "      <td>10</td>\n",
       "      <td>11</td>\n",
       "      <td>9</td>\n",
       "      <td>11</td>\n",
       "      <td>8</td>\n",
       "      <td>9</td>\n",
       "      <td>13</td>\n",
       "      <td>10</td>\n",
       "      <td>10</td>\n",
       "      <td>0</td>\n",
       "    </tr>\n",
       "    <tr>\n",
       "      <th>3</th>\n",
       "      <td>30</td>\n",
       "      <td>46</td>\n",
       "      <td>29</td>\n",
       "      <td>22</td>\n",
       "      <td>19</td>\n",
       "      <td>20</td>\n",
       "      <td>38</td>\n",
       "      <td>50</td>\n",
       "      <td>39</td>\n",
       "      <td>37</td>\n",
       "      <td>...</td>\n",
       "      <td>11</td>\n",
       "      <td>9</td>\n",
       "      <td>8</td>\n",
       "      <td>11</td>\n",
       "      <td>9</td>\n",
       "      <td>7</td>\n",
       "      <td>10</td>\n",
       "      <td>9</td>\n",
       "      <td>9</td>\n",
       "      <td>0</td>\n",
       "    </tr>\n",
       "    <tr>\n",
       "      <th>5</th>\n",
       "      <td>16</td>\n",
       "      <td>10</td>\n",
       "      <td>12</td>\n",
       "      <td>10</td>\n",
       "      <td>10</td>\n",
       "      <td>14</td>\n",
       "      <td>11</td>\n",
       "      <td>7</td>\n",
       "      <td>10</td>\n",
       "      <td>9</td>\n",
       "      <td>...</td>\n",
       "      <td>101</td>\n",
       "      <td>80</td>\n",
       "      <td>67</td>\n",
       "      <td>52</td>\n",
       "      <td>45</td>\n",
       "      <td>34</td>\n",
       "      <td>44</td>\n",
       "      <td>61</td>\n",
       "      <td>62</td>\n",
       "      <td>0</td>\n",
       "    </tr>\n",
       "  </tbody>\n",
       "</table>\n",
       "<p>5 rows × 91 columns</p>\n",
       "</div>"
      ],
      "text/plain": [
       "   AN00  AN01  AN02  AN03  AN04  AN05  AN06  AN07  AN08  AN09  ...  BN21  \\\n",
       "0    10     8    10    11    10    10    20    63    68    42  ...    15   \n",
       "1    89   122    65    40    30    26    23    22    19    18  ...    14   \n",
       "2    11    12    10    13    12    13    12    12    14    15  ...    10   \n",
       "3    30    46    29    22    19    20    38    50    39    37  ...    11   \n",
       "5    16    10    12    10    10    14    11     7    10     9  ...   101   \n",
       "\n",
       "   BN22  BN23  BN24  BN25  BN26  BN27  BN28  BN29  label  \n",
       "0    15    14    13    13    13    12    12    12      0  \n",
       "1    13    11    11    12    11    14    11    11      0  \n",
       "2    11     9    11     8     9    13    10    10      0  \n",
       "3     9     8    11     9     7    10     9     9      0  \n",
       "5    80    67    52    45    34    44    61    62      0  \n",
       "\n",
       "[5 rows x 91 columns]"
      ]
     },
     "execution_count": 9,
     "metadata": {},
     "output_type": "execute_result"
    }
   ],
   "source": [
    "real_test.head()"
   ]
  },
  {
   "cell_type": "code",
   "execution_count": null,
   "id": "b6b753fa",
   "metadata": {},
   "outputs": [],
   "source": []
  },
  {
   "cell_type": "markdown",
   "id": "ddb6ce59",
   "metadata": {},
   "source": [
    "## Read in our tuned sim data "
   ]
  },
  {
   "cell_type": "code",
   "execution_count": 10,
   "id": "feb61598",
   "metadata": {},
   "outputs": [
    {
     "name": "stdout",
     "output_type": "stream",
     "text": [
      " Volume in drive C is Windows\n",
      " Volume Serial Number is 4051-E7E7\n",
      "\n",
      " Directory of C:\\Users\\Nikhiel\\Desktop\\model_analysis\n",
      "\n",
      "2022/12/15  04:05    <DIR>          .\n",
      "2022/12/12  13:05    <DIR>          ..\n",
      "2022/12/13  04:00    <DIR>          .ipynb_checkpoints\n",
      "2022/12/13  08:10    <DIR>          __pycache__\n",
      "2022/11/28  10:04         1ÿ459ÿ166 Analysis_of_nets(1)_updated.html\n",
      "2022/11/28  21:35           800ÿ771 Analysis_of_nets.ipynb\n",
      "2022/11/28  02:11           161ÿ352 ann1.h5\n",
      "2022/11/06  00:42             2ÿ899 avgph.py\n",
      "2022/12/14  10:42           758ÿ157 Clean_simsigs_eap20.csv\n",
      "2022/12/14  11:02           851ÿ214 Clean_simsigs_eap40.csv\n",
      "2022/12/14  11:33           876ÿ566 Clean_simsigs_eap80.csv\n",
      "2022/12/11  13:24            54ÿ422 Clean_xe1000.csv\n",
      "2022/12/13  13:46           248ÿ472 Clean_xe1400.csv\n",
      "2022/12/11  13:24           469ÿ330 Clean_xe2000.csv\n",
      "2022/12/13  13:47           620ÿ215 Clean_xe2400.csv\n",
      "2022/12/13  13:47           576ÿ557 Clean_xe2700.csv\n",
      "2022/12/11  13:25           648ÿ229 Clean_xe3000.csv\n",
      "2022/12/13  13:47           809ÿ171 Clean_xe3100.csv\n",
      "2022/12/11  13:25           696ÿ701 Clean_xe3200.csv\n",
      "2022/12/13  13:47           708ÿ415 Clean_xe3400.csv\n",
      "2022/12/11  13:25           889ÿ882 Clean_xe3600.csv\n",
      "2022/12/11  13:25           808ÿ634 Clean_xe4000.csv\n",
      "2022/11/28  02:14            72ÿ192 cnn_NET1.h5\n",
      "2022/11/28  02:15           978ÿ448 cnn2_NET1.h5\n",
      "2022/11/17  23:42         1ÿ125ÿ254 CNN-o2-models(5).html\n",
      "2022/11/28  05:23           749ÿ761 Combining_sim_data.html\n",
      "2022/11/25  11:01           125ÿ410 predictions_analysis.ipynb\n",
      "2022/11/22  00:06        21ÿ624ÿ058 test.csv\n",
      "2022/12/15  04:04           570ÿ153 TunedGain_ML_results.ipynb\n",
      "2022/12/15  03:59           570ÿ153 TunedGain_ML_results_eap.ipynb\n",
      "              26 File(s)     37ÿ255ÿ582 bytes\n",
      "               4 Dir(s)  298ÿ614ÿ448ÿ128 bytes free\n"
     ]
    }
   ],
   "source": [
    "%ls"
   ]
  },
  {
   "cell_type": "code",
   "execution_count": 11,
   "id": "9ae3d6b8",
   "metadata": {},
   "outputs": [],
   "source": [
    "# retain only the first 90 columns which contain the adc values for each pad column and time bin \n",
    "\n",
    "df20 = pd.read_csv('Clean_simsigs_eap20.csv').iloc[:, :90]\n",
    "\n",
    "df40 = pd.read_csv('Clean_simsigs_eap40.csv').iloc[:, :90]\n",
    "\n",
    "df80 = pd.read_csv('Clean_simsigs_eap80.csv').iloc[:, :90]\n",
    "\n"
   ]
  },
  {
   "cell_type": "code",
   "execution_count": 12,
   "id": "2cb93f23",
   "metadata": {},
   "outputs": [],
   "source": [
    "## Create a label column set to 1 to denote that these are sim signals \n",
    "\n",
    "df20['label'] = 1\n",
    "df40['label'] = 1\n",
    "df80['label'] = 1\n",
    "\n"
   ]
  },
  {
   "cell_type": "markdown",
   "id": "79123237",
   "metadata": {},
   "source": [
    "## Now combine each of these tuned data with our real test data to form a new test set of real signals and tuned sim signals according to a certain gas gain "
   ]
  },
  {
   "cell_type": "code",
   "execution_count": 13,
   "id": "90002b12",
   "metadata": {},
   "outputs": [
    {
     "data": {
      "text/html": [
       "<div>\n",
       "<style scoped>\n",
       "    .dataframe tbody tr th:only-of-type {\n",
       "        vertical-align: middle;\n",
       "    }\n",
       "\n",
       "    .dataframe tbody tr th {\n",
       "        vertical-align: top;\n",
       "    }\n",
       "\n",
       "    .dataframe thead th {\n",
       "        text-align: right;\n",
       "    }\n",
       "</style>\n",
       "<table border=\"1\" class=\"dataframe\">\n",
       "  <thead>\n",
       "    <tr style=\"text-align: right;\">\n",
       "      <th></th>\n",
       "      <th>AN00</th>\n",
       "      <th>AN01</th>\n",
       "      <th>AN02</th>\n",
       "      <th>AN03</th>\n",
       "      <th>AN04</th>\n",
       "      <th>AN05</th>\n",
       "      <th>AN06</th>\n",
       "      <th>AN07</th>\n",
       "      <th>AN08</th>\n",
       "      <th>AN09</th>\n",
       "      <th>...</th>\n",
       "      <th>BN21</th>\n",
       "      <th>BN22</th>\n",
       "      <th>BN23</th>\n",
       "      <th>BN24</th>\n",
       "      <th>BN25</th>\n",
       "      <th>BN26</th>\n",
       "      <th>BN27</th>\n",
       "      <th>BN28</th>\n",
       "      <th>BN29</th>\n",
       "      <th>label</th>\n",
       "    </tr>\n",
       "  </thead>\n",
       "  <tbody>\n",
       "    <tr>\n",
       "      <th>0</th>\n",
       "      <td>12</td>\n",
       "      <td>17</td>\n",
       "      <td>17</td>\n",
       "      <td>13</td>\n",
       "      <td>14</td>\n",
       "      <td>13</td>\n",
       "      <td>8</td>\n",
       "      <td>12</td>\n",
       "      <td>10</td>\n",
       "      <td>11</td>\n",
       "      <td>...</td>\n",
       "      <td>51</td>\n",
       "      <td>61</td>\n",
       "      <td>54</td>\n",
       "      <td>43</td>\n",
       "      <td>34</td>\n",
       "      <td>25</td>\n",
       "      <td>23</td>\n",
       "      <td>22</td>\n",
       "      <td>20</td>\n",
       "      <td>1</td>\n",
       "    </tr>\n",
       "    <tr>\n",
       "      <th>1</th>\n",
       "      <td>13</td>\n",
       "      <td>20</td>\n",
       "      <td>18</td>\n",
       "      <td>17</td>\n",
       "      <td>24</td>\n",
       "      <td>61</td>\n",
       "      <td>79</td>\n",
       "      <td>61</td>\n",
       "      <td>39</td>\n",
       "      <td>31</td>\n",
       "      <td>...</td>\n",
       "      <td>40</td>\n",
       "      <td>31</td>\n",
       "      <td>32</td>\n",
       "      <td>25</td>\n",
       "      <td>26</td>\n",
       "      <td>24</td>\n",
       "      <td>22</td>\n",
       "      <td>22</td>\n",
       "      <td>20</td>\n",
       "      <td>1</td>\n",
       "    </tr>\n",
       "    <tr>\n",
       "      <th>2</th>\n",
       "      <td>37</td>\n",
       "      <td>54</td>\n",
       "      <td>42</td>\n",
       "      <td>29</td>\n",
       "      <td>24</td>\n",
       "      <td>24</td>\n",
       "      <td>45</td>\n",
       "      <td>64</td>\n",
       "      <td>55</td>\n",
       "      <td>39</td>\n",
       "      <td>...</td>\n",
       "      <td>41</td>\n",
       "      <td>36</td>\n",
       "      <td>28</td>\n",
       "      <td>23</td>\n",
       "      <td>22</td>\n",
       "      <td>21</td>\n",
       "      <td>21</td>\n",
       "      <td>21</td>\n",
       "      <td>18</td>\n",
       "      <td>1</td>\n",
       "    </tr>\n",
       "    <tr>\n",
       "      <th>3</th>\n",
       "      <td>34</td>\n",
       "      <td>52</td>\n",
       "      <td>42</td>\n",
       "      <td>31</td>\n",
       "      <td>27</td>\n",
       "      <td>25</td>\n",
       "      <td>24</td>\n",
       "      <td>25</td>\n",
       "      <td>20</td>\n",
       "      <td>23</td>\n",
       "      <td>...</td>\n",
       "      <td>39</td>\n",
       "      <td>30</td>\n",
       "      <td>21</td>\n",
       "      <td>19</td>\n",
       "      <td>20</td>\n",
       "      <td>19</td>\n",
       "      <td>17</td>\n",
       "      <td>16</td>\n",
       "      <td>16</td>\n",
       "      <td>1</td>\n",
       "    </tr>\n",
       "    <tr>\n",
       "      <th>4</th>\n",
       "      <td>34</td>\n",
       "      <td>64</td>\n",
       "      <td>58</td>\n",
       "      <td>43</td>\n",
       "      <td>44</td>\n",
       "      <td>41</td>\n",
       "      <td>34</td>\n",
       "      <td>28</td>\n",
       "      <td>33</td>\n",
       "      <td>36</td>\n",
       "      <td>...</td>\n",
       "      <td>24</td>\n",
       "      <td>18</td>\n",
       "      <td>17</td>\n",
       "      <td>17</td>\n",
       "      <td>15</td>\n",
       "      <td>14</td>\n",
       "      <td>13</td>\n",
       "      <td>14</td>\n",
       "      <td>13</td>\n",
       "      <td>1</td>\n",
       "    </tr>\n",
       "    <tr>\n",
       "      <th>...</th>\n",
       "      <td>...</td>\n",
       "      <td>...</td>\n",
       "      <td>...</td>\n",
       "      <td>...</td>\n",
       "      <td>...</td>\n",
       "      <td>...</td>\n",
       "      <td>...</td>\n",
       "      <td>...</td>\n",
       "      <td>...</td>\n",
       "      <td>...</td>\n",
       "      <td>...</td>\n",
       "      <td>...</td>\n",
       "      <td>...</td>\n",
       "      <td>...</td>\n",
       "      <td>...</td>\n",
       "      <td>...</td>\n",
       "      <td>...</td>\n",
       "      <td>...</td>\n",
       "      <td>...</td>\n",
       "      <td>...</td>\n",
       "      <td>...</td>\n",
       "    </tr>\n",
       "    <tr>\n",
       "      <th>1845</th>\n",
       "      <td>10</td>\n",
       "      <td>10</td>\n",
       "      <td>10</td>\n",
       "      <td>10</td>\n",
       "      <td>12</td>\n",
       "      <td>10</td>\n",
       "      <td>11</td>\n",
       "      <td>12</td>\n",
       "      <td>35</td>\n",
       "      <td>131</td>\n",
       "      <td>...</td>\n",
       "      <td>10</td>\n",
       "      <td>10</td>\n",
       "      <td>11</td>\n",
       "      <td>11</td>\n",
       "      <td>8</td>\n",
       "      <td>13</td>\n",
       "      <td>11</td>\n",
       "      <td>10</td>\n",
       "      <td>12</td>\n",
       "      <td>1</td>\n",
       "    </tr>\n",
       "    <tr>\n",
       "      <th>1846</th>\n",
       "      <td>25</td>\n",
       "      <td>35</td>\n",
       "      <td>47</td>\n",
       "      <td>49</td>\n",
       "      <td>42</td>\n",
       "      <td>40</td>\n",
       "      <td>45</td>\n",
       "      <td>40</td>\n",
       "      <td>35</td>\n",
       "      <td>29</td>\n",
       "      <td>...</td>\n",
       "      <td>37</td>\n",
       "      <td>31</td>\n",
       "      <td>24</td>\n",
       "      <td>18</td>\n",
       "      <td>20</td>\n",
       "      <td>18</td>\n",
       "      <td>18</td>\n",
       "      <td>15</td>\n",
       "      <td>15</td>\n",
       "      <td>1</td>\n",
       "    </tr>\n",
       "    <tr>\n",
       "      <th>1847</th>\n",
       "      <td>17</td>\n",
       "      <td>34</td>\n",
       "      <td>31</td>\n",
       "      <td>24</td>\n",
       "      <td>24</td>\n",
       "      <td>23</td>\n",
       "      <td>21</td>\n",
       "      <td>31</td>\n",
       "      <td>38</td>\n",
       "      <td>30</td>\n",
       "      <td>...</td>\n",
       "      <td>40</td>\n",
       "      <td>31</td>\n",
       "      <td>28</td>\n",
       "      <td>25</td>\n",
       "      <td>24</td>\n",
       "      <td>21</td>\n",
       "      <td>19</td>\n",
       "      <td>19</td>\n",
       "      <td>17</td>\n",
       "      <td>1</td>\n",
       "    </tr>\n",
       "    <tr>\n",
       "      <th>1848</th>\n",
       "      <td>47</td>\n",
       "      <td>110</td>\n",
       "      <td>94</td>\n",
       "      <td>67</td>\n",
       "      <td>51</td>\n",
       "      <td>49</td>\n",
       "      <td>47</td>\n",
       "      <td>44</td>\n",
       "      <td>43</td>\n",
       "      <td>52</td>\n",
       "      <td>...</td>\n",
       "      <td>23</td>\n",
       "      <td>19</td>\n",
       "      <td>17</td>\n",
       "      <td>16</td>\n",
       "      <td>15</td>\n",
       "      <td>13</td>\n",
       "      <td>14</td>\n",
       "      <td>13</td>\n",
       "      <td>13</td>\n",
       "      <td>1</td>\n",
       "    </tr>\n",
       "    <tr>\n",
       "      <th>1849</th>\n",
       "      <td>13</td>\n",
       "      <td>35</td>\n",
       "      <td>47</td>\n",
       "      <td>47</td>\n",
       "      <td>45</td>\n",
       "      <td>50</td>\n",
       "      <td>56</td>\n",
       "      <td>49</td>\n",
       "      <td>50</td>\n",
       "      <td>47</td>\n",
       "      <td>...</td>\n",
       "      <td>25</td>\n",
       "      <td>21</td>\n",
       "      <td>17</td>\n",
       "      <td>15</td>\n",
       "      <td>16</td>\n",
       "      <td>14</td>\n",
       "      <td>12</td>\n",
       "      <td>12</td>\n",
       "      <td>14</td>\n",
       "      <td>1</td>\n",
       "    </tr>\n",
       "  </tbody>\n",
       "</table>\n",
       "<p>1850 rows × 91 columns</p>\n",
       "</div>"
      ],
      "text/plain": [
       "      AN00  AN01  AN02  AN03  AN04  AN05  AN06  AN07  AN08  AN09  ...  BN21  \\\n",
       "0       12    17    17    13    14    13     8    12    10    11  ...    51   \n",
       "1       13    20    18    17    24    61    79    61    39    31  ...    40   \n",
       "2       37    54    42    29    24    24    45    64    55    39  ...    41   \n",
       "3       34    52    42    31    27    25    24    25    20    23  ...    39   \n",
       "4       34    64    58    43    44    41    34    28    33    36  ...    24   \n",
       "...    ...   ...   ...   ...   ...   ...   ...   ...   ...   ...  ...   ...   \n",
       "1845    10    10    10    10    12    10    11    12    35   131  ...    10   \n",
       "1846    25    35    47    49    42    40    45    40    35    29  ...    37   \n",
       "1847    17    34    31    24    24    23    21    31    38    30  ...    40   \n",
       "1848    47   110    94    67    51    49    47    44    43    52  ...    23   \n",
       "1849    13    35    47    47    45    50    56    49    50    47  ...    25   \n",
       "\n",
       "      BN22  BN23  BN24  BN25  BN26  BN27  BN28  BN29  label  \n",
       "0       61    54    43    34    25    23    22    20      1  \n",
       "1       31    32    25    26    24    22    22    20      1  \n",
       "2       36    28    23    22    21    21    21    18      1  \n",
       "3       30    21    19    20    19    17    16    16      1  \n",
       "4       18    17    17    15    14    13    14    13      1  \n",
       "...    ...   ...   ...   ...   ...   ...   ...   ...    ...  \n",
       "1845    10    11    11     8    13    11    10    12      1  \n",
       "1846    31    24    18    20    18    18    15    15      1  \n",
       "1847    31    28    25    24    21    19    19    17      1  \n",
       "1848    19    17    16    15    13    14    13    13      1  \n",
       "1849    21    17    15    16    14    12    12    14      1  \n",
       "\n",
       "[1850 rows x 91 columns]"
      ]
     },
     "execution_count": 13,
     "metadata": {},
     "output_type": "execute_result"
    }
   ],
   "source": [
    "df20"
   ]
  },
  {
   "cell_type": "code",
   "execution_count": 14,
   "id": "81f5ee96",
   "metadata": {},
   "outputs": [
    {
     "data": {
      "text/plain": [
       "(1850, 91)"
      ]
     },
     "execution_count": 14,
     "metadata": {},
     "output_type": "execute_result"
    }
   ],
   "source": [
    "df20.shape"
   ]
  },
  {
   "cell_type": "code",
   "execution_count": null,
   "id": "ec4842a4",
   "metadata": {},
   "outputs": [],
   "source": []
  },
  {
   "cell_type": "code",
   "execution_count": 15,
   "id": "839a1fb6",
   "metadata": {},
   "outputs": [],
   "source": [
    "# Now join each tuned set to our real test set to create a new test set based on the new tuned sim signals \n",
    "\n",
    "test20 = real_test.append(df20, ignore_index=True)\n",
    "test40 = real_test.append(df40, ignore_index=True)\n",
    "test80 = real_test.append(df80, ignore_index=True)\n",
    "\n"
   ]
  },
  {
   "cell_type": "code",
   "execution_count": null,
   "id": "c0f3a1ff",
   "metadata": {},
   "outputs": [],
   "source": []
  },
  {
   "cell_type": "markdown",
   "id": "1c0a4186",
   "metadata": {},
   "source": [
    "### Now from these new test sets we will perform furhter preparation for ML prediction "
   ]
  },
  {
   "cell_type": "code",
   "execution_count": 16,
   "id": "14fd2f6a",
   "metadata": {},
   "outputs": [],
   "source": [
    "sig_20 = np.array(test20.iloc[:, :90]).reshape(len(test20), 3, 30)\n",
    "sig_40 = np.array(test40.iloc[:, :90]).reshape(len(test40), 3, 30)\n",
    "sig_80 = np.array(test80.iloc[:, :90]).reshape(len(test80), 3, 30)\n",
    "\n",
    "\n"
   ]
  },
  {
   "cell_type": "code",
   "execution_count": 17,
   "id": "be8f6567",
   "metadata": {},
   "outputs": [],
   "source": [
    "sig_20_n = sig_20/1023\n",
    "sig_40_n = sig_40/1023\n",
    "sig_80_n = sig_80/1023\n",
    "\n",
    "\n",
    "\n"
   ]
  },
  {
   "cell_type": "code",
   "execution_count": null,
   "id": "8f983f40",
   "metadata": {},
   "outputs": [],
   "source": []
  },
  {
   "cell_type": "code",
   "execution_count": 18,
   "id": "d245068d",
   "metadata": {},
   "outputs": [],
   "source": [
    "# Now get the corresponding labels \n",
    "\n",
    "lab20 = np.array(test20.label)\n",
    "lab40 = np.array(test40.label)\n",
    "lab80 = np.array(test80.label)\n",
    "\n",
    "\n"
   ]
  },
  {
   "cell_type": "code",
   "execution_count": 19,
   "id": "6ee8ca79",
   "metadata": {},
   "outputs": [],
   "source": [
    "# Now one hot encode them \n",
    "lab20_ohe = keras.utils.np_utils.to_categorical(lab20, 2)\n",
    "lab40_ohe = keras.utils.np_utils.to_categorical(lab40, 2)\n",
    "lab80_ohe = keras.utils.np_utils.to_categorical(lab80, 2)\n",
    "\n",
    "\n",
    "\n",
    "\n"
   ]
  },
  {
   "cell_type": "code",
   "execution_count": null,
   "id": "2232addc",
   "metadata": {},
   "outputs": [],
   "source": []
  },
  {
   "cell_type": "markdown",
   "id": "064da59e",
   "metadata": {},
   "source": [
    "# Load the best keras CNN model we have trained so far "
   ]
  },
  {
   "cell_type": "code",
   "execution_count": 20,
   "id": "3ae6b84a",
   "metadata": {},
   "outputs": [],
   "source": [
    "cnn2 = load_model('cnn2_NET1.h5')"
   ]
  },
  {
   "cell_type": "code",
   "execution_count": 21,
   "id": "45a236e3",
   "metadata": {},
   "outputs": [
    {
     "name": "stdout",
     "output_type": "stream",
     "text": [
      "Model: \"sequential\"\n",
      "_________________________________________________________________\n",
      " Layer (type)                Output Shape              Param #   \n",
      "=================================================================\n",
      " convol2D (Conv2D)           (None, 3, 30, 120)        1200      \n",
      "                                                                 \n",
      " maxpool (MaxPooling2D)      (None, 1, 10, 120)        0         \n",
      "                                                                 \n",
      " flatten (Flatten)           (None, 1200)              0         \n",
      "                                                                 \n",
      " dropout (Dropout)           (None, 1200)              0         \n",
      "                                                                 \n",
      " hidden_layer (Dense)        (None, 64)                76864     \n",
      "                                                                 \n",
      " dropout_1 (Dropout)         (None, 64)                0         \n",
      "                                                                 \n",
      " Dense-output (Dense)        (None, 2)                 130       \n",
      "                                                                 \n",
      "=================================================================\n",
      "Total params: 78,194\n",
      "Trainable params: 78,194\n",
      "Non-trainable params: 0\n",
      "_________________________________________________________________\n"
     ]
    }
   ],
   "source": [
    "cnn2.summary()"
   ]
  },
  {
   "cell_type": "markdown",
   "id": "656718e7",
   "metadata": {},
   "source": [
    "## Perform some filter visualization later here ..."
   ]
  },
  {
   "cell_type": "code",
   "execution_count": null,
   "id": "7e15b734",
   "metadata": {},
   "outputs": [],
   "source": []
  },
  {
   "cell_type": "markdown",
   "id": "07069b7d",
   "metadata": {},
   "source": [
    "# Now predict on the various test data "
   ]
  },
  {
   "cell_type": "code",
   "execution_count": 22,
   "id": "8bd2f8a4",
   "metadata": {},
   "outputs": [],
   "source": [
    "prob20_cnn2 = cnn2.predict(sig_20_n)\n",
    "prob40_cnn2 = cnn2.predict(sig_40_n)\n",
    "prob80_cnn2 = cnn2.predict(sig_80_n)\n",
    "\n",
    "\n"
   ]
  },
  {
   "cell_type": "code",
   "execution_count": 23,
   "id": "ecc4f63c",
   "metadata": {},
   "outputs": [],
   "source": [
    "pred20_cnn2 = np.argmax(prob20_cnn2, axis=1)\n",
    "pred40_cnn2 = np.argmax(prob40_cnn2, axis=1)\n",
    "pred80_cnn2 = np.argmax(prob80_cnn2, axis=1)\n"
   ]
  },
  {
   "cell_type": "code",
   "execution_count": null,
   "id": "b56ae137",
   "metadata": {},
   "outputs": [],
   "source": []
  },
  {
   "cell_type": "code",
   "execution_count": 24,
   "id": "0ba759c6",
   "metadata": {},
   "outputs": [],
   "source": [
    "from sklearn import metrics"
   ]
  },
  {
   "cell_type": "markdown",
   "id": "985df598",
   "metadata": {},
   "source": [
    "# Now get the performance metrics "
   ]
  },
  {
   "cell_type": "code",
   "execution_count": 25,
   "id": "b880949a",
   "metadata": {},
   "outputs": [],
   "source": [
    "Prec_20 = metrics.precision_score(lab20, pred20_cnn2, pos_label=1)\n",
    "rec_20 = metrics.recall_score(lab20, pred20_cnn2, pos_label=1)\n",
    "Spec_20 = metrics.recall_score(lab20, pred20_cnn2, pos_label=1)\n",
    "F1_20 = metrics.f1_score(lab20, pred20_cnn2, pos_label=1)\n",
    "Acc_20 = metrics.accuracy_score(lab20, pred20_cnn2)"
   ]
  },
  {
   "cell_type": "code",
   "execution_count": 26,
   "id": "6f9dc328",
   "metadata": {},
   "outputs": [],
   "source": [
    "Prec_40 = metrics.precision_score(lab40, pred40_cnn2, pos_label=1)\n",
    "rec_40 = metrics.recall_score(lab40, pred40_cnn2, pos_label=1)\n",
    "Spec_40 = metrics.recall_score(lab40, pred40_cnn2, pos_label=1)\n",
    "F1_40 = metrics.f1_score(lab40, pred40_cnn2, pos_label=1)\n",
    "Acc_40 = metrics.accuracy_score(lab40, pred40_cnn2)"
   ]
  },
  {
   "cell_type": "code",
   "execution_count": 27,
   "id": "7800a714",
   "metadata": {},
   "outputs": [],
   "source": [
    "Prec_80 = metrics.precision_score(lab80, pred80_cnn2, pos_label=1)\n",
    "rec_80 = metrics.recall_score(lab80, pred80_cnn2, pos_label=1)\n",
    "Spec_80 = metrics.recall_score(lab80, pred80_cnn2, pos_label=1)\n",
    "F1_80 = metrics.f1_score(lab80, pred80_cnn2, pos_label=1)\n",
    "Acc_80 = metrics.accuracy_score(lab80, pred80_cnn2)"
   ]
  },
  {
   "cell_type": "code",
   "execution_count": null,
   "id": "6ed42894",
   "metadata": {},
   "outputs": [],
   "source": []
  },
  {
   "cell_type": "code",
   "execution_count": null,
   "id": "f487e502",
   "metadata": {},
   "outputs": [],
   "source": []
  },
  {
   "cell_type": "code",
   "execution_count": 28,
   "id": "12a0f91f",
   "metadata": {},
   "outputs": [],
   "source": [
    "metrics_cnn2 = pd.DataFrame({'Precision':[Prec_20, Prec_40, Prec_80],\n",
    "                            'Recall':[rec_20, rec_40, rec_80],\n",
    "                            'Specificity':[Spec_20, Spec_40, Spec_80],\n",
    "                            'F1':[F1_20, F1_40, F1_80],\n",
    "                            'Accuracy':[Acc_20, Acc_40, Acc_80],\n",
    "                            'Gain':[0.20, 0.40, 0.80]})"
   ]
  },
  {
   "cell_type": "code",
   "execution_count": 29,
   "id": "b35cf59a",
   "metadata": {},
   "outputs": [
    {
     "data": {
      "text/html": [
       "<div>\n",
       "<style scoped>\n",
       "    .dataframe tbody tr th:only-of-type {\n",
       "        vertical-align: middle;\n",
       "    }\n",
       "\n",
       "    .dataframe tbody tr th {\n",
       "        vertical-align: top;\n",
       "    }\n",
       "\n",
       "    .dataframe thead th {\n",
       "        text-align: right;\n",
       "    }\n",
       "</style>\n",
       "<table border=\"1\" class=\"dataframe\">\n",
       "  <thead>\n",
       "    <tr style=\"text-align: right;\">\n",
       "      <th></th>\n",
       "      <th>Precision</th>\n",
       "      <th>Recall</th>\n",
       "      <th>Specificity</th>\n",
       "      <th>F1</th>\n",
       "      <th>Accuracy</th>\n",
       "      <th>Gain</th>\n",
       "    </tr>\n",
       "  </thead>\n",
       "  <tbody>\n",
       "    <tr>\n",
       "      <th>0</th>\n",
       "      <td>0.695882</td>\n",
       "      <td>0.995676</td>\n",
       "      <td>0.995676</td>\n",
       "      <td>0.819213</td>\n",
       "      <td>0.986884</td>\n",
       "      <td>0.2</td>\n",
       "    </tr>\n",
       "    <tr>\n",
       "      <th>1</th>\n",
       "      <td>0.719805</td>\n",
       "      <td>0.993276</td>\n",
       "      <td>0.993276</td>\n",
       "      <td>0.834712</td>\n",
       "      <td>0.986836</td>\n",
       "      <td>0.4</td>\n",
       "    </tr>\n",
       "    <tr>\n",
       "      <th>2</th>\n",
       "      <td>0.726284</td>\n",
       "      <td>0.996734</td>\n",
       "      <td>0.996734</td>\n",
       "      <td>0.840283</td>\n",
       "      <td>0.986961</td>\n",
       "      <td>0.8</td>\n",
       "    </tr>\n",
       "  </tbody>\n",
       "</table>\n",
       "</div>"
      ],
      "text/plain": [
       "   Precision    Recall  Specificity        F1  Accuracy  Gain\n",
       "0   0.695882  0.995676     0.995676  0.819213  0.986884   0.2\n",
       "1   0.719805  0.993276     0.993276  0.834712  0.986836   0.4\n",
       "2   0.726284  0.996734     0.996734  0.840283  0.986961   0.8"
      ]
     },
     "execution_count": 29,
     "metadata": {},
     "output_type": "execute_result"
    }
   ],
   "source": [
    "metrics_cnn2"
   ]
  },
  {
   "cell_type": "code",
   "execution_count": 30,
   "id": "21bb6fe4",
   "metadata": {},
   "outputs": [
    {
     "data": {
      "image/png": "[encoded data removed]",
      "text/plain": [
       "<Figure size 864x576 with 1 Axes>"
      ]
     },
     "metadata": {
      "needs_background": "light"
     },
     "output_type": "display_data"
    }
   ],
   "source": [
    "plt.figure(figsize=(12, 8))\n",
    "#plt.plot(metrics_cnn2['Gain'], metrics_cnn2['Accuracy'], color='steelblue', marker='o')\n",
    "#plt.plot(metrics_cnn2['Gain'], metrics_cnn2['Precision'], color='red', marker='o', label='precision')\n",
    "plt.plot(metrics_cnn2['Gain'], metrics_cnn2['Recall'], color='orange', marker='o', label='Recall')\n",
    "plt.axhline(y=0.996225, linestyle='--', color='black', label='Initial test recall = 0.996225')\n",
    "#plt.plot(metrics_cnn2['Gain'], metrics_cnn2['Specificity'], color='deeppink', marker='o', label='specificity')\n",
    "#plt.plot(metrics_cnn2['Gain'], metrics_cnn2['F1'], color='cyan', marker='o', label='F1')\n",
    "#plt.xlim(2600, 4000)\n",
    "#plt.ylim(0.98, 1)\n",
    "plt.legend()\n",
    "plt.show()"
   ]
  },
  {
   "cell_type": "code",
   "execution_count": 31,
   "id": "3e6adb39",
   "metadata": {},
   "outputs": [
    {
     "data": {
      "image/png": "[encoded data removed]",
      "text/plain": [
       "<Figure size 864x576 with 1 Axes>"
      ]
     },
     "metadata": {
      "needs_background": "light"
     },
     "output_type": "display_data"
    }
   ],
   "source": [
    "plt.figure(figsize=(12, 8))\n",
    "#plt.plot(metrics_cnn2['Gain'], metrics_cnn2['Accuracy'], color='steelblue', marker='o')\n",
    "#plt.plot(metrics_cnn2['Gain'], metrics_cnn2['Precision'], color='red', marker='o', label='precision')\n",
    "plt.plot(metrics_cnn2['Gain'], metrics_cnn2['Recall'], color='springgreen', marker='o', label='Recall')\n",
    "plt.axhline(y=0.996225, linestyle='--', color='black', label='Initial test recall = 0.996225')\n",
    "#plt.plot(metrics_cnn2['Gain'], metrics_cnn2['Specificity'], color='deeppink', marker='o', label='specificity')\n",
    "#plt.plot(metrics_cnn2['Gain'], metrics_cnn2['F1'], color='cyan', marker='o', label='F1')\n",
    "#plt.xlim(2600, 4000)\n",
    "#plt.ylim(0.98, 1)\n",
    "plt.ylabel(\"Recall\", fontsize=14)\n",
    "plt.xlabel(\"Gas gain\", fontsize=14)\n",
    "plt.legend()\n",
    "plt.show()"
   ]
  },
  {
   "cell_type": "code",
   "execution_count": 32,
   "id": "b9a2667a",
   "metadata": {},
   "outputs": [
    {
     "data": {
      "image/png": "[encoded data removed]",
      "text/plain": [
       "<Figure size 864x576 with 1 Axes>"
      ]
     },
     "metadata": {
      "needs_background": "light"
     },
     "output_type": "display_data"
    }
   ],
   "source": [
    "plt.figure(figsize=(12, 8))\n",
    "plt.plot(metrics_cnn2['Gain'], metrics_cnn2['Accuracy'], color='royalblue', marker='o')\n",
    "plt.axhline(y=0.989024, linestyle='--', color='black', label=\"Untuned test accuracy\")\n",
    "plt.xlabel(\"Gas gain\",fontsize=14)\n",
    "plt.ylabel(\"Accuracy\",fontsize=14)\n",
    "plt.show()"
   ]
  },
  {
   "cell_type": "code",
   "execution_count": 33,
   "id": "584e3dcf",
   "metadata": {},
   "outputs": [
    {
     "data": {
      "image/png": "[encoded data removed]",
      "text/plain": [
       "<Figure size 864x576 with 1 Axes>"
      ]
     },
     "metadata": {
      "needs_background": "light"
     },
     "output_type": "display_data"
    }
   ],
   "source": [
    "plt.figure(figsize=(12, 8))\n",
    "#plt.plot(metrics_cnn2['Gain'], metrics_cnn2['Recall'], color='steelblue', marker='o')\n",
    "plt.plot(metrics_cnn2['Gain'], metrics_cnn2['Precision'], color='red', marker='o')\n",
    "plt.axhline(y=0.961414, color='black', linestyle='--', label='untuned test precision')\n",
    "plt.ylabel(\"Precision\",fontsize=14)\n",
    "plt.xlabel(\"Gas gain\",fontsize=14)\n",
    "plt.legend()\n",
    "plt.show()"
   ]
  },
  {
   "cell_type": "code",
   "execution_count": 35,
   "id": "35e8ff5b",
   "metadata": {},
   "outputs": [
    {
     "data": {
      "image/png": "[encoded data removed]",
      "text/plain": [
       "<Figure size 864x576 with 1 Axes>"
      ]
     },
     "metadata": {
      "needs_background": "light"
     },
     "output_type": "display_data"
    }
   ],
   "source": [
    "plt.figure(figsize=(12, 8))\n",
    "#plt.plot(metrics_cnn2['Gain'], metrics_cnn2['Recall'], color='steelblue', marker='o')\n",
    "plt.plot(metrics_cnn2['Gain'], metrics_cnn2['Precision'], color='red', marker='o')\n",
    "plt.axhline(y=0.961414, color='black', linestyle='--', label='untuned test precision')\n",
    "plt.ylabel(\"Precision\",fontsize=14)\n",
    "plt.xlabel(\"Gas gain\",fontsize=14)\n",
    "#plt.xlim(2400, 4000)\n",
    "#plt.ylim(0.55, 0.981)\n",
    "plt.legend()\n",
    "plt.show()"
   ]
  },
  {
   "cell_type": "code",
   "execution_count": 37,
   "id": "fc800b7c",
   "metadata": {},
   "outputs": [
    {
     "data": {
      "image/png": "[encoded data removed]",
      "text/plain": [
       "<Figure size 864x576 with 1 Axes>"
      ]
     },
     "metadata": {
      "needs_background": "light"
     },
     "output_type": "display_data"
    }
   ],
   "source": [
    "plt.figure(figsize=(12, 8))\n",
    "#plt.plot(metrics_cnn2['Gain'], metrics_cnn2['Recall'], color='steelblue', marker='o')\n",
    "plt.plot(metrics_cnn2['Gain'], metrics_cnn2['F1'], color='purple', marker='o')\n",
    "plt.axhline(y=0.9785106, color='black', linestyle='--', label=\"initial test F1 score\")\n",
    "plt.ylabel(\"F1 score\",fontsize=14)\n",
    "plt.xlabel(\"Gas gain\",fontsize=14)\n",
    "plt.legend()\n",
    "plt.show()"
   ]
  },
  {
   "cell_type": "code",
   "execution_count": 36,
   "id": "2937f8d9",
   "metadata": {},
   "outputs": [
    {
     "data": {
      "image/png": "[encoded data removed]",
      "text/plain": [
       "<Figure size 864x576 with 1 Axes>"
      ]
     },
     "metadata": {
      "needs_background": "light"
     },
     "output_type": "display_data"
    }
   ],
   "source": [
    "plt.figure(figsize=(12, 8))\n",
    "#plt.plot(metrics_cnn2['Gain'], metrics_cnn2['Recall'], color='steelblue', marker='o')\n",
    "plt.plot(metrics_cnn2['Gain'], metrics_cnn2['F1'], color='purple', marker='o')\n",
    "plt.axhline(y=0.9785106, color='black', linestyle='--', label=\"initial test F1 score\")\n",
    "plt.ylabel(\"F1 score\",fontsize=14)\n",
    "plt.xlabel(\"Gas gain\",fontsize=14)\n",
    "#plt.xlim(2400, 4000)\n",
    "plt.ylim(0.7, 1)\n",
    "plt.legend()\n",
    "plt.show()"
   ]
  },
  {
   "cell_type": "code",
   "execution_count": 39,
   "id": "ccb02a9f",
   "metadata": {},
   "outputs": [],
   "source": [
    "from avgph import *"
   ]
  },
  {
   "cell_type": "code",
   "execution_count": 40,
   "id": "f48b3cca",
   "metadata": {},
   "outputs": [],
   "source": [
    "t20, adc20 = pharray(df20)\n",
    "\n",
    "t40, adc40 = pharray(df40)\n",
    "\n",
    "t80, adc80 = pharray(df80)\n",
    "\n"
   ]
  },
  {
   "cell_type": "code",
   "execution_count": 41,
   "id": "3eecd536",
   "metadata": {},
   "outputs": [],
   "source": [
    "tr, adcr = pharray(real_test)"
   ]
  },
  {
   "cell_type": "code",
   "execution_count": 42,
   "id": "32e4e60b",
   "metadata": {},
   "outputs": [
    {
     "data": {
      "image/png": "[encoded data removed]",
      "text/plain": [
       "<Figure size 1008x504 with 1 Axes>"
      ]
     },
     "metadata": {
      "needs_background": "light"
     },
     "output_type": "display_data"
    }
   ],
   "source": [
    "plt.figure(figsize=(14, 7))\n",
    "plt.plot(t20, adc20, label='EAP=0.2', linestyle='--')\n",
    "plt.plot(t40, adc40, label='EAP=0.4', linestyle='-')\n",
    "\n",
    "plt.plot(t80, adc80, label='EAP=0.8', linestyle='--')\n",
    "\n",
    "plt.plot(tr, adcr, label='real sample', marker='o', color='red')\n",
    "plt.xlabel(\"Time bin (100ns)\")\n",
    "plt.ylabel(\"ADC\")\n",
    "plt.legend()\n",
    "plt.show()"
   ]
  },
  {
   "cell_type": "markdown",
   "id": "ac50b111",
   "metadata": {},
   "source": [
    "# Confusion matrices"
   ]
  },
  {
   "cell_type": "code",
   "execution_count": 121,
   "id": "0487a0d1",
   "metadata": {},
   "outputs": [
    {
     "data": {
      "image/png": "[encoded data removed]",
      "text/plain": [
       "<Figure size 432x288 with 2 Axes>"
      ]
     },
     "metadata": {
      "needs_background": "light"
     },
     "output_type": "display_data"
    }
   ],
   "source": [
    "confusion_mat_1000 = metrics.confusion_matrix(lab1000, pred1000_cnn2, labels=[0, 1])\n",
    "cm_display_1000 = metrics.ConfusionMatrixDisplay(confusion_matrix = confusion_mat_1000, display_labels = [\"Real\", \"Sim\"])\n",
    "\n",
    "cm_display_1000.plot(cmap='YlOrRd')\n",
    "plt.show()"
   ]
  },
  {
   "cell_type": "code",
   "execution_count": 164,
   "id": "9bf2c9d9",
   "metadata": {},
   "outputs": [
    {
     "data": {
      "text/plain": [
       "0.11245865490628446"
      ]
     },
     "execution_count": 164,
     "metadata": {},
     "output_type": "execute_result"
    }
   ],
   "source": [
    "102/(102+805)"
   ]
  },
  {
   "cell_type": "code",
   "execution_count": 122,
   "id": "59b80b92",
   "metadata": {},
   "outputs": [
    {
     "data": {
      "image/png": "[encoded data removed]",
      "text/plain": [
       "<Figure size 432x288 with 2 Axes>"
      ]
     },
     "metadata": {
      "needs_background": "light"
     },
     "output_type": "display_data"
    }
   ],
   "source": [
    "confusion_mat_2000 = metrics.confusion_matrix(lab2000, pred2000_cnn2, labels=[0, 1])\n",
    "cm_display_2000 = metrics.ConfusionMatrixDisplay(confusion_matrix = confusion_mat_2000, display_labels = [\"Real\", \"Sim\"])\n",
    "\n",
    "cm_display_2000.plot(cmap='YlOrRd')\n",
    "plt.show()"
   ]
  },
  {
   "cell_type": "code",
   "execution_count": 123,
   "id": "05a43e66",
   "metadata": {},
   "outputs": [
    {
     "data": {
      "image/png": "[encoded data removed]",
      "text/plain": [
       "<Figure size 432x288 with 2 Axes>"
      ]
     },
     "metadata": {
      "needs_background": "light"
     },
     "output_type": "display_data"
    }
   ],
   "source": [
    "confusion_mat_3000 = metrics.confusion_matrix(lab3000, pred3000_cnn2, labels=[0, 1])\n",
    "cm_display_3000 = metrics.ConfusionMatrixDisplay(confusion_matrix = confusion_mat_3000, display_labels = [\"Real\", \"Sim\"])\n",
    "\n",
    "cm_display_3000.plot(cmap='YlOrRd')\n",
    "plt.show()"
   ]
  },
  {
   "cell_type": "code",
   "execution_count": null,
   "id": "208f5f01",
   "metadata": {},
   "outputs": [],
   "source": []
  },
  {
   "cell_type": "code",
   "execution_count": 120,
   "id": "2e8e346a",
   "metadata": {},
   "outputs": [],
   "source": [
    "import seaborn as sns "
   ]
  },
  {
   "cell_type": "code",
   "execution_count": 89,
   "id": "15f4cd8b",
   "metadata": {},
   "outputs": [
    {
     "data": {
      "text/plain": [
       "<AxesSubplot:>"
      ]
     },
     "execution_count": 89,
     "metadata": {},
     "output_type": "execute_result"
    },
    {
     "data": {
      "image/png": "[encoded data removed]",
      "text/plain": [
       "<Figure size 720x288 with 2 Axes>"
      ]
     },
     "metadata": {
      "needs_background": "light"
     },
     "output_type": "display_data"
    }
   ],
   "source": [
    "plt.figure(figsize=(10,4))\n",
    "sns.heatmap(sig_1000_n[10], cmap='viridis')"
   ]
  },
  {
   "cell_type": "code",
   "execution_count": 90,
   "id": "da8c8735",
   "metadata": {},
   "outputs": [],
   "source": [
    "fout = cnn2.layers[0].output\n",
    "fin = cnn2.layers[0].input\n",
    "\n",
    "flmod = Model(inputs = fin, outputs=fout)\n",
    "act = flmod.predict(sig_1000_n)"
   ]
  },
  {
   "cell_type": "code",
   "execution_count": 97,
   "id": "8ba95211",
   "metadata": {},
   "outputs": [
    {
     "data": {
      "text/plain": [
       "(30, 120)"
      ]
     },
     "execution_count": 97,
     "metadata": {},
     "output_type": "execute_result"
    }
   ],
   "source": [
    "act[0][0].shape"
   ]
  },
  {
   "cell_type": "code",
   "execution_count": 125,
   "id": "b73e8f9b",
   "metadata": {
    "scrolled": false
   },
   "outputs": [
    {
     "data": {
      "image/png": "[encoded data removed]",
      "text/plain": [
       "<Figure size 720x288 with 2 Axes>"
      ]
     },
     "metadata": {
      "needs_background": "light"
     },
     "output_type": "display_data"
    },
    {
     "data": {
      "image/png": "[encoded data removed]",
      "text/plain": [
       "<Figure size 720x288 with 2 Axes>"
      ]
     },
     "metadata": {
      "needs_background": "light"
     },
     "output_type": "display_data"
    },
    {
     "data": {
      "image/png": "[encoded data removed]",
      "text/plain": [
       "<Figure size 720x288 with 2 Axes>"
      ]
     },
     "metadata": {
      "needs_background": "light"
     },
     "output_type": "display_data"
    },
    {
     "data": {
      "image/png": "[encoded data removed]",
      "text/plain": [
       "<Figure size 720x288 with 2 Axes>"
      ]
     },
     "metadata": {
      "needs_background": "light"
     },
     "output_type": "display_data"
    },
    {
     "data": {
      "image/png": "[encoded data removed]",
      "text/plain": [
       "<Figure size 720x288 with 2 Axes>"
      ]
     },
     "metadata": {
      "needs_background": "light"
     },
     "output_type": "display_data"
    },
    {
     "data": {
      "image/png": "[encoded data removed]",
      "text/plain": [
       "<Figure size 720x288 with 2 Axes>"
      ]
     },
     "metadata": {
      "needs_background": "light"
     },
     "output_type": "display_data"
    },
    {
     "data": {
      "image/png": "[encoded data removed]",
      "text/plain": [
       "<Figure size 720x288 with 2 Axes>"
      ]
     },
     "metadata": {
      "needs_background": "light"
     },
     "output_type": "display_data"
    },
    {
     "data": {
      "image/png": "[encoded data removed]",
      "text/plain": [
       "<Figure size 720x288 with 2 Axes>"
      ]
     },
     "metadata": {
      "needs_background": "light"
     },
     "output_type": "display_data"
    },
    {
     "data": {
      "image/png": "[encoded data removed]",
      "text/plain": [
       "<Figure size 720x288 with 2 Axes>"
      ]
     },
     "metadata": {
      "needs_background": "light"
     },
     "output_type": "display_data"
    },
    {
     "data": {
      "image/png": "[encoded data removed]",
      "text/plain": [
       "<Figure size 720x288 with 2 Axes>"
      ]
     },
     "metadata": {
      "needs_background": "light"
     },
     "output_type": "display_data"
    }
   ],
   "source": [
    "for i in range(10):\n",
    "    plt.figure(figsize=(10, 4))\n",
    "    sns.heatmap(act[0, :, :, i], cmap='plasma')"
   ]
  },
  {
   "cell_type": "code",
   "execution_count": 150,
   "id": "28fc3394",
   "metadata": {},
   "outputs": [
    {
     "data": {
      "text/plain": [
       "(60269, 91)"
      ]
     },
     "execution_count": 150,
     "metadata": {},
     "output_type": "execute_result"
    }
   ],
   "source": [
    "test1000.shape"
   ]
  },
  {
   "cell_type": "code",
   "execution_count": 151,
   "id": "570e9e03",
   "metadata": {},
   "outputs": [
    {
     "data": {
      "text/plain": [
       "(60755, 91)"
      ]
     },
     "execution_count": 151,
     "metadata": {},
     "output_type": "execute_result"
    }
   ],
   "source": [
    "test1400.shape"
   ]
  },
  {
   "cell_type": "code",
   "execution_count": 152,
   "id": "aeae2e75",
   "metadata": {},
   "outputs": [
    {
     "data": {
      "text/plain": [
       "(61667, 91)"
      ]
     },
     "execution_count": 152,
     "metadata": {},
     "output_type": "execute_result"
    }
   ],
   "source": [
    "test2400.shape"
   ]
  },
  {
   "cell_type": "code",
   "execution_count": 153,
   "id": "2ed9a8c5",
   "metadata": {},
   "outputs": [
    {
     "data": {
      "text/plain": [
       "(61557, 91)"
      ]
     },
     "execution_count": 153,
     "metadata": {},
     "output_type": "execute_result"
    }
   ],
   "source": [
    "test2700.shape"
   ]
  },
  {
   "cell_type": "code",
   "execution_count": null,
   "id": "8ea80142",
   "metadata": {},
   "outputs": [],
   "source": []
  }
 ],
 "metadata": {
  "kernelspec": {
   "display_name": "Python 3 (ipykernel)",
   "language": "python",
   "name": "python3"
  },
  "language_info": {
   "codemirror_mode": {
    "name": "ipython",
    "version": 3
   },
   "file_extension": ".py",
   "mimetype": "text/x-python",
   "name": "python",
   "nbconvert_exporter": "python",
   "pygments_lexer": "ipython3",
   "version": "3.9.7"
  }
 },
 "nbformat": 4,
 "nbformat_minor": 5
}
