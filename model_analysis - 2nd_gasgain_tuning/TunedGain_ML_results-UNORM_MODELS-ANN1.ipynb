{
 "cells": [
  {
   "cell_type": "markdown",
   "id": "2304b67a",
   "metadata": {},
   "source": [
    "# This notebook assess the effect of tuning the Xe gas gain in the $O^2$ simulation on our ML discrimination capability "
   ]
  },
  {
   "cell_type": "code",
   "execution_count": 1,
   "id": "c999276e",
   "metadata": {},
   "outputs": [],
   "source": [
    "import numpy as np\n",
    "import matplotlib.pyplot as plt \n",
    "import pandas as pd\n",
    "import keras \n",
    "from keras.models import Sequential\n",
    "from keras.layers import Dense \n",
    "import tensorflow\n",
    "#from tensorflow.keras.utils import to_categorical\n",
    "from keras import layers\n",
    "#from keras.utils import to_categorical\n",
    "from keras.callbacks import EarlyStopping\n",
    "from keras.datasets import mnist\n",
    "from keras.models import Model\n",
    "from keras.layers import Dense, Input\n",
    "from keras.layers import Conv2D, MaxPooling2D, Dropout, Flatten\n",
    "from keras import backend as K\n",
    "from keras.utils import np_utils\n",
    "\n",
    "from tensorflow.keras.models import load_model"
   ]
  },
  {
   "cell_type": "code",
   "execution_count": 2,
   "id": "0d7293b0",
   "metadata": {},
   "outputs": [
    {
     "name": "stdout",
     "output_type": "stream",
     "text": [
      " Volume in drive C is Windows\n",
      " Volume Serial Number is 4051-E7E7\n",
      "\n",
      " Directory of C:\\Users\\Nikhiel\\Desktop\\model_analysis\n",
      "\n",
      "2023/01/19  10:03    <DIR>          .\n",
      "2023/01/19  09:24    <DIR>          ..\n",
      "2023/01/19  09:59    <DIR>          .ipynb_checkpoints\n",
      "2022/12/13  08:10    <DIR>          __pycache__\n",
      "2022/11/28  10:04         1ÿ459ÿ166 Analysis_of_nets(1)_updated.html\n",
      "2022/11/28  21:35           800ÿ771 Analysis_of_nets.ipynb\n",
      "2022/11/28  02:11           161ÿ352 ann1.h5\n",
      "2022/11/06  00:42             2ÿ899 avgph.py\n",
      "2022/12/14  10:42           758ÿ157 Clean_simsigs_eap20.csv\n",
      "2022/12/14  11:02           851ÿ214 Clean_simsigs_eap40.csv\n",
      "2022/12/14  11:33           876ÿ566 Clean_simsigs_eap80.csv\n",
      "2022/12/11  13:24            54ÿ422 Clean_xe1000.csv\n",
      "2022/12/13  13:46           248ÿ472 Clean_xe1400.csv\n",
      "2022/12/11  13:24           469ÿ330 Clean_xe2000.csv\n",
      "2022/12/13  13:47           620ÿ215 Clean_xe2400.csv\n",
      "2022/12/13  13:47           576ÿ557 Clean_xe2700.csv\n",
      "2022/12/11  13:25           648ÿ229 Clean_xe3000.csv\n",
      "2022/12/13  13:47           809ÿ171 Clean_xe3100.csv\n",
      "2022/12/11  13:25           696ÿ701 Clean_xe3200.csv\n",
      "2022/12/13  13:47           708ÿ415 Clean_xe3400.csv\n",
      "2022/12/11  13:25           889ÿ882 Clean_xe3600.csv\n",
      "2022/12/11  13:25           808ÿ634 Clean_xe4000.csv\n",
      "2022/11/28  02:14            72ÿ192 cnn_NET1.h5\n",
      "2022/11/28  02:15           978ÿ448 cnn2_NET1.h5\n",
      "2022/11/17  23:42         1ÿ125ÿ254 CNN-o2-models(5).html\n",
      "2022/11/28  05:23           749ÿ761 Combining_sim_data.html\n",
      "2022/11/25  11:01           125ÿ410 predictions_analysis.ipynb\n",
      "2022/11/22  00:06        21ÿ624ÿ058 test.csv\n",
      "2022/12/15  04:04           570ÿ153 TunedGain_ML_results.ipynb\n",
      "2022/12/15  04:46           413ÿ788 TunedGain_ML_results_eap.ipynb\n",
      "2023/01/19  09:59           569ÿ891 TunedGain_ML_results-UNORM_MODELS.ipynb\n",
      "2023/01/19  10:03           569ÿ722 TunedGain_ML_results-UNORM_MODELS-ANN1.ipynb\n",
      "2022/12/31  16:21           137ÿ288 unorm_ann1.h5\n",
      "2022/12/31  16:25            72ÿ192 unorm_cnn_NET1.h5\n",
      "              30 File(s)     38ÿ448ÿ310 bytes\n",
      "               4 Dir(s)  292ÿ262ÿ903ÿ808 bytes free\n"
     ]
    }
   ],
   "source": [
    "%ls"
   ]
  },
  {
   "cell_type": "markdown",
   "id": "dcf71e4f",
   "metadata": {},
   "source": [
    "## Load in our test data and extract the real signals "
   ]
  },
  {
   "cell_type": "code",
   "execution_count": 3,
   "id": "1caa736f",
   "metadata": {},
   "outputs": [],
   "source": [
    "testset = pd.read_csv('test.csv')"
   ]
  },
  {
   "cell_type": "code",
   "execution_count": 4,
   "id": "d280a549",
   "metadata": {},
   "outputs": [
    {
     "data": {
      "text/html": [
       "<div>\n",
       "<style scoped>\n",
       "    .dataframe tbody tr th:only-of-type {\n",
       "        vertical-align: middle;\n",
       "    }\n",
       "\n",
       "    .dataframe tbody tr th {\n",
       "        vertical-align: top;\n",
       "    }\n",
       "\n",
       "    .dataframe thead th {\n",
       "        text-align: right;\n",
       "    }\n",
       "</style>\n",
       "<table border=\"1\" class=\"dataframe\">\n",
       "  <thead>\n",
       "    <tr style=\"text-align: right;\">\n",
       "      <th></th>\n",
       "      <th>AN00</th>\n",
       "      <th>AN01</th>\n",
       "      <th>AN02</th>\n",
       "      <th>AN03</th>\n",
       "      <th>AN04</th>\n",
       "      <th>AN05</th>\n",
       "      <th>AN06</th>\n",
       "      <th>AN07</th>\n",
       "      <th>AN08</th>\n",
       "      <th>AN09</th>\n",
       "      <th>...</th>\n",
       "      <th>BN21</th>\n",
       "      <th>BN22</th>\n",
       "      <th>BN23</th>\n",
       "      <th>BN24</th>\n",
       "      <th>BN25</th>\n",
       "      <th>BN26</th>\n",
       "      <th>BN27</th>\n",
       "      <th>BN28</th>\n",
       "      <th>BN29</th>\n",
       "      <th>label</th>\n",
       "    </tr>\n",
       "  </thead>\n",
       "  <tbody>\n",
       "    <tr>\n",
       "      <th>0</th>\n",
       "      <td>10</td>\n",
       "      <td>8</td>\n",
       "      <td>10</td>\n",
       "      <td>11</td>\n",
       "      <td>10</td>\n",
       "      <td>10</td>\n",
       "      <td>20</td>\n",
       "      <td>63</td>\n",
       "      <td>68</td>\n",
       "      <td>42</td>\n",
       "      <td>...</td>\n",
       "      <td>15</td>\n",
       "      <td>15</td>\n",
       "      <td>14</td>\n",
       "      <td>13</td>\n",
       "      <td>13</td>\n",
       "      <td>13</td>\n",
       "      <td>12</td>\n",
       "      <td>12</td>\n",
       "      <td>12</td>\n",
       "      <td>0</td>\n",
       "    </tr>\n",
       "    <tr>\n",
       "      <th>1</th>\n",
       "      <td>89</td>\n",
       "      <td>122</td>\n",
       "      <td>65</td>\n",
       "      <td>40</td>\n",
       "      <td>30</td>\n",
       "      <td>26</td>\n",
       "      <td>23</td>\n",
       "      <td>22</td>\n",
       "      <td>19</td>\n",
       "      <td>18</td>\n",
       "      <td>...</td>\n",
       "      <td>14</td>\n",
       "      <td>13</td>\n",
       "      <td>11</td>\n",
       "      <td>11</td>\n",
       "      <td>12</td>\n",
       "      <td>11</td>\n",
       "      <td>14</td>\n",
       "      <td>11</td>\n",
       "      <td>11</td>\n",
       "      <td>0</td>\n",
       "    </tr>\n",
       "    <tr>\n",
       "      <th>2</th>\n",
       "      <td>11</td>\n",
       "      <td>12</td>\n",
       "      <td>10</td>\n",
       "      <td>13</td>\n",
       "      <td>12</td>\n",
       "      <td>13</td>\n",
       "      <td>12</td>\n",
       "      <td>12</td>\n",
       "      <td>14</td>\n",
       "      <td>15</td>\n",
       "      <td>...</td>\n",
       "      <td>10</td>\n",
       "      <td>11</td>\n",
       "      <td>9</td>\n",
       "      <td>11</td>\n",
       "      <td>8</td>\n",
       "      <td>9</td>\n",
       "      <td>13</td>\n",
       "      <td>10</td>\n",
       "      <td>10</td>\n",
       "      <td>0</td>\n",
       "    </tr>\n",
       "    <tr>\n",
       "      <th>3</th>\n",
       "      <td>30</td>\n",
       "      <td>46</td>\n",
       "      <td>29</td>\n",
       "      <td>22</td>\n",
       "      <td>19</td>\n",
       "      <td>20</td>\n",
       "      <td>38</td>\n",
       "      <td>50</td>\n",
       "      <td>39</td>\n",
       "      <td>37</td>\n",
       "      <td>...</td>\n",
       "      <td>11</td>\n",
       "      <td>9</td>\n",
       "      <td>8</td>\n",
       "      <td>11</td>\n",
       "      <td>9</td>\n",
       "      <td>7</td>\n",
       "      <td>10</td>\n",
       "      <td>9</td>\n",
       "      <td>9</td>\n",
       "      <td>0</td>\n",
       "    </tr>\n",
       "    <tr>\n",
       "      <th>4</th>\n",
       "      <td>16</td>\n",
       "      <td>20</td>\n",
       "      <td>16</td>\n",
       "      <td>15</td>\n",
       "      <td>12</td>\n",
       "      <td>12</td>\n",
       "      <td>12</td>\n",
       "      <td>11</td>\n",
       "      <td>11</td>\n",
       "      <td>11</td>\n",
       "      <td>...</td>\n",
       "      <td>31</td>\n",
       "      <td>29</td>\n",
       "      <td>25</td>\n",
       "      <td>28</td>\n",
       "      <td>37</td>\n",
       "      <td>34</td>\n",
       "      <td>30</td>\n",
       "      <td>25</td>\n",
       "      <td>32</td>\n",
       "      <td>1</td>\n",
       "    </tr>\n",
       "  </tbody>\n",
       "</table>\n",
       "<p>5 rows × 91 columns</p>\n",
       "</div>"
      ],
      "text/plain": [
       "   AN00  AN01  AN02  AN03  AN04  AN05  AN06  AN07  AN08  AN09  ...  BN21  \\\n",
       "0    10     8    10    11    10    10    20    63    68    42  ...    15   \n",
       "1    89   122    65    40    30    26    23    22    19    18  ...    14   \n",
       "2    11    12    10    13    12    13    12    12    14    15  ...    10   \n",
       "3    30    46    29    22    19    20    38    50    39    37  ...    11   \n",
       "4    16    20    16    15    12    12    12    11    11    11  ...    31   \n",
       "\n",
       "   BN22  BN23  BN24  BN25  BN26  BN27  BN28  BN29  label  \n",
       "0    15    14    13    13    13    12    12    12      0  \n",
       "1    13    11    11    12    11    14    11    11      0  \n",
       "2    11     9    11     8     9    13    10    10      0  \n",
       "3     9     8    11     9     7    10     9     9      0  \n",
       "4    29    25    28    37    34    30    25    32      1  \n",
       "\n",
       "[5 rows x 91 columns]"
      ]
     },
     "execution_count": 4,
     "metadata": {},
     "output_type": "execute_result"
    }
   ],
   "source": [
    "testset.head()"
   ]
  },
  {
   "cell_type": "code",
   "execution_count": 5,
   "id": "89def39e",
   "metadata": {},
   "outputs": [
    {
     "data": {
      "text/plain": [
       "80268"
      ]
     },
     "execution_count": 5,
     "metadata": {},
     "output_type": "execute_result"
    }
   ],
   "source": [
    "testset.shape[0]"
   ]
  },
  {
   "cell_type": "markdown",
   "id": "bed28d34",
   "metadata": {},
   "source": [
    "## Now filter the testset and retain only the real signals ie. label = 0 "
   ]
  },
  {
   "cell_type": "code",
   "execution_count": 6,
   "id": "a19e68a3",
   "metadata": {},
   "outputs": [
    {
     "data": {
      "text/plain": [
       "(array([60134.,     0.,     0.,     0.,     0.,     0.,     0.,     0.,\n",
       "            0., 20134.]),\n",
       " array([0. , 0.1, 0.2, 0.3, 0.4, 0.5, 0.6, 0.7, 0.8, 0.9, 1. ]),\n",
       " <BarContainer object of 10 artists>)"
      ]
     },
     "execution_count": 6,
     "metadata": {},
     "output_type": "execute_result"
    },
    {
     "data": {
      "image/png": "[encoded data removed]",
      "text/plain": [
       "<Figure size 432x288 with 1 Axes>"
      ]
     },
     "metadata": {
      "needs_background": "light"
     },
     "output_type": "display_data"
    }
   ],
   "source": [
    "plt.hist(testset.label)"
   ]
  },
  {
   "cell_type": "markdown",
   "id": "7bce558d",
   "metadata": {},
   "source": [
    "There are 60134 real signals "
   ]
  },
  {
   "cell_type": "code",
   "execution_count": 7,
   "id": "b9001fd3",
   "metadata": {},
   "outputs": [],
   "source": [
    "real_test = testset[testset.label==0]"
   ]
  },
  {
   "cell_type": "code",
   "execution_count": 8,
   "id": "3a4681e2",
   "metadata": {},
   "outputs": [
    {
     "data": {
      "text/plain": [
       "(60134, 91)"
      ]
     },
     "execution_count": 8,
     "metadata": {},
     "output_type": "execute_result"
    }
   ],
   "source": [
    "real_test.shape"
   ]
  },
  {
   "cell_type": "markdown",
   "id": "e1928d4c",
   "metadata": {},
   "source": [
    "This matches our number so we have retained all the real signals "
   ]
  },
  {
   "cell_type": "code",
   "execution_count": 9,
   "id": "d12cadcd",
   "metadata": {},
   "outputs": [
    {
     "data": {
      "text/html": [
       "<div>\n",
       "<style scoped>\n",
       "    .dataframe tbody tr th:only-of-type {\n",
       "        vertical-align: middle;\n",
       "    }\n",
       "\n",
       "    .dataframe tbody tr th {\n",
       "        vertical-align: top;\n",
       "    }\n",
       "\n",
       "    .dataframe thead th {\n",
       "        text-align: right;\n",
       "    }\n",
       "</style>\n",
       "<table border=\"1\" class=\"dataframe\">\n",
       "  <thead>\n",
       "    <tr style=\"text-align: right;\">\n",
       "      <th></th>\n",
       "      <th>AN00</th>\n",
       "      <th>AN01</th>\n",
       "      <th>AN02</th>\n",
       "      <th>AN03</th>\n",
       "      <th>AN04</th>\n",
       "      <th>AN05</th>\n",
       "      <th>AN06</th>\n",
       "      <th>AN07</th>\n",
       "      <th>AN08</th>\n",
       "      <th>AN09</th>\n",
       "      <th>...</th>\n",
       "      <th>BN21</th>\n",
       "      <th>BN22</th>\n",
       "      <th>BN23</th>\n",
       "      <th>BN24</th>\n",
       "      <th>BN25</th>\n",
       "      <th>BN26</th>\n",
       "      <th>BN27</th>\n",
       "      <th>BN28</th>\n",
       "      <th>BN29</th>\n",
       "      <th>label</th>\n",
       "    </tr>\n",
       "  </thead>\n",
       "  <tbody>\n",
       "    <tr>\n",
       "      <th>0</th>\n",
       "      <td>10</td>\n",
       "      <td>8</td>\n",
       "      <td>10</td>\n",
       "      <td>11</td>\n",
       "      <td>10</td>\n",
       "      <td>10</td>\n",
       "      <td>20</td>\n",
       "      <td>63</td>\n",
       "      <td>68</td>\n",
       "      <td>42</td>\n",
       "      <td>...</td>\n",
       "      <td>15</td>\n",
       "      <td>15</td>\n",
       "      <td>14</td>\n",
       "      <td>13</td>\n",
       "      <td>13</td>\n",
       "      <td>13</td>\n",
       "      <td>12</td>\n",
       "      <td>12</td>\n",
       "      <td>12</td>\n",
       "      <td>0</td>\n",
       "    </tr>\n",
       "    <tr>\n",
       "      <th>1</th>\n",
       "      <td>89</td>\n",
       "      <td>122</td>\n",
       "      <td>65</td>\n",
       "      <td>40</td>\n",
       "      <td>30</td>\n",
       "      <td>26</td>\n",
       "      <td>23</td>\n",
       "      <td>22</td>\n",
       "      <td>19</td>\n",
       "      <td>18</td>\n",
       "      <td>...</td>\n",
       "      <td>14</td>\n",
       "      <td>13</td>\n",
       "      <td>11</td>\n",
       "      <td>11</td>\n",
       "      <td>12</td>\n",
       "      <td>11</td>\n",
       "      <td>14</td>\n",
       "      <td>11</td>\n",
       "      <td>11</td>\n",
       "      <td>0</td>\n",
       "    </tr>\n",
       "    <tr>\n",
       "      <th>2</th>\n",
       "      <td>11</td>\n",
       "      <td>12</td>\n",
       "      <td>10</td>\n",
       "      <td>13</td>\n",
       "      <td>12</td>\n",
       "      <td>13</td>\n",
       "      <td>12</td>\n",
       "      <td>12</td>\n",
       "      <td>14</td>\n",
       "      <td>15</td>\n",
       "      <td>...</td>\n",
       "      <td>10</td>\n",
       "      <td>11</td>\n",
       "      <td>9</td>\n",
       "      <td>11</td>\n",
       "      <td>8</td>\n",
       "      <td>9</td>\n",
       "      <td>13</td>\n",
       "      <td>10</td>\n",
       "      <td>10</td>\n",
       "      <td>0</td>\n",
       "    </tr>\n",
       "    <tr>\n",
       "      <th>3</th>\n",
       "      <td>30</td>\n",
       "      <td>46</td>\n",
       "      <td>29</td>\n",
       "      <td>22</td>\n",
       "      <td>19</td>\n",
       "      <td>20</td>\n",
       "      <td>38</td>\n",
       "      <td>50</td>\n",
       "      <td>39</td>\n",
       "      <td>37</td>\n",
       "      <td>...</td>\n",
       "      <td>11</td>\n",
       "      <td>9</td>\n",
       "      <td>8</td>\n",
       "      <td>11</td>\n",
       "      <td>9</td>\n",
       "      <td>7</td>\n",
       "      <td>10</td>\n",
       "      <td>9</td>\n",
       "      <td>9</td>\n",
       "      <td>0</td>\n",
       "    </tr>\n",
       "    <tr>\n",
       "      <th>5</th>\n",
       "      <td>16</td>\n",
       "      <td>10</td>\n",
       "      <td>12</td>\n",
       "      <td>10</td>\n",
       "      <td>10</td>\n",
       "      <td>14</td>\n",
       "      <td>11</td>\n",
       "      <td>7</td>\n",
       "      <td>10</td>\n",
       "      <td>9</td>\n",
       "      <td>...</td>\n",
       "      <td>101</td>\n",
       "      <td>80</td>\n",
       "      <td>67</td>\n",
       "      <td>52</td>\n",
       "      <td>45</td>\n",
       "      <td>34</td>\n",
       "      <td>44</td>\n",
       "      <td>61</td>\n",
       "      <td>62</td>\n",
       "      <td>0</td>\n",
       "    </tr>\n",
       "  </tbody>\n",
       "</table>\n",
       "<p>5 rows × 91 columns</p>\n",
       "</div>"
      ],
      "text/plain": [
       "   AN00  AN01  AN02  AN03  AN04  AN05  AN06  AN07  AN08  AN09  ...  BN21  \\\n",
       "0    10     8    10    11    10    10    20    63    68    42  ...    15   \n",
       "1    89   122    65    40    30    26    23    22    19    18  ...    14   \n",
       "2    11    12    10    13    12    13    12    12    14    15  ...    10   \n",
       "3    30    46    29    22    19    20    38    50    39    37  ...    11   \n",
       "5    16    10    12    10    10    14    11     7    10     9  ...   101   \n",
       "\n",
       "   BN22  BN23  BN24  BN25  BN26  BN27  BN28  BN29  label  \n",
       "0    15    14    13    13    13    12    12    12      0  \n",
       "1    13    11    11    12    11    14    11    11      0  \n",
       "2    11     9    11     8     9    13    10    10      0  \n",
       "3     9     8    11     9     7    10     9     9      0  \n",
       "5    80    67    52    45    34    44    61    62      0  \n",
       "\n",
       "[5 rows x 91 columns]"
      ]
     },
     "execution_count": 9,
     "metadata": {},
     "output_type": "execute_result"
    }
   ],
   "source": [
    "real_test.head()"
   ]
  },
  {
   "cell_type": "code",
   "execution_count": null,
   "id": "98ddccc2",
   "metadata": {},
   "outputs": [],
   "source": []
  },
  {
   "cell_type": "markdown",
   "id": "d67be2c6",
   "metadata": {},
   "source": [
    "## Read in our tuned sim data "
   ]
  },
  {
   "cell_type": "code",
   "execution_count": 10,
   "id": "b55400b1",
   "metadata": {},
   "outputs": [
    {
     "name": "stdout",
     "output_type": "stream",
     "text": [
      " Volume in drive C is Windows\n",
      " Volume Serial Number is 4051-E7E7\n",
      "\n",
      " Directory of C:\\Users\\Nikhiel\\Desktop\\model_analysis\n",
      "\n",
      "2023/01/19  10:03    <DIR>          .\n",
      "2023/01/19  09:24    <DIR>          ..\n",
      "2023/01/19  09:59    <DIR>          .ipynb_checkpoints\n",
      "2022/12/13  08:10    <DIR>          __pycache__\n",
      "2022/11/28  10:04         1ÿ459ÿ166 Analysis_of_nets(1)_updated.html\n",
      "2022/11/28  21:35           800ÿ771 Analysis_of_nets.ipynb\n",
      "2022/11/28  02:11           161ÿ352 ann1.h5\n",
      "2022/11/06  00:42             2ÿ899 avgph.py\n",
      "2022/12/14  10:42           758ÿ157 Clean_simsigs_eap20.csv\n",
      "2022/12/14  11:02           851ÿ214 Clean_simsigs_eap40.csv\n",
      "2022/12/14  11:33           876ÿ566 Clean_simsigs_eap80.csv\n",
      "2022/12/11  13:24            54ÿ422 Clean_xe1000.csv\n",
      "2022/12/13  13:46           248ÿ472 Clean_xe1400.csv\n",
      "2022/12/11  13:24           469ÿ330 Clean_xe2000.csv\n",
      "2022/12/13  13:47           620ÿ215 Clean_xe2400.csv\n",
      "2022/12/13  13:47           576ÿ557 Clean_xe2700.csv\n",
      "2022/12/11  13:25           648ÿ229 Clean_xe3000.csv\n",
      "2022/12/13  13:47           809ÿ171 Clean_xe3100.csv\n",
      "2022/12/11  13:25           696ÿ701 Clean_xe3200.csv\n",
      "2022/12/13  13:47           708ÿ415 Clean_xe3400.csv\n",
      "2022/12/11  13:25           889ÿ882 Clean_xe3600.csv\n",
      "2022/12/11  13:25           808ÿ634 Clean_xe4000.csv\n",
      "2022/11/28  02:14            72ÿ192 cnn_NET1.h5\n",
      "2022/11/28  02:15           978ÿ448 cnn2_NET1.h5\n",
      "2022/11/17  23:42         1ÿ125ÿ254 CNN-o2-models(5).html\n",
      "2022/11/28  05:23           749ÿ761 Combining_sim_data.html\n",
      "2022/11/25  11:01           125ÿ410 predictions_analysis.ipynb\n",
      "2022/11/22  00:06        21ÿ624ÿ058 test.csv\n",
      "2022/12/15  04:04           570ÿ153 TunedGain_ML_results.ipynb\n",
      "2022/12/15  04:46           413ÿ788 TunedGain_ML_results_eap.ipynb\n",
      "2023/01/19  09:59           569ÿ891 TunedGain_ML_results-UNORM_MODELS.ipynb\n",
      "2023/01/19  10:03           569ÿ722 TunedGain_ML_results-UNORM_MODELS-ANN1.ipynb\n",
      "2022/12/31  16:21           137ÿ288 unorm_ann1.h5\n",
      "2022/12/31  16:25            72ÿ192 unorm_cnn_NET1.h5\n",
      "              30 File(s)     38ÿ448ÿ310 bytes\n",
      "               4 Dir(s)  292ÿ262ÿ895ÿ616 bytes free\n"
     ]
    }
   ],
   "source": [
    "%ls"
   ]
  },
  {
   "cell_type": "code",
   "execution_count": 11,
   "id": "9f64cca7",
   "metadata": {},
   "outputs": [],
   "source": [
    "# retain only the first 90 columns which contain the adc values for each pad column and time bin \n",
    "\n",
    "df1000 = pd.read_csv('Clean_xe1000.csv').iloc[:, :90]\n",
    "df2000 = pd.read_csv('Clean_xe2000.csv').iloc[:, :90]\n",
    "df3000 = pd.read_csv('Clean_xe3000.csv').iloc[:, :90]\n",
    "df3200 = pd.read_csv('Clean_xe3200.csv').iloc[:, :90]\n",
    "df3600 = pd.read_csv('Clean_xe3600.csv').iloc[:, :90]\n",
    "df4000 = pd.read_csv('Clean_xe4000.csv').iloc[:, :90]\n",
    "\n",
    "\n",
    "df1400 = pd.read_csv('Clean_xe1400.csv').iloc[:, :90]\n",
    "df2400 = pd.read_csv('Clean_xe2400.csv').iloc[:, :90]\n",
    "df2700 = pd.read_csv('Clean_xe2700.csv').iloc[:, :90]\n",
    "df3100 = pd.read_csv('Clean_xe3100.csv').iloc[:, :90]\n",
    "df3400 = pd.read_csv('Clean_xe3400.csv').iloc[:, :90]\n",
    "\n",
    "\n"
   ]
  },
  {
   "cell_type": "code",
   "execution_count": 12,
   "id": "7297ca9b",
   "metadata": {},
   "outputs": [],
   "source": [
    "## Create a label column set to 1 to denote that these are sim signals \n",
    "\n",
    "df1000['label'] = 1\n",
    "df2000['label'] = 1\n",
    "df3000['label'] = 1\n",
    "df3200['label'] = 1\n",
    "df3600['label'] = 1\n",
    "df4000['label'] = 1\n",
    "\n",
    "df1400['label'] = 1\n",
    "df2400['label'] = 1\n",
    "df2700['label'] = 1\n",
    "df3100['label'] = 1\n",
    "df3400['label'] = 1\n"
   ]
  },
  {
   "cell_type": "markdown",
   "id": "a6e66610",
   "metadata": {},
   "source": [
    "## Now combine each of these tuned data with our real test data to form a new test set of real signals and tuned sim signals according to a certain gas gain "
   ]
  },
  {
   "cell_type": "code",
   "execution_count": 13,
   "id": "f0e54bbe",
   "metadata": {},
   "outputs": [
    {
     "data": {
      "text/html": [
       "<div>\n",
       "<style scoped>\n",
       "    .dataframe tbody tr th:only-of-type {\n",
       "        vertical-align: middle;\n",
       "    }\n",
       "\n",
       "    .dataframe tbody tr th {\n",
       "        vertical-align: top;\n",
       "    }\n",
       "\n",
       "    .dataframe thead th {\n",
       "        text-align: right;\n",
       "    }\n",
       "</style>\n",
       "<table border=\"1\" class=\"dataframe\">\n",
       "  <thead>\n",
       "    <tr style=\"text-align: right;\">\n",
       "      <th></th>\n",
       "      <th>AN00</th>\n",
       "      <th>AN01</th>\n",
       "      <th>AN02</th>\n",
       "      <th>AN03</th>\n",
       "      <th>AN04</th>\n",
       "      <th>AN05</th>\n",
       "      <th>AN06</th>\n",
       "      <th>AN07</th>\n",
       "      <th>AN08</th>\n",
       "      <th>AN09</th>\n",
       "      <th>...</th>\n",
       "      <th>BN21</th>\n",
       "      <th>BN22</th>\n",
       "      <th>BN23</th>\n",
       "      <th>BN24</th>\n",
       "      <th>BN25</th>\n",
       "      <th>BN26</th>\n",
       "      <th>BN27</th>\n",
       "      <th>BN28</th>\n",
       "      <th>BN29</th>\n",
       "      <th>label</th>\n",
       "    </tr>\n",
       "  </thead>\n",
       "  <tbody>\n",
       "    <tr>\n",
       "      <th>0</th>\n",
       "      <td>11</td>\n",
       "      <td>10</td>\n",
       "      <td>13</td>\n",
       "      <td>10</td>\n",
       "      <td>11</td>\n",
       "      <td>12</td>\n",
       "      <td>12</td>\n",
       "      <td>17</td>\n",
       "      <td>27</td>\n",
       "      <td>43</td>\n",
       "      <td>...</td>\n",
       "      <td>14</td>\n",
       "      <td>13</td>\n",
       "      <td>13</td>\n",
       "      <td>12</td>\n",
       "      <td>11</td>\n",
       "      <td>12</td>\n",
       "      <td>13</td>\n",
       "      <td>11</td>\n",
       "      <td>12</td>\n",
       "      <td>1</td>\n",
       "    </tr>\n",
       "    <tr>\n",
       "      <th>1</th>\n",
       "      <td>11</td>\n",
       "      <td>9</td>\n",
       "      <td>16</td>\n",
       "      <td>16</td>\n",
       "      <td>16</td>\n",
       "      <td>20</td>\n",
       "      <td>18</td>\n",
       "      <td>22</td>\n",
       "      <td>26</td>\n",
       "      <td>27</td>\n",
       "      <td>...</td>\n",
       "      <td>11</td>\n",
       "      <td>10</td>\n",
       "      <td>9</td>\n",
       "      <td>9</td>\n",
       "      <td>9</td>\n",
       "      <td>9</td>\n",
       "      <td>11</td>\n",
       "      <td>11</td>\n",
       "      <td>10</td>\n",
       "      <td>1</td>\n",
       "    </tr>\n",
       "    <tr>\n",
       "      <th>2</th>\n",
       "      <td>17</td>\n",
       "      <td>33</td>\n",
       "      <td>30</td>\n",
       "      <td>21</td>\n",
       "      <td>20</td>\n",
       "      <td>15</td>\n",
       "      <td>16</td>\n",
       "      <td>18</td>\n",
       "      <td>14</td>\n",
       "      <td>12</td>\n",
       "      <td>...</td>\n",
       "      <td>21</td>\n",
       "      <td>18</td>\n",
       "      <td>15</td>\n",
       "      <td>16</td>\n",
       "      <td>14</td>\n",
       "      <td>13</td>\n",
       "      <td>15</td>\n",
       "      <td>16</td>\n",
       "      <td>11</td>\n",
       "      <td>1</td>\n",
       "    </tr>\n",
       "    <tr>\n",
       "      <th>3</th>\n",
       "      <td>10</td>\n",
       "      <td>12</td>\n",
       "      <td>13</td>\n",
       "      <td>12</td>\n",
       "      <td>13</td>\n",
       "      <td>16</td>\n",
       "      <td>14</td>\n",
       "      <td>11</td>\n",
       "      <td>14</td>\n",
       "      <td>12</td>\n",
       "      <td>...</td>\n",
       "      <td>18</td>\n",
       "      <td>17</td>\n",
       "      <td>14</td>\n",
       "      <td>13</td>\n",
       "      <td>14</td>\n",
       "      <td>12</td>\n",
       "      <td>12</td>\n",
       "      <td>13</td>\n",
       "      <td>14</td>\n",
       "      <td>1</td>\n",
       "    </tr>\n",
       "    <tr>\n",
       "      <th>4</th>\n",
       "      <td>10</td>\n",
       "      <td>16</td>\n",
       "      <td>16</td>\n",
       "      <td>10</td>\n",
       "      <td>12</td>\n",
       "      <td>11</td>\n",
       "      <td>12</td>\n",
       "      <td>9</td>\n",
       "      <td>10</td>\n",
       "      <td>11</td>\n",
       "      <td>...</td>\n",
       "      <td>20</td>\n",
       "      <td>19</td>\n",
       "      <td>17</td>\n",
       "      <td>16</td>\n",
       "      <td>14</td>\n",
       "      <td>15</td>\n",
       "      <td>13</td>\n",
       "      <td>11</td>\n",
       "      <td>15</td>\n",
       "      <td>1</td>\n",
       "    </tr>\n",
       "    <tr>\n",
       "      <th>...</th>\n",
       "      <td>...</td>\n",
       "      <td>...</td>\n",
       "      <td>...</td>\n",
       "      <td>...</td>\n",
       "      <td>...</td>\n",
       "      <td>...</td>\n",
       "      <td>...</td>\n",
       "      <td>...</td>\n",
       "      <td>...</td>\n",
       "      <td>...</td>\n",
       "      <td>...</td>\n",
       "      <td>...</td>\n",
       "      <td>...</td>\n",
       "      <td>...</td>\n",
       "      <td>...</td>\n",
       "      <td>...</td>\n",
       "      <td>...</td>\n",
       "      <td>...</td>\n",
       "      <td>...</td>\n",
       "      <td>...</td>\n",
       "      <td>...</td>\n",
       "    </tr>\n",
       "    <tr>\n",
       "      <th>130</th>\n",
       "      <td>12</td>\n",
       "      <td>17</td>\n",
       "      <td>16</td>\n",
       "      <td>15</td>\n",
       "      <td>13</td>\n",
       "      <td>16</td>\n",
       "      <td>13</td>\n",
       "      <td>11</td>\n",
       "      <td>14</td>\n",
       "      <td>13</td>\n",
       "      <td>...</td>\n",
       "      <td>26</td>\n",
       "      <td>26</td>\n",
       "      <td>22</td>\n",
       "      <td>19</td>\n",
       "      <td>16</td>\n",
       "      <td>15</td>\n",
       "      <td>16</td>\n",
       "      <td>15</td>\n",
       "      <td>16</td>\n",
       "      <td>1</td>\n",
       "    </tr>\n",
       "    <tr>\n",
       "      <th>131</th>\n",
       "      <td>27</td>\n",
       "      <td>45</td>\n",
       "      <td>42</td>\n",
       "      <td>38</td>\n",
       "      <td>32</td>\n",
       "      <td>35</td>\n",
       "      <td>34</td>\n",
       "      <td>28</td>\n",
       "      <td>24</td>\n",
       "      <td>20</td>\n",
       "      <td>...</td>\n",
       "      <td>7</td>\n",
       "      <td>10</td>\n",
       "      <td>10</td>\n",
       "      <td>9</td>\n",
       "      <td>10</td>\n",
       "      <td>11</td>\n",
       "      <td>11</td>\n",
       "      <td>10</td>\n",
       "      <td>10</td>\n",
       "      <td>1</td>\n",
       "    </tr>\n",
       "    <tr>\n",
       "      <th>132</th>\n",
       "      <td>10</td>\n",
       "      <td>11</td>\n",
       "      <td>10</td>\n",
       "      <td>10</td>\n",
       "      <td>11</td>\n",
       "      <td>12</td>\n",
       "      <td>13</td>\n",
       "      <td>17</td>\n",
       "      <td>23</td>\n",
       "      <td>25</td>\n",
       "      <td>...</td>\n",
       "      <td>30</td>\n",
       "      <td>27</td>\n",
       "      <td>24</td>\n",
       "      <td>20</td>\n",
       "      <td>17</td>\n",
       "      <td>15</td>\n",
       "      <td>15</td>\n",
       "      <td>14</td>\n",
       "      <td>12</td>\n",
       "      <td>1</td>\n",
       "    </tr>\n",
       "    <tr>\n",
       "      <th>133</th>\n",
       "      <td>21</td>\n",
       "      <td>34</td>\n",
       "      <td>30</td>\n",
       "      <td>26</td>\n",
       "      <td>22</td>\n",
       "      <td>18</td>\n",
       "      <td>17</td>\n",
       "      <td>16</td>\n",
       "      <td>19</td>\n",
       "      <td>16</td>\n",
       "      <td>...</td>\n",
       "      <td>20</td>\n",
       "      <td>18</td>\n",
       "      <td>17</td>\n",
       "      <td>14</td>\n",
       "      <td>16</td>\n",
       "      <td>14</td>\n",
       "      <td>15</td>\n",
       "      <td>16</td>\n",
       "      <td>16</td>\n",
       "      <td>1</td>\n",
       "    </tr>\n",
       "    <tr>\n",
       "      <th>134</th>\n",
       "      <td>10</td>\n",
       "      <td>10</td>\n",
       "      <td>12</td>\n",
       "      <td>13</td>\n",
       "      <td>9</td>\n",
       "      <td>7</td>\n",
       "      <td>9</td>\n",
       "      <td>11</td>\n",
       "      <td>12</td>\n",
       "      <td>11</td>\n",
       "      <td>...</td>\n",
       "      <td>26</td>\n",
       "      <td>25</td>\n",
       "      <td>23</td>\n",
       "      <td>24</td>\n",
       "      <td>23</td>\n",
       "      <td>24</td>\n",
       "      <td>23</td>\n",
       "      <td>20</td>\n",
       "      <td>18</td>\n",
       "      <td>1</td>\n",
       "    </tr>\n",
       "  </tbody>\n",
       "</table>\n",
       "<p>135 rows × 91 columns</p>\n",
       "</div>"
      ],
      "text/plain": [
       "     AN00  AN01  AN02  AN03  AN04  AN05  AN06  AN07  AN08  AN09  ...  BN21  \\\n",
       "0      11    10    13    10    11    12    12    17    27    43  ...    14   \n",
       "1      11     9    16    16    16    20    18    22    26    27  ...    11   \n",
       "2      17    33    30    21    20    15    16    18    14    12  ...    21   \n",
       "3      10    12    13    12    13    16    14    11    14    12  ...    18   \n",
       "4      10    16    16    10    12    11    12     9    10    11  ...    20   \n",
       "..    ...   ...   ...   ...   ...   ...   ...   ...   ...   ...  ...   ...   \n",
       "130    12    17    16    15    13    16    13    11    14    13  ...    26   \n",
       "131    27    45    42    38    32    35    34    28    24    20  ...     7   \n",
       "132    10    11    10    10    11    12    13    17    23    25  ...    30   \n",
       "133    21    34    30    26    22    18    17    16    19    16  ...    20   \n",
       "134    10    10    12    13     9     7     9    11    12    11  ...    26   \n",
       "\n",
       "     BN22  BN23  BN24  BN25  BN26  BN27  BN28  BN29  label  \n",
       "0      13    13    12    11    12    13    11    12      1  \n",
       "1      10     9     9     9     9    11    11    10      1  \n",
       "2      18    15    16    14    13    15    16    11      1  \n",
       "3      17    14    13    14    12    12    13    14      1  \n",
       "4      19    17    16    14    15    13    11    15      1  \n",
       "..    ...   ...   ...   ...   ...   ...   ...   ...    ...  \n",
       "130    26    22    19    16    15    16    15    16      1  \n",
       "131    10    10     9    10    11    11    10    10      1  \n",
       "132    27    24    20    17    15    15    14    12      1  \n",
       "133    18    17    14    16    14    15    16    16      1  \n",
       "134    25    23    24    23    24    23    20    18      1  \n",
       "\n",
       "[135 rows x 91 columns]"
      ]
     },
     "execution_count": 13,
     "metadata": {},
     "output_type": "execute_result"
    }
   ],
   "source": [
    "df1000"
   ]
  },
  {
   "cell_type": "code",
   "execution_count": 14,
   "id": "d4c84ff9",
   "metadata": {},
   "outputs": [
    {
     "data": {
      "text/plain": [
       "(135, 91)"
      ]
     },
     "execution_count": 14,
     "metadata": {},
     "output_type": "execute_result"
    }
   ],
   "source": [
    "df1000.shape"
   ]
  },
  {
   "cell_type": "code",
   "execution_count": null,
   "id": "90284542",
   "metadata": {},
   "outputs": [],
   "source": []
  },
  {
   "cell_type": "code",
   "execution_count": 15,
   "id": "0ad1171a",
   "metadata": {},
   "outputs": [],
   "source": [
    "# Now join each tuned set to our real test set to create a new test set based on the new tuned sim signals \n",
    "\n",
    "test1000 = real_test.append(df1000, ignore_index=True)\n",
    "test2000 = real_test.append(df2000, ignore_index=True)\n",
    "test3000 = real_test.append(df3000, ignore_index=True)\n",
    "test3200 = real_test.append(df3200, ignore_index=True)\n",
    "test3600 = real_test.append(df3600, ignore_index=True)\n",
    "test4000 = real_test.append(df4000, ignore_index=True)\n",
    "\n",
    "test1400 = real_test.append(df1400, ignore_index=True)\n",
    "test2400 = real_test.append(df2400, ignore_index=True)\n",
    "test2700 = real_test.append(df2700, ignore_index=True)\n",
    "\n",
    "test3100 = real_test.append(df3100, ignore_index=True)\n",
    "test3400 = real_test.append(df3400, ignore_index=True)\n",
    "\n"
   ]
  },
  {
   "cell_type": "code",
   "execution_count": null,
   "id": "6425d5d3",
   "metadata": {},
   "outputs": [],
   "source": []
  },
  {
   "cell_type": "markdown",
   "id": "f0f33d45",
   "metadata": {},
   "source": [
    "### Now from these new test sets we will perform furhter preparation for ML prediction "
   ]
  },
  {
   "cell_type": "code",
   "execution_count": 16,
   "id": "dfed2cfe",
   "metadata": {},
   "outputs": [],
   "source": [
    "sig_1000 = np.array(test1000.iloc[:, :90])\n",
    "sig_2000 = np.array(test2000.iloc[:, :90])\n",
    "sig_3000 = np.array(test3000.iloc[:, :90])\n",
    "sig_3200 = np.array(test3200.iloc[:, :90])\n",
    "sig_3600 = np.array(test3600.iloc[:, :90])\n",
    "sig_4000 = np.array(test4000.iloc[:, :90])\n",
    "\n",
    "\n",
    "\n",
    "sig_1400 = np.array(test1400.iloc[:, :90])\n",
    "sig_2400 = np.array(test2400.iloc[:, :90])\n",
    "sig_2700 = np.array(test2700.iloc[:, :90])\n",
    "sig_3100 = np.array(test3100.iloc[:, :90])\n",
    "sig_3400 = np.array(test3400.iloc[:, :90])\n",
    "\n",
    "\n"
   ]
  },
  {
   "cell_type": "code",
   "execution_count": 17,
   "id": "697d2915",
   "metadata": {},
   "outputs": [],
   "source": [
    "\n",
    "### We're not doing any normalization since we're using our unormed cnn models \n",
    "#--------------------------------------------------------------------------\n",
    "#==========================================================================\n",
    "\n",
    "# We remove division by the max adc value \n",
    "\n",
    "sig_1000_n = sig_1000\n",
    "sig_2000_n = sig_2000\n",
    "sig_3000_n = sig_3000\n",
    "sig_3200_n = sig_3200\n",
    "sig_3600_n = sig_3600\n",
    "sig_4000_n = sig_4000\n",
    "\n",
    "\n",
    "\n",
    "sig_1400_n = sig_1400\n",
    "sig_2400_n = sig_2400\n",
    "sig_2700_n = sig_2700\n",
    "sig_3100_n = sig_3100\n",
    "sig_3400_n = sig_3400"
   ]
  },
  {
   "cell_type": "code",
   "execution_count": null,
   "id": "46c4ea70",
   "metadata": {},
   "outputs": [],
   "source": []
  },
  {
   "cell_type": "code",
   "execution_count": 18,
   "id": "1a07ac0d",
   "metadata": {},
   "outputs": [],
   "source": [
    "# Now get the corresponding labels \n",
    "\n",
    "lab1000 = np.array(test1000.label)\n",
    "lab2000 = np.array(test2000.label)\n",
    "lab3000 = np.array(test3000.label)\n",
    "lab3200 = np.array(test3200.label)\n",
    "lab3600 = np.array(test3600.label)\n",
    "lab4000 = np.array(test4000.label)\n",
    "\n",
    "lab1400 = np.array(test1400.label)\n",
    "lab2400 = np.array(test2400.label)\n",
    "lab2700 = np.array(test2700.label)\n",
    "lab3100 = np.array(test3100.label)\n",
    "lab3400 = np.array(test3400.label)\n",
    "\n"
   ]
  },
  {
   "cell_type": "code",
   "execution_count": 19,
   "id": "29e81e46",
   "metadata": {},
   "outputs": [],
   "source": [
    "# Now one hot encode them \n",
    "lab1000_ohe = keras.utils.np_utils.to_categorical(lab1000, 2)\n",
    "lab2000_ohe = keras.utils.np_utils.to_categorical(lab2000, 2)\n",
    "lab3000_ohe = keras.utils.np_utils.to_categorical(lab3000, 2)\n",
    "lab3200_ohe = keras.utils.np_utils.to_categorical(lab3200, 2)\n",
    "lab3600_ohe = keras.utils.np_utils.to_categorical(lab3600, 2)\n",
    "lab4000_ohe = keras.utils.np_utils.to_categorical(lab4000, 2)\n",
    "\n",
    "\n",
    "lab1400_ohe = keras.utils.np_utils.to_categorical(lab1400, 2)\n",
    "lab2400_ohe = keras.utils.np_utils.to_categorical(lab2400, 2)\n",
    "lab2700_ohe = keras.utils.np_utils.to_categorical(lab2700, 2)\n",
    "lab3100_ohe = keras.utils.np_utils.to_categorical(lab3100, 2)\n",
    "lab3400_ohe = keras.utils.np_utils.to_categorical(lab3400, 2)\n",
    "\n",
    "\n",
    "\n",
    "\n"
   ]
  },
  {
   "cell_type": "code",
   "execution_count": null,
   "id": "02ac523b",
   "metadata": {},
   "outputs": [],
   "source": []
  },
  {
   "cell_type": "markdown",
   "id": "c3d378eb",
   "metadata": {},
   "source": [
    "# Load the best keras CNN model we have trained so far "
   ]
  },
  {
   "cell_type": "code",
   "execution_count": 20,
   "id": "a2c1b26e",
   "metadata": {},
   "outputs": [],
   "source": [
    "cnn2 = load_model('unorm_ann1.h5')"
   ]
  },
  {
   "cell_type": "code",
   "execution_count": 21,
   "id": "5b0b416f",
   "metadata": {},
   "outputs": [
    {
     "name": "stdout",
     "output_type": "stream",
     "text": [
      "Model: \"sequential\"\n",
      "_________________________________________________________________\n",
      " Layer (type)                Output Shape              Param #   \n",
      "=================================================================\n",
      " hidden1 (Dense)             (None, 100)               9100      \n",
      "                                                                 \n",
      " dropout (Dropout)           (None, 100)               0         \n",
      "                                                                 \n",
      " Dense-output (Dense)        (None, 2)                 202       \n",
      "                                                                 \n",
      "=================================================================\n",
      "Total params: 9,302\n",
      "Trainable params: 9,302\n",
      "Non-trainable params: 0\n",
      "_________________________________________________________________\n"
     ]
    }
   ],
   "source": [
    "cnn2.summary()"
   ]
  },
  {
   "cell_type": "markdown",
   "id": "fd55f143",
   "metadata": {},
   "source": [
    "## Perform some filter visualization later here ..."
   ]
  },
  {
   "cell_type": "code",
   "execution_count": null,
   "id": "42a05e19",
   "metadata": {},
   "outputs": [],
   "source": []
  },
  {
   "cell_type": "markdown",
   "id": "5aa8a1fa",
   "metadata": {},
   "source": [
    "# Now predict on the various test data "
   ]
  },
  {
   "cell_type": "code",
   "execution_count": 22,
   "id": "c15106e7",
   "metadata": {},
   "outputs": [],
   "source": [
    "prob1000_cnn2 = cnn2.predict(sig_1000_n)\n",
    "prob2000_cnn2 = cnn2.predict(sig_2000_n)\n",
    "prob3000_cnn2 = cnn2.predict(sig_3000_n)\n",
    "prob3200_cnn2 = cnn2.predict(sig_3200_n)\n",
    "prob3600_cnn2 = cnn2.predict(sig_3600_n)\n",
    "prob4000_cnn2 = cnn2.predict(sig_4000_n)\n",
    "\n",
    "\n",
    "prob1400_cnn2 = cnn2.predict(sig_1400_n)\n",
    "prob2400_cnn2 = cnn2.predict(sig_2400_n)\n",
    "prob2700_cnn2 = cnn2.predict(sig_2700_n)\n",
    "prob3100_cnn2 = cnn2.predict(sig_3100_n)\n",
    "prob3400_cnn2 = cnn2.predict(sig_3400_n)\n",
    "\n"
   ]
  },
  {
   "cell_type": "code",
   "execution_count": 23,
   "id": "0d61ce10",
   "metadata": {},
   "outputs": [],
   "source": [
    "pred1000_cnn2 = np.argmax(prob1000_cnn2, axis=1)\n",
    "pred2000_cnn2 = np.argmax(prob2000_cnn2, axis=1)\n",
    "pred3000_cnn2 = np.argmax(prob3000_cnn2, axis=1)\n",
    "pred3200_cnn2 = np.argmax(prob3200_cnn2, axis=1)\n",
    "pred3600_cnn2 = np.argmax(prob3600_cnn2, axis=1)\n",
    "pred4000_cnn2 = np.argmax(prob4000_cnn2, axis=1)\n",
    "\n",
    "\n",
    "pred1400_cnn2 = np.argmax(prob1400_cnn2, axis=1)\n",
    "pred2400_cnn2 = np.argmax(prob2400_cnn2, axis=1)\n",
    "pred2700_cnn2 = np.argmax(prob2700_cnn2, axis=1)\n",
    "pred3100_cnn2 = np.argmax(prob3100_cnn2, axis=1)\n",
    "pred3400_cnn2 = np.argmax(prob3400_cnn2, axis=1)"
   ]
  },
  {
   "cell_type": "code",
   "execution_count": null,
   "id": "5f8eea9c",
   "metadata": {},
   "outputs": [],
   "source": []
  },
  {
   "cell_type": "code",
   "execution_count": 24,
   "id": "e07a3de8",
   "metadata": {},
   "outputs": [],
   "source": [
    "from sklearn import metrics"
   ]
  },
  {
   "cell_type": "markdown",
   "id": "cd01a5dd",
   "metadata": {},
   "source": [
    "# Now get the performance metrics "
   ]
  },
  {
   "cell_type": "code",
   "execution_count": 25,
   "id": "1e2d645d",
   "metadata": {},
   "outputs": [],
   "source": [
    "Prec_1000 = metrics.precision_score(lab1000, pred1000_cnn2, pos_label=1)\n",
    "rec_1000 = metrics.recall_score(lab1000, pred1000_cnn2, pos_label=1)\n",
    "Spec_1000 = metrics.recall_score(lab1000, pred1000_cnn2, pos_label=1)\n",
    "F1_1000 = metrics.f1_score(lab1000, pred1000_cnn2, pos_label=1)\n",
    "Acc_1000 = metrics.accuracy_score(lab1000, pred1000_cnn2)"
   ]
  },
  {
   "cell_type": "code",
   "execution_count": 26,
   "id": "b7261b16",
   "metadata": {},
   "outputs": [],
   "source": [
    "Prec_2000 = metrics.precision_score(lab2000, pred2000_cnn2, pos_label=1)\n",
    "rec_2000 = metrics.recall_score(lab2000, pred2000_cnn2, pos_label=1)\n",
    "Spec_2000 = metrics.recall_score(lab2000, pred2000_cnn2, pos_label=1)\n",
    "F1_2000 = metrics.f1_score(lab2000, pred2000_cnn2, pos_label=1)\n",
    "Acc_2000 = metrics.accuracy_score(lab2000, pred2000_cnn2)"
   ]
  },
  {
   "cell_type": "code",
   "execution_count": 27,
   "id": "683cf9d0",
   "metadata": {},
   "outputs": [],
   "source": [
    "Prec_3000 = metrics.precision_score(lab3000, pred3000_cnn2, pos_label=1)\n",
    "rec_3000 = metrics.recall_score(lab3000, pred3000_cnn2, pos_label=1)\n",
    "Spec_3000 = metrics.recall_score(lab3000, pred3000_cnn2, pos_label=1)\n",
    "F1_3000 = metrics.f1_score(lab3000, pred3000_cnn2, pos_label=1)\n",
    "Acc_3000 = metrics.accuracy_score(lab3000, pred3000_cnn2)"
   ]
  },
  {
   "cell_type": "code",
   "execution_count": 28,
   "id": "e80bfec3",
   "metadata": {},
   "outputs": [],
   "source": [
    "Prec_3200 = metrics.precision_score(lab3200, pred3200_cnn2, pos_label=1)\n",
    "rec_3200 = metrics.recall_score(lab3200, pred3200_cnn2, pos_label=1)\n",
    "Spec_3200 = metrics.recall_score(lab3200, pred3200_cnn2, pos_label=1)\n",
    "F1_3200 = metrics.f1_score(lab3200, pred3200_cnn2, pos_label=1)\n",
    "Acc_3200 = metrics.accuracy_score(lab3200, pred3200_cnn2)"
   ]
  },
  {
   "cell_type": "code",
   "execution_count": 29,
   "id": "e8c77489",
   "metadata": {},
   "outputs": [],
   "source": [
    "Prec_3600 = metrics.precision_score(lab3600, pred3600_cnn2, pos_label=1)\n",
    "rec_3600 = metrics.recall_score(lab3600, pred3600_cnn2, pos_label=1)\n",
    "Spec_3600 = metrics.recall_score(lab3600, pred3600_cnn2, pos_label=1)\n",
    "F1_3600 = metrics.f1_score(lab3600, pred3600_cnn2, pos_label=1)\n",
    "Acc_3600 = metrics.accuracy_score(lab3600, pred3600_cnn2)"
   ]
  },
  {
   "cell_type": "code",
   "execution_count": 30,
   "id": "a4bfb922",
   "metadata": {},
   "outputs": [],
   "source": [
    "Prec_4000 = metrics.precision_score(lab4000, pred4000_cnn2, pos_label=1)\n",
    "rec_4000 = metrics.recall_score(lab4000, pred4000_cnn2, pos_label=1)\n",
    "Spec_4000 = metrics.recall_score(lab4000, pred4000_cnn2, pos_label=1)\n",
    "F1_4000 = metrics.f1_score(lab4000, pred4000_cnn2, pos_label=1)\n",
    "Acc_4000 = metrics.accuracy_score(lab4000, pred4000_cnn2)"
   ]
  },
  {
   "cell_type": "code",
   "execution_count": null,
   "id": "eb1da259",
   "metadata": {},
   "outputs": [],
   "source": []
  },
  {
   "cell_type": "code",
   "execution_count": 31,
   "id": "eac01236",
   "metadata": {},
   "outputs": [],
   "source": [
    "Prec_1400 = metrics.precision_score(lab1400, pred1400_cnn2, pos_label=1)\n",
    "rec_1400 = metrics.recall_score(lab1400, pred1400_cnn2, pos_label=1)\n",
    "Spec_1400 = metrics.recall_score(lab1400, pred1400_cnn2, pos_label=1)\n",
    "F1_1400 = metrics.f1_score(lab1400, pred1400_cnn2, pos_label=1)\n",
    "Acc_1400 = metrics.accuracy_score(lab1400, pred1400_cnn2)"
   ]
  },
  {
   "cell_type": "code",
   "execution_count": 32,
   "id": "51000f2c",
   "metadata": {},
   "outputs": [],
   "source": [
    "Prec_2400 = metrics.precision_score(lab2400, pred2400_cnn2, pos_label=1)\n",
    "rec_2400 = metrics.recall_score(lab2400, pred2400_cnn2, pos_label=1)\n",
    "Spec_2400 = metrics.recall_score(lab2400, pred2400_cnn2, pos_label=1)\n",
    "F1_2400 = metrics.f1_score(lab2400, pred2400_cnn2, pos_label=1)\n",
    "Acc_2400 = metrics.accuracy_score(lab2400, pred2400_cnn2)"
   ]
  },
  {
   "cell_type": "code",
   "execution_count": 33,
   "id": "fd18206c",
   "metadata": {},
   "outputs": [],
   "source": [
    "Prec_2700 = metrics.precision_score(lab2700, pred2700_cnn2, pos_label=1)\n",
    "rec_2700 = metrics.recall_score(lab2700, pred2700_cnn2, pos_label=1)\n",
    "Spec_2700 = metrics.recall_score(lab2700, pred2700_cnn2, pos_label=1)\n",
    "F1_2700 = metrics.f1_score(lab2700, pred2700_cnn2, pos_label=1)\n",
    "Acc_2700 = metrics.accuracy_score(lab2700, pred2700_cnn2)"
   ]
  },
  {
   "cell_type": "code",
   "execution_count": 34,
   "id": "f2b929a6",
   "metadata": {},
   "outputs": [],
   "source": [
    "Prec_3100 = metrics.precision_score(lab3100, pred3100_cnn2, pos_label=1)\n",
    "rec_3100 = metrics.recall_score(lab3100, pred3100_cnn2, pos_label=1)\n",
    "Spec_3100 = metrics.recall_score(lab3100, pred3100_cnn2, pos_label=1)\n",
    "F1_3100 = metrics.f1_score(lab3100, pred3100_cnn2, pos_label=1)\n",
    "Acc_3100 = metrics.accuracy_score(lab3100, pred3100_cnn2)"
   ]
  },
  {
   "cell_type": "code",
   "execution_count": 35,
   "id": "df923115",
   "metadata": {},
   "outputs": [],
   "source": [
    "Prec_3400 = metrics.precision_score(lab3400, pred3400_cnn2, pos_label=1)\n",
    "rec_3400 = metrics.recall_score(lab3400, pred3400_cnn2, pos_label=1)\n",
    "Spec_3400 = metrics.recall_score(lab3400, pred3400_cnn2, pos_label=1)\n",
    "F1_3400 = metrics.f1_score(lab3400, pred3400_cnn2, pos_label=1)\n",
    "Acc_3400 = metrics.accuracy_score(lab3400, pred3400_cnn2)"
   ]
  },
  {
   "cell_type": "code",
   "execution_count": 36,
   "id": "a15a78d2",
   "metadata": {},
   "outputs": [],
   "source": [
    "metrics_cnn2 = pd.DataFrame({'Precision':[Prec_1000,Prec_1400 ,Prec_2000, Prec_2400, Prec_2700 ,Prec_3000, Prec_3100 ,Prec_3200,Prec_3400 ,Prec_3600, Prec_4000],\n",
    "                            'Recall':[rec_1000, rec_1400, rec_2000, rec_2400, rec_2700,rec_3000, rec_3100, rec_3200, rec_3400, rec_3600, rec_4000],\n",
    "                            'Specificity':[Spec_1000,Spec_1400 ,Spec_2000, Spec_2400, Spec_2700,Spec_3000, Spec_3100,Spec_3200,Spec_3400 ,Spec_3600, Spec_4000],\n",
    "                            'F1':[F1_1000, F1_1400,F1_2000, F1_2400, F1_2700, F1_3000, F1_3100,F1_3200, F1_3400, F1_3600, F1_4000],\n",
    "                            'Accuracy':[Acc_1000, Acc_1400, Acc_2000, Acc_2400 , Acc_2700 ,Acc_3000, Acc_3100,Acc_3200, Acc_3400 ,Acc_3600, Acc_4000],\n",
    "                            'Gain':[1000, 1400,2000,2400,2700,3000, 3100,3200,3400, 3600, 4000]})"
   ]
  },
  {
   "cell_type": "code",
   "execution_count": 37,
   "id": "9d780550",
   "metadata": {},
   "outputs": [
    {
     "data": {
      "text/html": [
       "<div>\n",
       "<style scoped>\n",
       "    .dataframe tbody tr th:only-of-type {\n",
       "        vertical-align: middle;\n",
       "    }\n",
       "\n",
       "    .dataframe tbody tr th {\n",
       "        vertical-align: top;\n",
       "    }\n",
       "\n",
       "    .dataframe thead th {\n",
       "        text-align: right;\n",
       "    }\n",
       "</style>\n",
       "<table border=\"1\" class=\"dataframe\">\n",
       "  <thead>\n",
       "    <tr style=\"text-align: right;\">\n",
       "      <th></th>\n",
       "      <th>Precision</th>\n",
       "      <th>Recall</th>\n",
       "      <th>Specificity</th>\n",
       "      <th>F1</th>\n",
       "      <th>Accuracy</th>\n",
       "      <th>Gain</th>\n",
       "    </tr>\n",
       "  </thead>\n",
       "  <tbody>\n",
       "    <tr>\n",
       "      <th>0</th>\n",
       "      <td>0.050471</td>\n",
       "      <td>0.555556</td>\n",
       "      <td>0.555556</td>\n",
       "      <td>0.092535</td>\n",
       "      <td>0.975593</td>\n",
       "      <td>1000</td>\n",
       "    </tr>\n",
       "    <tr>\n",
       "      <th>1</th>\n",
       "      <td>0.255409</td>\n",
       "      <td>0.779388</td>\n",
       "      <td>0.779388</td>\n",
       "      <td>0.384738</td>\n",
       "      <td>0.974521</td>\n",
       "      <td>1400</td>\n",
       "    </tr>\n",
       "    <tr>\n",
       "      <th>2</th>\n",
       "      <td>0.411593</td>\n",
       "      <td>0.846484</td>\n",
       "      <td>0.846484</td>\n",
       "      <td>0.553872</td>\n",
       "      <td>0.974062</td>\n",
       "      <td>2000</td>\n",
       "    </tr>\n",
       "    <tr>\n",
       "      <th>3</th>\n",
       "      <td>0.498043</td>\n",
       "      <td>0.913242</td>\n",
       "      <td>0.913242</td>\n",
       "      <td>0.644567</td>\n",
       "      <td>0.974962</td>\n",
       "      <td>2400</td>\n",
       "    </tr>\n",
       "    <tr>\n",
       "      <th>4</th>\n",
       "      <td>0.479528</td>\n",
       "      <td>0.913563</td>\n",
       "      <td>0.913563</td>\n",
       "      <td>0.628931</td>\n",
       "      <td>0.975080</td>\n",
       "      <td>2700</td>\n",
       "    </tr>\n",
       "    <tr>\n",
       "      <th>5</th>\n",
       "      <td>0.516118</td>\n",
       "      <td>0.940037</td>\n",
       "      <td>0.940037</td>\n",
       "      <td>0.666371</td>\n",
       "      <td>0.975589</td>\n",
       "      <td>3000</td>\n",
       "    </tr>\n",
       "    <tr>\n",
       "      <th>6</th>\n",
       "      <td>0.571515</td>\n",
       "      <td>0.946204</td>\n",
       "      <td>0.946204</td>\n",
       "      <td>0.712609</td>\n",
       "      <td>0.975565</td>\n",
       "      <td>3100</td>\n",
       "    </tr>\n",
       "    <tr>\n",
       "      <th>7</th>\n",
       "      <td>0.536617</td>\n",
       "      <td>0.952770</td>\n",
       "      <td>0.952770</td>\n",
       "      <td>0.686555</td>\n",
       "      <td>0.975877</td>\n",
       "      <td>3200</td>\n",
       "    </tr>\n",
       "    <tr>\n",
       "      <th>8</th>\n",
       "      <td>0.537832</td>\n",
       "      <td>0.943136</td>\n",
       "      <td>0.943136</td>\n",
       "      <td>0.685023</td>\n",
       "      <td>0.975596</td>\n",
       "      <td>3400</td>\n",
       "    </tr>\n",
       "    <tr>\n",
       "      <th>9</th>\n",
       "      <td>0.596280</td>\n",
       "      <td>0.954650</td>\n",
       "      <td>0.954650</td>\n",
       "      <td>0.734061</td>\n",
       "      <td>0.975769</td>\n",
       "      <td>3600</td>\n",
       "    </tr>\n",
       "    <tr>\n",
       "      <th>10</th>\n",
       "      <td>0.574359</td>\n",
       "      <td>0.962588</td>\n",
       "      <td>0.962588</td>\n",
       "      <td>0.719441</td>\n",
       "      <td>0.976092</td>\n",
       "      <td>4000</td>\n",
       "    </tr>\n",
       "  </tbody>\n",
       "</table>\n",
       "</div>"
      ],
      "text/plain": [
       "    Precision    Recall  Specificity        F1  Accuracy  Gain\n",
       "0    0.050471  0.555556     0.555556  0.092535  0.975593  1000\n",
       "1    0.255409  0.779388     0.779388  0.384738  0.974521  1400\n",
       "2    0.411593  0.846484     0.846484  0.553872  0.974062  2000\n",
       "3    0.498043  0.913242     0.913242  0.644567  0.974962  2400\n",
       "4    0.479528  0.913563     0.913563  0.628931  0.975080  2700\n",
       "5    0.516118  0.940037     0.940037  0.666371  0.975589  3000\n",
       "6    0.571515  0.946204     0.946204  0.712609  0.975565  3100\n",
       "7    0.536617  0.952770     0.952770  0.686555  0.975877  3200\n",
       "8    0.537832  0.943136     0.943136  0.685023  0.975596  3400\n",
       "9    0.596280  0.954650     0.954650  0.734061  0.975769  3600\n",
       "10   0.574359  0.962588     0.962588  0.719441  0.976092  4000"
      ]
     },
     "execution_count": 37,
     "metadata": {},
     "output_type": "execute_result"
    }
   ],
   "source": [
    "metrics_cnn2"
   ]
  },
  {
   "cell_type": "code",
   "execution_count": 38,
   "id": "d6ae1a66",
   "metadata": {},
   "outputs": [
    {
     "data": {
      "image/png": "[encoded data removed]",
      "text/plain": [
       "<Figure size 864x576 with 1 Axes>"
      ]
     },
     "metadata": {
      "needs_background": "light"
     },
     "output_type": "display_data"
    }
   ],
   "source": [
    "plt.figure(figsize=(12, 8))\n",
    "#plt.plot(metrics_cnn2['Gain'], metrics_cnn2['Accuracy'], color='steelblue', marker='o')\n",
    "#plt.plot(metrics_cnn2['Gain'], metrics_cnn2['Precision'], color='red', marker='o', label='precision')\n",
    "plt.plot(metrics_cnn2['Gain'], metrics_cnn2['Recall'], color='orange', marker='o', label='Recall')\n",
    "plt.axhline(y=0.996225, linestyle='--', color='black', label='Initial test recall = 0.996225')\n",
    "#plt.plot(metrics_cnn2['Gain'], metrics_cnn2['Specificity'], color='deeppink', marker='o', label='specificity')\n",
    "#plt.plot(metrics_cnn2['Gain'], metrics_cnn2['F1'], color='cyan', marker='o', label='F1')\n",
    "#plt.xlim(2600, 4000)\n",
    "#plt.ylim(0.98, 1)\n",
    "plt.legend()\n",
    "plt.show()"
   ]
  },
  {
   "cell_type": "code",
   "execution_count": 39,
   "id": "15d6dddd",
   "metadata": {},
   "outputs": [
    {
     "data": {
      "image/png": "[encoded data removed]",
      "text/plain": [
       "<Figure size 864x576 with 1 Axes>"
      ]
     },
     "metadata": {
      "needs_background": "light"
     },
     "output_type": "display_data"
    }
   ],
   "source": [
    "plt.figure(figsize=(12, 8))\n",
    "#plt.plot(metrics_cnn2['Gain'], metrics_cnn2['Accuracy'], color='steelblue', marker='o')\n",
    "#plt.plot(metrics_cnn2['Gain'], metrics_cnn2['Precision'], color='red', marker='o', label='precision')\n",
    "plt.plot(metrics_cnn2['Gain'], metrics_cnn2['Recall'], color='springgreen', marker='o', label='Recall')\n",
    "plt.axhline(y=0.996225, linestyle='--', color='black', label='Initial test recall = 0.996225')\n",
    "#plt.plot(metrics_cnn2['Gain'], metrics_cnn2['Specificity'], color='deeppink', marker='o', label='specificity')\n",
    "#plt.plot(metrics_cnn2['Gain'], metrics_cnn2['F1'], color='cyan', marker='o', label='F1')\n",
    "#plt.xlim(2600, 4000)\n",
    "#plt.ylim(0.98, 1)\n",
    "plt.ylabel(\"Recall\", fontsize=14)\n",
    "plt.xlabel(\"Gas gain\", fontsize=14)\n",
    "plt.legend()\n",
    "plt.show()"
   ]
  },
  {
   "cell_type": "code",
   "execution_count": 40,
   "id": "9e5b0109",
   "metadata": {},
   "outputs": [
    {
     "data": {
      "image/png": "[encoded data removed]",
      "text/plain": [
       "<Figure size 864x576 with 1 Axes>"
      ]
     },
     "metadata": {
      "needs_background": "light"
     },
     "output_type": "display_data"
    }
   ],
   "source": [
    "plt.figure(figsize=(12, 8))\n",
    "plt.plot(metrics_cnn2['Gain'], metrics_cnn2['Accuracy'], color='royalblue', marker='o')\n",
    "plt.axhline(y=0.989024, linestyle='--', color='black', label=\"Untuned test accuracy\")\n",
    "plt.xlabel(\"Gas gain\",fontsize=14)\n",
    "plt.ylabel(\"Accuracy\",fontsize=14)\n",
    "plt.show()"
   ]
  },
  {
   "cell_type": "code",
   "execution_count": 41,
   "id": "7ec4c195",
   "metadata": {},
   "outputs": [
    {
     "data": {
      "image/png": "[encoded data removed]",
      "text/plain": [
       "<Figure size 864x576 with 1 Axes>"
      ]
     },
     "metadata": {
      "needs_background": "light"
     },
     "output_type": "display_data"
    }
   ],
   "source": [
    "plt.figure(figsize=(12, 8))\n",
    "#plt.plot(metrics_cnn2['Gain'], metrics_cnn2['Recall'], color='steelblue', marker='o')\n",
    "plt.plot(metrics_cnn2['Gain'], metrics_cnn2['Precision'], color='red', marker='o')\n",
    "plt.axhline(y=0.961414, color='black', linestyle='--', label='untuned test precision')\n",
    "plt.ylabel(\"Precision\",fontsize=14)\n",
    "plt.xlabel(\"Gas gain\",fontsize=14)\n",
    "plt.legend()\n",
    "plt.show()"
   ]
  },
  {
   "cell_type": "code",
   "execution_count": 42,
   "id": "1bf774c5",
   "metadata": {},
   "outputs": [
    {
     "data": {
      "image/png": "[encoded data removed]",
      "text/plain": [
       "<Figure size 864x576 with 1 Axes>"
      ]
     },
     "metadata": {
      "needs_background": "light"
     },
     "output_type": "display_data"
    }
   ],
   "source": [
    "plt.figure(figsize=(12, 8))\n",
    "#plt.plot(metrics_cnn2['Gain'], metrics_cnn2['Recall'], color='steelblue', marker='o')\n",
    "plt.plot(metrics_cnn2['Gain'], metrics_cnn2['Precision'], color='red', marker='o')\n",
    "plt.axhline(y=0.961414, color='black', linestyle='--', label='untuned test precision')\n",
    "plt.ylabel(\"Precision\",fontsize=14)\n",
    "plt.xlabel(\"Gas gain\",fontsize=14)\n",
    "#plt.xlim(2400, 4000)\n",
    "#plt.ylim(0.45, 0.681)\n",
    "plt.legend()\n",
    "plt.show()"
   ]
  },
  {
   "cell_type": "code",
   "execution_count": 43,
   "id": "d40cb679",
   "metadata": {},
   "outputs": [
    {
     "data": {
      "image/png": "[encoded data removed]",
      "text/plain": [
       "<Figure size 864x576 with 1 Axes>"
      ]
     },
     "metadata": {
      "needs_background": "light"
     },
     "output_type": "display_data"
    }
   ],
   "source": [
    "plt.figure(figsize=(12, 8))\n",
    "#plt.plot(metrics_cnn2['Gain'], metrics_cnn2['Recall'], color='steelblue', marker='o')\n",
    "plt.plot(metrics_cnn2['Gain'], metrics_cnn2['F1'], color='purple', marker='o')\n",
    "plt.axhline(y=0.9785106, color='black', linestyle='--', label=\"initial test F1 score\")\n",
    "plt.ylabel(\"F1 score\",fontsize=14)\n",
    "plt.xlabel(\"Gas gain\",fontsize=14)\n",
    "plt.legend()\n",
    "plt.show()"
   ]
  },
  {
   "cell_type": "code",
   "execution_count": 44,
   "id": "04b9fc0d",
   "metadata": {},
   "outputs": [
    {
     "data": {
      "image/png": "[encoded data removed]",
      "text/plain": [
       "<Figure size 864x576 with 1 Axes>"
      ]
     },
     "metadata": {
      "needs_background": "light"
     },
     "output_type": "display_data"
    }
   ],
   "source": [
    "plt.figure(figsize=(12, 8))\n",
    "#plt.plot(metrics_cnn2['Gain'], metrics_cnn2['Recall'], color='steelblue', marker='o')\n",
    "plt.plot(metrics_cnn2['Gain'], metrics_cnn2['F1'], color='purple', marker='o')\n",
    "plt.axhline(y=0.9785106, color='black', linestyle='--', label=\"initial test F1 score\")\n",
    "plt.ylabel(\"F1 score\",fontsize=14)\n",
    "plt.xlabel(\"Gas gain\",fontsize=14)\n",
    "#plt.xlim(2400, 4000)\n",
    "#plt.ylim(0.7, 1)\n",
    "plt.legend()\n",
    "plt.show()"
   ]
  },
  {
   "cell_type": "code",
   "execution_count": 45,
   "id": "71436b3f",
   "metadata": {},
   "outputs": [],
   "source": [
    "from avgph import *"
   ]
  },
  {
   "cell_type": "code",
   "execution_count": 46,
   "id": "b20ddca8",
   "metadata": {},
   "outputs": [],
   "source": [
    "t1000, adc1000 = pharray(df1000)\n",
    "\n",
    "t1400, adc1400 = pharray(df1400)\n",
    "\n",
    "t2000, adc2000 = pharray(df2000)\n",
    "\n",
    "t2400, adc2400 = pharray(df2400)\n",
    "\n",
    "t2700, adc2700 = pharray(df2700)\n",
    "\n",
    "t3000, adc3000 = pharray(df3000)\n",
    "\n",
    "t3100, adc3100 = pharray(df3100)\n",
    "\n",
    "t3200, adc3200 = pharray(df3200)\n",
    "\n",
    "t3400, adc3400 = pharray(df3400)\n",
    "\n",
    "t3600, adc3600 = pharray(df3600)\n",
    "t4000, adc4000 = pharray(df4000)"
   ]
  },
  {
   "cell_type": "code",
   "execution_count": 47,
   "id": "bf4783cf",
   "metadata": {},
   "outputs": [],
   "source": [
    "tr, adcr = pharray(real_test)"
   ]
  },
  {
   "cell_type": "code",
   "execution_count": 71,
   "id": "d909eadb",
   "metadata": {},
   "outputs": [
    {
     "data": {
      "image/png": "[encoded data removed]",
      "text/plain": [
       "<Figure size 1008x504 with 1 Axes>"
      ]
     },
     "metadata": {
      "needs_background": "light"
     },
     "output_type": "display_data"
    }
   ],
   "source": [
    "plt.figure(figsize=(14, 7))\n",
    "#plt.plot(t1000, adc1000, label='gain=1000', linestyle='--')\n",
    "plt.plot(t1400, adc1400, label='gain=1400', linestyle='-', marker='*')\n",
    "\n",
    "plt.plot(t2000, adc2000, label='gain=2000', linestyle='--')\n",
    "#plt.plot(t2400, adc2400, label='gain=2400', linestyle='-.')\n",
    "plt.plot(t2700, adc2700, label='gain=2700', linestyle='-', marker='*')\n",
    "\n",
    "#plt.plot(t3000, adc3000, label='gain=3000', linestyle='-.')\n",
    "plt.plot(t3100, adc3100, label='gain=3100', linestyle='-', marker='*')\n",
    "\n",
    "plt.plot(t3200, adc3200, label='gain=3200', linestyle='-', marker='*')\n",
    "plt.plot(t3400, adc3400, label='gain=3400', linestyle='-', marker='*')\n",
    "\n",
    "#plt.plot(t3600, adc3600, label='gain=3600', linestyle='--')\n",
    "plt.plot(t4000, adc4000, label='gain=4000', linestyle='-', marker='*')\n",
    "plt.plot(tr, adcr, label='real sample', marker='o', color='blue')\n",
    "plt.xlabel(\"Time bin (100ns)\")\n",
    "plt.ylabel(\"ADC\")\n",
    "plt.legend()\n",
    "plt.show()"
   ]
  },
  {
   "cell_type": "code",
   "execution_count": 69,
   "id": "4093158c",
   "metadata": {},
   "outputs": [
    {
     "data": {
      "image/png": "[encoded data removed]",
      "text/plain": [
       "<Figure size 1008x504 with 1 Axes>"
      ]
     },
     "metadata": {
      "needs_background": "light"
     },
     "output_type": "display_data"
    }
   ],
   "source": [
    "plt.figure(figsize=(14, 7))\n",
    "#plt.plot(t1000, adc1000, label='gain=1000', linestyle='--')\n",
    "#plt.plot(t1400, adc1400, label='gain=1400', linestyle='-')\n",
    "\n",
    "#plt.plot(t2000, adc2000, label='gain=2000', linestyle='--')\n",
    "#plt.plot(t2400, adc2400, label='gain=2400', linestyle='-.')\n",
    "plt.plot(t2700, adc2700, label='gain=2700', linestyle='-', marker='*')\n",
    "\n",
    "#plt.plot(t3000, adc3000, label='gain=3000', linestyle='-.')\n",
    "#plt.plot(t3100, adc3100, label='gain=3100', linestyle='-')\n",
    "\n",
    "plt.plot(t3200, adc3200, label='gain=3200', linestyle='--')\n",
    "plt.plot(t3400, adc3400, label='gain=3400', linestyle='-.')\n",
    "\n",
    "#plt.plot(t3600, adc3600, label='gain=3600', linestyle='--')\n",
    "plt.plot(t4000, adc4000, label='gain=4000', linestyle='-')\n",
    "plt.plot(tr, adcr, label='real sample', marker='o', color='blue')\n",
    "plt.xlabel(\"Time bin (100ns)\")\n",
    "plt.ylabel(\"ADC\")\n",
    "plt.legend()\n",
    "plt.show()"
   ]
  },
  {
   "cell_type": "markdown",
   "id": "8e7d11c0",
   "metadata": {},
   "source": [
    "# Confusion matrices"
   ]
  },
  {
   "cell_type": "code",
   "execution_count": 50,
   "id": "3ae9c5b4",
   "metadata": {},
   "outputs": [
    {
     "data": {
      "image/png": "[encoded data removed]",
      "text/plain": [
       "<Figure size 432x288 with 2 Axes>"
      ]
     },
     "metadata": {
      "needs_background": "light"
     },
     "output_type": "display_data"
    }
   ],
   "source": [
    "confusion_mat_1000 = metrics.confusion_matrix(lab1000, pred1000_cnn2, labels=[0, 1])\n",
    "cm_display_1000 = metrics.ConfusionMatrixDisplay(confusion_matrix = confusion_mat_1000, display_labels = [\"Real\", \"Sim\"])\n",
    "\n",
    "cm_display_1000.plot(cmap='YlOrRd')\n",
    "plt.show()"
   ]
  },
  {
   "cell_type": "code",
   "execution_count": 51,
   "id": "694d2d85",
   "metadata": {},
   "outputs": [
    {
     "data": {
      "text/plain": [
       "0.11245865490628446"
      ]
     },
     "execution_count": 51,
     "metadata": {},
     "output_type": "execute_result"
    }
   ],
   "source": [
    "102/(102+805)"
   ]
  },
  {
   "cell_type": "code",
   "execution_count": 52,
   "id": "67ca60c9",
   "metadata": {},
   "outputs": [
    {
     "data": {
      "image/png": "[encoded data removed]",
      "text/plain": [
       "<Figure size 432x288 with 2 Axes>"
      ]
     },
     "metadata": {
      "needs_background": "light"
     },
     "output_type": "display_data"
    }
   ],
   "source": [
    "confusion_mat_2000 = metrics.confusion_matrix(lab2000, pred2000_cnn2, labels=[0, 1])\n",
    "cm_display_2000 = metrics.ConfusionMatrixDisplay(confusion_matrix = confusion_mat_2000, display_labels = [\"Real\", \"Sim\"])\n",
    "\n",
    "cm_display_2000.plot(cmap='YlOrRd')\n",
    "plt.show()"
   ]
  },
  {
   "cell_type": "code",
   "execution_count": 53,
   "id": "43a135d5",
   "metadata": {},
   "outputs": [
    {
     "data": {
      "image/png": "[encoded data removed]",
      "text/plain": [
       "<Figure size 432x288 with 2 Axes>"
      ]
     },
     "metadata": {
      "needs_background": "light"
     },
     "output_type": "display_data"
    }
   ],
   "source": [
    "confusion_mat_3000 = metrics.confusion_matrix(lab3000, pred3000_cnn2, labels=[0, 1])\n",
    "cm_display_3000 = metrics.ConfusionMatrixDisplay(confusion_matrix = confusion_mat_3000, display_labels = [\"Real\", \"Sim\"])\n",
    "\n",
    "cm_display_3000.plot(cmap='YlOrRd')\n",
    "plt.show()"
   ]
  },
  {
   "cell_type": "code",
   "execution_count": 63,
   "id": "0482136b",
   "metadata": {},
   "outputs": [
    {
     "data": {
      "image/png": "[encoded data removed]",
      "text/plain": [
       "<Figure size 432x288 with 2 Axes>"
      ]
     },
     "metadata": {
      "needs_background": "light"
     },
     "output_type": "display_data"
    }
   ],
   "source": [
    "confusion_mat_2700 = metrics.confusion_matrix(lab2700, pred2700_cnn2, labels=[0, 1])\n",
    "cm_display_2700 = metrics.ConfusionMatrixDisplay(confusion_matrix = confusion_mat_2700, display_labels = [\"Real\", \"Sim\"])\n",
    "\n",
    "cm_display_2700.plot(cmap='YlOrRd')\n",
    "plt.show()"
   ]
  },
  {
   "cell_type": "code",
   "execution_count": 54,
   "id": "00e77068",
   "metadata": {},
   "outputs": [],
   "source": [
    "import seaborn as sns "
   ]
  },
  {
   "cell_type": "code",
   "execution_count": 55,
   "id": "68ea32e2",
   "metadata": {},
   "outputs": [],
   "source": [
    "#plt.figure(figsize=(10,4))\n",
    "#sns.heatmap(sig_1000_n[10], cmap='viridis')"
   ]
  },
  {
   "cell_type": "code",
   "execution_count": 56,
   "id": "5c32543c",
   "metadata": {},
   "outputs": [],
   "source": [
    "#fout = cnn2.layers[0].output\n",
    "#fin = cnn2.layers[0].input\n",
    "\n",
    "#flmod = Model(inputs = fin, outputs=fout)\n",
    "#act = flmod.predict(sig_1000_n)"
   ]
  },
  {
   "cell_type": "code",
   "execution_count": 57,
   "id": "42fcc9da",
   "metadata": {},
   "outputs": [],
   "source": [
    "#act[0][0].shape"
   ]
  },
  {
   "cell_type": "code",
   "execution_count": 58,
   "id": "6217c9e0",
   "metadata": {
    "scrolled": false
   },
   "outputs": [],
   "source": [
    "#for i in range(10):\n",
    "#    plt.figure(figsize=(10, 4))\n",
    "#    sns.heatmap(act[0, :, :, i], cmap='plasma')"
   ]
  },
  {
   "cell_type": "code",
   "execution_count": 59,
   "id": "ab6da581",
   "metadata": {},
   "outputs": [
    {
     "data": {
      "text/plain": [
       "(60269, 91)"
      ]
     },
     "execution_count": 59,
     "metadata": {},
     "output_type": "execute_result"
    }
   ],
   "source": [
    "test1000.shape"
   ]
  },
  {
   "cell_type": "code",
   "execution_count": 60,
   "id": "e6116b8c",
   "metadata": {},
   "outputs": [
    {
     "data": {
      "text/plain": [
       "(60755, 91)"
      ]
     },
     "execution_count": 60,
     "metadata": {},
     "output_type": "execute_result"
    }
   ],
   "source": [
    "test1400.shape"
   ]
  },
  {
   "cell_type": "code",
   "execution_count": 61,
   "id": "ed1e3eb0",
   "metadata": {},
   "outputs": [
    {
     "data": {
      "text/plain": [
       "(61667, 91)"
      ]
     },
     "execution_count": 61,
     "metadata": {},
     "output_type": "execute_result"
    }
   ],
   "source": [
    "test2400.shape"
   ]
  },
  {
   "cell_type": "code",
   "execution_count": 62,
   "id": "60eafa62",
   "metadata": {},
   "outputs": [
    {
     "data": {
      "text/plain": [
       "(61557, 91)"
      ]
     },
     "execution_count": 62,
     "metadata": {},
     "output_type": "execute_result"
    }
   ],
   "source": [
    "test2700.shape"
   ]
  },
  {
   "cell_type": "code",
   "execution_count": null,
   "id": "f7fd5441",
   "metadata": {},
   "outputs": [],
   "source": []
  }
 ],
 "metadata": {
  "kernelspec": {
   "display_name": "Python 3 (ipykernel)",
   "language": "python",
   "name": "python3"
  },
  "language_info": {
   "codemirror_mode": {
    "name": "ipython",
    "version": 3
   },
   "file_extension": ".py",
   "mimetype": "text/x-python",
   "name": "python",
   "nbconvert_exporter": "python",
   "pygments_lexer": "ipython3",
   "version": "3.9.7"
  }
 },
 "nbformat": 4,
 "nbformat_minor": 5
}
