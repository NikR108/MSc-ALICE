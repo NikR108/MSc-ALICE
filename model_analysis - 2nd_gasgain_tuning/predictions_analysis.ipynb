{
 "cells": [
  {
   "cell_type": "code",
   "execution_count": 1,
   "id": "30024d68",
   "metadata": {},
   "outputs": [],
   "source": [
    "\n",
    "\n",
    "\n",
    "\n",
    "import numpy as np\n",
    "import matplotlib.pyplot as plt \n",
    "import pandas as pd\n",
    "import keras \n",
    "from keras.models import Sequential\n",
    "from keras.layers import Dense \n",
    "import tensorflow\n",
    "#from tensorflow.keras.utils import to_categorical\n",
    "from keras import layers\n",
    "#from keras.utils import to_categorical\n",
    "from keras.callbacks import EarlyStopping\n",
    "from keras.datasets import mnist\n",
    "from keras.models import Model\n",
    "from keras.layers import Dense, Input\n",
    "from keras.layers import Conv2D, MaxPooling2D, Dropout, Flatten\n",
    "from keras import backend as K\n",
    "from keras.utils import np_utils\n",
    "\n",
    "from tensorflow.keras.models import load_model"
   ]
  },
  {
   "cell_type": "code",
   "execution_count": 2,
   "id": "143906b8",
   "metadata": {},
   "outputs": [
    {
     "name": "stdout",
     "output_type": "stream",
     "text": [
      " Volume in drive C is Windows\n",
      " Volume Serial Number is 4051-E7E7\n",
      "\n",
      " Directory of C:\\Users\\Nikhiel\\Desktop\\Total_batch\\NET1\n",
      "\n",
      "2022/11/25  08:15    <DIR>          .\n",
      "2022/11/25  08:08    <DIR>          ..\n",
      "2022/11/25  08:13    <DIR>          .ipynb_checkpoints\n",
      "2022/11/24  09:38         4ÿ317ÿ453 cnet1_res.txt\n",
      "2022/11/24  09:39            42ÿ208 cnn1.h5\n",
      "2022/11/24  09:39             5ÿ544 cnn1.py\n",
      "2022/11/24  09:38             5ÿ796 cnn1_history.csv\n",
      "2022/11/24  10:37           652ÿ233 cnn1_viz.html\n",
      "2022/11/24  10:38            69ÿ462 cnn1_viz.ipynb\n",
      "2022/11/25  08:15               588 predictions_analysis.ipynb\n",
      "2022/11/22  00:06        21ÿ624ÿ058 test.csv\n",
      "               8 File(s)     26ÿ717ÿ342 bytes\n",
      "               3 Dir(s)  290ÿ054ÿ496ÿ256 bytes free\n"
     ]
    }
   ],
   "source": [
    "%ls"
   ]
  },
  {
   "cell_type": "code",
   "execution_count": 15,
   "id": "d5135e02",
   "metadata": {},
   "outputs": [],
   "source": [
    "test = pd.read_csv(\"test.csv\")"
   ]
  },
  {
   "cell_type": "code",
   "execution_count": 16,
   "id": "00ba23f4",
   "metadata": {},
   "outputs": [
    {
     "data": {
      "text/plain": [
       "80268"
      ]
     },
     "execution_count": 16,
     "metadata": {},
     "output_type": "execute_result"
    }
   ],
   "source": [
    "len(test)"
   ]
  },
  {
   "cell_type": "code",
   "execution_count": 17,
   "id": "1571b21b",
   "metadata": {},
   "outputs": [
    {
     "data": {
      "text/html": [
       "<div>\n",
       "<style scoped>\n",
       "    .dataframe tbody tr th:only-of-type {\n",
       "        vertical-align: middle;\n",
       "    }\n",
       "\n",
       "    .dataframe tbody tr th {\n",
       "        vertical-align: top;\n",
       "    }\n",
       "\n",
       "    .dataframe thead th {\n",
       "        text-align: right;\n",
       "    }\n",
       "</style>\n",
       "<table border=\"1\" class=\"dataframe\">\n",
       "  <thead>\n",
       "    <tr style=\"text-align: right;\">\n",
       "      <th></th>\n",
       "      <th>AN00</th>\n",
       "      <th>AN01</th>\n",
       "      <th>AN02</th>\n",
       "      <th>AN03</th>\n",
       "      <th>AN04</th>\n",
       "      <th>AN05</th>\n",
       "      <th>AN06</th>\n",
       "      <th>AN07</th>\n",
       "      <th>AN08</th>\n",
       "      <th>AN09</th>\n",
       "      <th>...</th>\n",
       "      <th>BN21</th>\n",
       "      <th>BN22</th>\n",
       "      <th>BN23</th>\n",
       "      <th>BN24</th>\n",
       "      <th>BN25</th>\n",
       "      <th>BN26</th>\n",
       "      <th>BN27</th>\n",
       "      <th>BN28</th>\n",
       "      <th>BN29</th>\n",
       "      <th>label</th>\n",
       "    </tr>\n",
       "  </thead>\n",
       "  <tbody>\n",
       "    <tr>\n",
       "      <th>0</th>\n",
       "      <td>10</td>\n",
       "      <td>8</td>\n",
       "      <td>10</td>\n",
       "      <td>11</td>\n",
       "      <td>10</td>\n",
       "      <td>10</td>\n",
       "      <td>20</td>\n",
       "      <td>63</td>\n",
       "      <td>68</td>\n",
       "      <td>42</td>\n",
       "      <td>...</td>\n",
       "      <td>15</td>\n",
       "      <td>15</td>\n",
       "      <td>14</td>\n",
       "      <td>13</td>\n",
       "      <td>13</td>\n",
       "      <td>13</td>\n",
       "      <td>12</td>\n",
       "      <td>12</td>\n",
       "      <td>12</td>\n",
       "      <td>0</td>\n",
       "    </tr>\n",
       "    <tr>\n",
       "      <th>1</th>\n",
       "      <td>89</td>\n",
       "      <td>122</td>\n",
       "      <td>65</td>\n",
       "      <td>40</td>\n",
       "      <td>30</td>\n",
       "      <td>26</td>\n",
       "      <td>23</td>\n",
       "      <td>22</td>\n",
       "      <td>19</td>\n",
       "      <td>18</td>\n",
       "      <td>...</td>\n",
       "      <td>14</td>\n",
       "      <td>13</td>\n",
       "      <td>11</td>\n",
       "      <td>11</td>\n",
       "      <td>12</td>\n",
       "      <td>11</td>\n",
       "      <td>14</td>\n",
       "      <td>11</td>\n",
       "      <td>11</td>\n",
       "      <td>0</td>\n",
       "    </tr>\n",
       "    <tr>\n",
       "      <th>2</th>\n",
       "      <td>11</td>\n",
       "      <td>12</td>\n",
       "      <td>10</td>\n",
       "      <td>13</td>\n",
       "      <td>12</td>\n",
       "      <td>13</td>\n",
       "      <td>12</td>\n",
       "      <td>12</td>\n",
       "      <td>14</td>\n",
       "      <td>15</td>\n",
       "      <td>...</td>\n",
       "      <td>10</td>\n",
       "      <td>11</td>\n",
       "      <td>9</td>\n",
       "      <td>11</td>\n",
       "      <td>8</td>\n",
       "      <td>9</td>\n",
       "      <td>13</td>\n",
       "      <td>10</td>\n",
       "      <td>10</td>\n",
       "      <td>0</td>\n",
       "    </tr>\n",
       "    <tr>\n",
       "      <th>3</th>\n",
       "      <td>30</td>\n",
       "      <td>46</td>\n",
       "      <td>29</td>\n",
       "      <td>22</td>\n",
       "      <td>19</td>\n",
       "      <td>20</td>\n",
       "      <td>38</td>\n",
       "      <td>50</td>\n",
       "      <td>39</td>\n",
       "      <td>37</td>\n",
       "      <td>...</td>\n",
       "      <td>11</td>\n",
       "      <td>9</td>\n",
       "      <td>8</td>\n",
       "      <td>11</td>\n",
       "      <td>9</td>\n",
       "      <td>7</td>\n",
       "      <td>10</td>\n",
       "      <td>9</td>\n",
       "      <td>9</td>\n",
       "      <td>0</td>\n",
       "    </tr>\n",
       "    <tr>\n",
       "      <th>4</th>\n",
       "      <td>16</td>\n",
       "      <td>20</td>\n",
       "      <td>16</td>\n",
       "      <td>15</td>\n",
       "      <td>12</td>\n",
       "      <td>12</td>\n",
       "      <td>12</td>\n",
       "      <td>11</td>\n",
       "      <td>11</td>\n",
       "      <td>11</td>\n",
       "      <td>...</td>\n",
       "      <td>31</td>\n",
       "      <td>29</td>\n",
       "      <td>25</td>\n",
       "      <td>28</td>\n",
       "      <td>37</td>\n",
       "      <td>34</td>\n",
       "      <td>30</td>\n",
       "      <td>25</td>\n",
       "      <td>32</td>\n",
       "      <td>1</td>\n",
       "    </tr>\n",
       "  </tbody>\n",
       "</table>\n",
       "<p>5 rows × 91 columns</p>\n",
       "</div>"
      ],
      "text/plain": [
       "   AN00  AN01  AN02  AN03  AN04  AN05  AN06  AN07  AN08  AN09  ...  BN21  \\\n",
       "0    10     8    10    11    10    10    20    63    68    42  ...    15   \n",
       "1    89   122    65    40    30    26    23    22    19    18  ...    14   \n",
       "2    11    12    10    13    12    13    12    12    14    15  ...    10   \n",
       "3    30    46    29    22    19    20    38    50    39    37  ...    11   \n",
       "4    16    20    16    15    12    12    12    11    11    11  ...    31   \n",
       "\n",
       "   BN22  BN23  BN24  BN25  BN26  BN27  BN28  BN29  label  \n",
       "0    15    14    13    13    13    12    12    12      0  \n",
       "1    13    11    11    12    11    14    11    11      0  \n",
       "2    11     9    11     8     9    13    10    10      0  \n",
       "3     9     8    11     9     7    10     9     9      0  \n",
       "4    29    25    28    37    34    30    25    32      1  \n",
       "\n",
       "[5 rows x 91 columns]"
      ]
     },
     "execution_count": 17,
     "metadata": {},
     "output_type": "execute_result"
    }
   ],
   "source": [
    "test.head()"
   ]
  },
  {
   "cell_type": "markdown",
   "id": "5d407b09",
   "metadata": {},
   "source": [
    "### Get the labels ohe and separate the signals "
   ]
  },
  {
   "cell_type": "code",
   "execution_count": 65,
   "id": "1df1d866",
   "metadata": {},
   "outputs": [],
   "source": [
    "signals = np.array(test.iloc[:, :90]).reshape(len(test), 3, 30)\n",
    "labels = np.array(test.label)"
   ]
  },
  {
   "cell_type": "code",
   "execution_count": 66,
   "id": "33433bd1",
   "metadata": {},
   "outputs": [],
   "source": [
    "labels_ohe = keras.utils.np_utils.to_categorical(labels, 2)"
   ]
  },
  {
   "cell_type": "code",
   "execution_count": 67,
   "id": "c4c934cb",
   "metadata": {},
   "outputs": [
    {
     "data": {
      "text/plain": [
       "array([0, 0, 0, ..., 1, 1, 0], dtype=int64)"
      ]
     },
     "execution_count": 67,
     "metadata": {},
     "output_type": "execute_result"
    }
   ],
   "source": [
    "labels"
   ]
  },
  {
   "cell_type": "code",
   "execution_count": 68,
   "id": "04130955",
   "metadata": {},
   "outputs": [
    {
     "data": {
      "text/plain": [
       "array([[1., 0.],\n",
       "       [1., 0.],\n",
       "       [1., 0.],\n",
       "       ...,\n",
       "       [0., 1.],\n",
       "       [0., 1.],\n",
       "       [1., 0.]], dtype=float32)"
      ]
     },
     "execution_count": 68,
     "metadata": {},
     "output_type": "execute_result"
    }
   ],
   "source": [
    "labels_ohe"
   ]
  },
  {
   "cell_type": "code",
   "execution_count": 69,
   "id": "ed181b17",
   "metadata": {},
   "outputs": [],
   "source": [
    "## Normalize the signals \n",
    "sigs_norm = signals/1023\n"
   ]
  },
  {
   "cell_type": "code",
   "execution_count": 70,
   "id": "ab294fe3",
   "metadata": {},
   "outputs": [
    {
     "data": {
      "text/plain": [
       "<matplotlib.image.AxesImage at 0x151a3ce3d00>"
      ]
     },
     "execution_count": 70,
     "metadata": {},
     "output_type": "execute_result"
    },
    {
     "data": {
      "image/png": "[encoded data removed]",
      "text/plain": [
       "<Figure size 432x288 with 1 Axes>"
      ]
     },
     "metadata": {
      "needs_background": "light"
     },
     "output_type": "display_data"
    }
   ],
   "source": [
    "plt.imshow(signals[1])"
   ]
  },
  {
   "cell_type": "code",
   "execution_count": null,
   "id": "e7ad8a86",
   "metadata": {},
   "outputs": [],
   "source": []
  },
  {
   "cell_type": "markdown",
   "id": "a32a77dd",
   "metadata": {},
   "source": [
    "## Load the keras model "
   ]
  },
  {
   "cell_type": "code",
   "execution_count": 24,
   "id": "df4bb743",
   "metadata": {},
   "outputs": [],
   "source": [
    "model = load_model('cnn1.h5')"
   ]
  },
  {
   "cell_type": "code",
   "execution_count": 25,
   "id": "25b6c487",
   "metadata": {},
   "outputs": [
    {
     "name": "stdout",
     "output_type": "stream",
     "text": [
      "Model: \"sequential\"\n",
      "_________________________________________________________________\n",
      " Layer (type)                Output Shape              Param #   \n",
      "=================================================================\n",
      " convol2D (Conv2D)           (None, 3, 30, 32)         320       \n",
      "                                                                 \n",
      " maxpool (MaxPooling2D)      (None, 1, 10, 32)         0         \n",
      "                                                                 \n",
      " flatten (Flatten)           (None, 320)               0         \n",
      "                                                                 \n",
      " dropout (Dropout)           (None, 320)               0         \n",
      "                                                                 \n",
      " Dense-output (Dense)        (None, 2)                 642       \n",
      "                                                                 \n",
      "=================================================================\n",
      "Total params: 962\n",
      "Trainable params: 962\n",
      "Non-trainable params: 0\n",
      "_________________________________________________________________\n"
     ]
    }
   ],
   "source": [
    "model.summary()"
   ]
  },
  {
   "cell_type": "code",
   "execution_count": 71,
   "id": "fb09a525",
   "metadata": {},
   "outputs": [],
   "source": [
    "### predict on data \n",
    "\n",
    "probs = model.predict(sigs_norm)\n"
   ]
  },
  {
   "cell_type": "code",
   "execution_count": 72,
   "id": "9f113521",
   "metadata": {},
   "outputs": [],
   "source": [
    "preds = np.argmax(probs, axis=1)"
   ]
  },
  {
   "cell_type": "code",
   "execution_count": 73,
   "id": "f20c4133",
   "metadata": {},
   "outputs": [
    {
     "data": {
      "text/plain": [
       "array([0, 0, 0, ..., 1, 1, 0], dtype=int64)"
      ]
     },
     "execution_count": 73,
     "metadata": {},
     "output_type": "execute_result"
    }
   ],
   "source": [
    "preds"
   ]
  },
  {
   "cell_type": "markdown",
   "id": "898bbb5d",
   "metadata": {},
   "source": [
    "### confusion matrix"
   ]
  },
  {
   "cell_type": "code",
   "execution_count": 74,
   "id": "ed939012",
   "metadata": {},
   "outputs": [
    {
     "data": {
      "image/png": "[encoded data removed]",
      "text/plain": [
       "<Figure size 432x288 with 2 Axes>"
      ]
     },
     "metadata": {
      "needs_background": "light"
     },
     "output_type": "display_data"
    }
   ],
   "source": [
    "from sklearn import metrics\n",
    "confusion_mat = metrics.confusion_matrix(labels, preds, labels=[0, 1])\n",
    "cm_display = metrics.ConfusionMatrixDisplay(confusion_matrix = confusion_mat, display_labels = [\"Real\", \"Sim\"])\n",
    "\n",
    "cm_display.plot(cmap='YlOrRd')\n",
    "plt.show() "
   ]
  },
  {
   "cell_type": "code",
   "execution_count": 75,
   "id": "25cc29e1",
   "metadata": {},
   "outputs": [],
   "source": [
    "Precision = metrics.precision_score(labels, preds, pos_label=1)\n",
    "Sensitivity_recall = metrics.recall_score(labels, preds, pos_label=1)\n",
    "Specificity = metrics.recall_score(labels, preds, pos_label=1)\n",
    "F1_score = metrics.f1_score(labels, preds, pos_label=1)\n",
    "Accuracy = metrics.accuracy_score(labels, preds)"
   ]
  },
  {
   "cell_type": "code",
   "execution_count": 76,
   "id": "6d23e4df",
   "metadata": {},
   "outputs": [
    {
     "name": "stdout",
     "output_type": "stream",
     "text": [
      "{'Accuracy': 0.9610554641949469, 'Precision': 0.9473905723905723, 'Sensitivity_recall': 0.8944074699513261, 'Specificity': 0.8944074699513261, 'F1_score': 0.9201369373051964}\n"
     ]
    }
   ],
   "source": [
    "print({\"Accuracy\":Accuracy,\"Precision\":Precision,\"Sensitivity_recall\":Sensitivity_recall,\"Specificity\":Specificity,\"F1_score\":F1_score})"
   ]
  },
  {
   "cell_type": "code",
   "execution_count": null,
   "id": "6c5d54b7",
   "metadata": {},
   "outputs": [],
   "source": []
  },
  {
   "cell_type": "code",
   "execution_count": 130,
   "id": "211f8448",
   "metadata": {},
   "outputs": [
    {
     "data": {
      "image/png": "[encoded data removed]",
      "text/plain": [
       "<Figure size 720x504 with 1 Axes>"
      ]
     },
     "metadata": {
      "needs_background": "light"
     },
     "output_type": "display_data"
    }
   ],
   "source": [
    "from sklearn.metrics import precision_recall_curve, auc\n",
    "\n",
    "prec, rec, thres = precision_recall_curve(labels_ohe.ravel(), probs.ravel())\n",
    "pr_auc=auc(rec, prec)\n",
    "\n",
    "plt.figure(figsize=(10, 7))\n",
    "plt.plot(rec, prec, label='(area = {:.3f})'.format(pr_auc), color='purple')\n",
    "#plt.axhline(0.25, color='red', linestyle='--')\n",
    "plt.title(\"Precision Recall curve\")\n",
    "plt.xlabel(\"Recall\")\n",
    "plt.ylabel(\"Precision\")\n",
    "plt.legend()\n",
    "plt.show()"
   ]
  },
  {
   "cell_type": "code",
   "execution_count": 78,
   "id": "46cd4c94",
   "metadata": {},
   "outputs": [
    {
     "data": {
      "text/plain": [
       "<matplotlib.lines.Line2D at 0x151a3d54580>"
      ]
     },
     "execution_count": 78,
     "metadata": {},
     "output_type": "execute_result"
    },
    {
     "data": {
      "image/png": "[encoded data removed]",
      "text/plain": [
       "<Figure size 432x288 with 1 Axes>"
      ]
     },
     "metadata": {
      "needs_background": "light"
     },
     "output_type": "display_data"
    }
   ],
   "source": [
    "plt.hist(labels)\n",
    "plt.axhline(0.25)"
   ]
  },
  {
   "cell_type": "code",
   "execution_count": 79,
   "id": "a9282bee",
   "metadata": {},
   "outputs": [
    {
     "data": {
      "text/plain": [
       "(array([60134.,     0.,     0.,     0.,     0.,     0.,     0.,     0.,\n",
       "            0., 20134.]),\n",
       " array([0. , 0.1, 0.2, 0.3, 0.4, 0.5, 0.6, 0.7, 0.8, 0.9, 1. ]),\n",
       " <BarContainer object of 10 artists>)"
      ]
     },
     "execution_count": 79,
     "metadata": {},
     "output_type": "execute_result"
    },
    {
     "data": {
      "image/png": "[encoded data removed]",
      "text/plain": [
       "<Figure size 432x288 with 1 Axes>"
      ]
     },
     "metadata": {
      "needs_background": "light"
     },
     "output_type": "display_data"
    }
   ],
   "source": [
    "plt.hist(labels)"
   ]
  },
  {
   "cell_type": "code",
   "execution_count": 47,
   "id": "3c2c4f39",
   "metadata": {},
   "outputs": [
    {
     "data": {
      "text/plain": [
       "0.25083470374246275"
      ]
     },
     "execution_count": 47,
     "metadata": {},
     "output_type": "execute_result"
    }
   ],
   "source": [
    "20134/len(test)"
   ]
  },
  {
   "cell_type": "code",
   "execution_count": null,
   "id": "b1b70e8c",
   "metadata": {},
   "outputs": [],
   "source": []
  },
  {
   "cell_type": "code",
   "execution_count": null,
   "id": "ea205ae2",
   "metadata": {},
   "outputs": [],
   "source": []
  },
  {
   "cell_type": "code",
   "execution_count": null,
   "id": "7dd459d0",
   "metadata": {},
   "outputs": [],
   "source": []
  },
  {
   "cell_type": "markdown",
   "id": "d8512140",
   "metadata": {},
   "source": [
    "### Lets investigate the signals that were incorrectly predicted "
   ]
  },
  {
   "cell_type": "code",
   "execution_count": 80,
   "id": "3e1a1050",
   "metadata": {},
   "outputs": [
    {
     "data": {
      "text/plain": [
       "(array([   46,    52,    75, ..., 80129, 80196, 80216], dtype=int64),)"
      ]
     },
     "execution_count": 80,
     "metadata": {},
     "output_type": "execute_result"
    }
   ],
   "source": [
    "mis = np.where(labels!=preds)\n",
    "mis"
   ]
  },
  {
   "cell_type": "code",
   "execution_count": 81,
   "id": "8c7cb601",
   "metadata": {},
   "outputs": [
    {
     "data": {
      "text/plain": [
       "1"
      ]
     },
     "execution_count": 81,
     "metadata": {},
     "output_type": "execute_result"
    }
   ],
   "source": [
    "labels[46]"
   ]
  },
  {
   "cell_type": "code",
   "execution_count": 82,
   "id": "64af5be9",
   "metadata": {},
   "outputs": [
    {
     "data": {
      "text/plain": [
       "0"
      ]
     },
     "execution_count": 82,
     "metadata": {},
     "output_type": "execute_result"
    }
   ],
   "source": [
    "preds[46]"
   ]
  },
  {
   "cell_type": "code",
   "execution_count": 92,
   "id": "2297f63b",
   "metadata": {},
   "outputs": [
    {
     "data": {
      "text/plain": [
       "array([0.5004047 , 0.49959528], dtype=float32)"
      ]
     },
     "execution_count": 92,
     "metadata": {},
     "output_type": "execute_result"
    }
   ],
   "source": [
    "probs[46]"
   ]
  },
  {
   "cell_type": "code",
   "execution_count": 109,
   "id": "960b7ba2",
   "metadata": {},
   "outputs": [
    {
     "data": {
      "text/plain": [
       "array([200, 274, 279, 282, 290, 296, 300], dtype=int64)"
      ]
     },
     "execution_count": 109,
     "metadata": {},
     "output_type": "execute_result"
    }
   ],
   "source": [
    "mis[0][9:16]"
   ]
  },
  {
   "cell_type": "code",
   "execution_count": 103,
   "id": "aa689f7c",
   "metadata": {},
   "outputs": [
    {
     "data": {
      "text/plain": [
       "0.5004047"
      ]
     },
     "execution_count": 103,
     "metadata": {},
     "output_type": "execute_result"
    }
   ],
   "source": [
    "probs[46][0]"
   ]
  },
  {
   "cell_type": "code",
   "execution_count": 83,
   "id": "1c81df74",
   "metadata": {},
   "outputs": [],
   "source": [
    "import seaborn as sns "
   ]
  },
  {
   "cell_type": "code",
   "execution_count": 108,
   "id": "1f8612d2",
   "metadata": {},
   "outputs": [
    {
     "data": {
      "image/png": "[encoded data removed]",
      "text/plain": [
       "<Figure size 864x504 with 11 Axes>"
      ]
     },
     "metadata": {
      "needs_background": "light"
     },
     "output_type": "display_data"
    }
   ],
   "source": [
    "\n",
    "plt.figure(figsize=(12, 7))\n",
    "plt.subplot(3,2,1)\n",
    "sns.heatmap(signals[46], cmap='viridis', yticklabels=[], xticklabels=[])\n",
    "plt.title(\"Actual: {} \\n prediction: {}\".format(labels[46], preds[46]))\n",
    "plt.tight_layout()\n",
    "\n",
    "\n",
    "plt.subplot(3,2,2)\n",
    "sns.heatmap(signals[52], cmap='viridis', yticklabels=[], xticklabels=[])\n",
    "plt.title(\"Actual: {} \\n prediction: {}\".format(labels[52], preds[52]))\n",
    "plt.tight_layout()\n",
    "\n",
    "\n",
    "\n",
    "plt.subplot(3,2,3)\n",
    "sns.heatmap(signals[75], cmap='viridis', yticklabels=[], xticklabels=[])\n",
    "plt.title(\"Actual: {} \\n prediction: {}\".format(labels[75], preds[75]))\n",
    "plt.tight_layout()\n",
    "\n",
    "\n",
    "plt.subplot(3,2,4)\n",
    "sns.heatmap(signals[83], cmap='viridis', yticklabels=[], xticklabels=[])\n",
    "plt.title(\"Actual: {} \\n prediction: {}\".format(labels[83], preds[83]))\n",
    "plt.tight_layout()\n",
    "\n",
    "\n",
    "plt.subplot(3,2,5)\n",
    "sns.heatmap(signals[124], cmap='viridis', yticklabels=[], xticklabels=[])\n",
    "plt.title(\"Actual: {} \\n prediction: {}\".format(labels[124], preds[124]))\n",
    "plt.tight_layout()\n",
    "\n",
    "\n",
    "plt.subplot(3,2,6)\n",
    "sns.heatmap(signals[130], cmap='viridis', yticklabels=[], xticklabels=[])\n",
    "plt.title(\"Actual: {} \\n prediction: {}\".format(labels[130], preds[130]))\n",
    "plt.tight_layout()\n",
    "\n"
   ]
  },
  {
   "cell_type": "code",
   "execution_count": 110,
   "id": "f8507f35",
   "metadata": {},
   "outputs": [
    {
     "data": {
      "text/plain": [
       "array([200, 274, 279, 282, 290, 296, 300], dtype=int64)"
      ]
     },
     "execution_count": 110,
     "metadata": {},
     "output_type": "execute_result"
    }
   ],
   "source": [
    "mis[0][9:16]"
   ]
  },
  {
   "cell_type": "code",
   "execution_count": 129,
   "id": "1ee9f7fb",
   "metadata": {},
   "outputs": [
    {
     "data": {
      "image/png": "[encoded data removed]",
      "text/plain": [
       "<Figure size 864x504 with 11 Axes>"
      ]
     },
     "metadata": {
      "needs_background": "light"
     },
     "output_type": "display_data"
    }
   ],
   "source": [
    "plt.figure(figsize=(12, 7))\n",
    "plt.subplot(3,2,1)\n",
    "sns.heatmap(signals[200], cmap='viridis', yticklabels=[], xticklabels=[])\n",
    "plt.title(\"Actual: {} \\n prediction: {}\".format(labels[200], preds[200]))\n",
    "plt.tight_layout()\n",
    "\n",
    "\n",
    "plt.subplot(3,2,2)\n",
    "sns.heatmap(signals[274], cmap='viridis', yticklabels=[], xticklabels=[])\n",
    "plt.title(\"Actual: {} \\n prediction: {}\".format(labels[274], preds[274]))\n",
    "plt.tight_layout()\n",
    "\n",
    "\n",
    "\n",
    "plt.subplot(3,2,3)\n",
    "sns.heatmap(signals[279], cmap='viridis', yticklabels=[], xticklabels=[])\n",
    "plt.title(\"Actual: {} \\n prediction: {}\".format(labels[279], preds[279]))\n",
    "plt.tight_layout()\n",
    "\n",
    "\n",
    "plt.subplot(3,2,4)\n",
    "sns.heatmap(signals[282], cmap='viridis', yticklabels=[], xticklabels=[])\n",
    "plt.title(\"Actual: {} \\n prediction: {}\".format(labels[282], preds[282]))\n",
    "plt.tight_layout()\n",
    "\n",
    "\n",
    "plt.subplot(3,2,5)\n",
    "sns.heatmap(signals[290], cmap='viridis', yticklabels=[], xticklabels=[])\n",
    "plt.title(\"Actual: {} \\n prediction: {}\".format(labels[290], preds[290]))\n",
    "plt.tight_layout()\n",
    "\n",
    "\n",
    "plt.subplot(3,2,6)\n",
    "sns.heatmap(signals[130], cmap='viridis', yticklabels=[], xticklabels=[])\n",
    "plt.title(\"Actual: {}   Prediction: {} \\n p(real)={} p(sim)={}\".format(labels[130], preds[130], \n",
    "                                                                               np.round(probs[130][0],2), np.round(probs[130][1],2)))\n",
    "plt.tight_layout()\n"
   ]
  },
  {
   "cell_type": "code",
   "execution_count": 127,
   "id": "d127bd90",
   "metadata": {},
   "outputs": [
    {
     "data": {
      "text/plain": [
       "array([0.500405, 0.499595], dtype=float32)"
      ]
     },
     "execution_count": 127,
     "metadata": {},
     "output_type": "execute_result"
    }
   ],
   "source": [
    "np.round(probs[46], 1)"
   ]
  },
  {
   "cell_type": "code",
   "execution_count": null,
   "id": "2328dc86",
   "metadata": {},
   "outputs": [],
   "source": []
  }
 ],
 "metadata": {
  "kernelspec": {
   "display_name": "Python 3 (ipykernel)",
   "language": "python",
   "name": "python3"
  },
  "language_info": {
   "codemirror_mode": {
    "name": "ipython",
    "version": 3
   },
   "file_extension": ".py",
   "mimetype": "text/x-python",
   "name": "python",
   "nbconvert_exporter": "python",
   "pygments_lexer": "ipython3",
   "version": "3.9.7"
  }
 },
 "nbformat": 4,
 "nbformat_minor": 5
}
