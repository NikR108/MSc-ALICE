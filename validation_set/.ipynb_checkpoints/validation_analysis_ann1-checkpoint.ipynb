{
 "cells": [
  {
   "cell_type": "markdown",
   "id": "959a2f91",
   "metadata": {},
   "source": [
    "# This notebook assess the predictions of our ML models on the validation data "
   ]
  },
  {
   "cell_type": "code",
   "execution_count": null,
   "id": "c5f256ad",
   "metadata": {},
   "outputs": [],
   "source": []
  },
  {
   "cell_type": "markdown",
   "id": "4a23b517",
   "metadata": {},
   "source": [
    "### Import the necessary libraries "
   ]
  },
  {
   "cell_type": "code",
   "execution_count": 1,
   "id": "842a2767",
   "metadata": {},
   "outputs": [],
   "source": [
    "import numpy as np\n",
    "import matplotlib.pyplot as plt \n",
    "import pandas as pd\n",
    "import keras \n",
    "from keras.models import Sequential\n",
    "from keras.layers import Dense \n",
    "import tensorflow\n",
    "#from tensorflow.keras.utils import to_categorical\n",
    "from keras import layers\n",
    "#from keras.utils import to_categorical\n",
    "from keras.callbacks import EarlyStopping\n",
    "from keras.datasets import mnist\n",
    "from keras.models import Model\n",
    "from keras.layers import Dense, Input\n",
    "from keras.layers import Conv2D, MaxPooling2D, Dropout, Flatten\n",
    "from keras import backend as K\n",
    "from keras.utils import np_utils\n",
    "\n",
    "from tensorflow.keras.models import load_model"
   ]
  },
  {
   "cell_type": "code",
   "execution_count": 2,
   "id": "adcd5e4e",
   "metadata": {},
   "outputs": [],
   "source": [
    "import seaborn as sns "
   ]
  },
  {
   "cell_type": "code",
   "execution_count": 3,
   "id": "120d4d62",
   "metadata": {},
   "outputs": [
    {
     "name": "stdout",
     "output_type": "stream",
     "text": [
      " Volume in drive C is Windows\n",
      " Volume Serial Number is 4051-E7E7\n",
      "\n",
      " Directory of C:\\Users\\Nikhiel\\Desktop\\validation_set\n",
      "\n",
      "2023/02/05  17:09    <DIR>          .\n",
      "2023/02/04  01:55    <DIR>          ..\n",
      "2023/02/03  15:42    <DIR>          .ipynb_checkpoints\n",
      "2023/02/02  19:42    <DIR>          __pycache__\n",
      "2022/11/28  02:11           161ÿ352 ann1.h5\n",
      "2023/02/03  03:39         3ÿ494ÿ456 ANN1_PR_info.csv\n",
      "2022/11/06  00:42             2ÿ899 avgph.py\n",
      "2022/11/28  02:14            72ÿ192 cnn_NET1.h5\n",
      "2023/02/03  03:41         5ÿ123ÿ244 CNN1_PR_info.csv\n",
      "2022/11/28  02:15           978ÿ448 cnn2_NET1.h5\n",
      "2023/02/03  03:40         3ÿ225ÿ639 CNN2_PR_info.csv\n",
      "2023/02/03  19:16           803ÿ081 PRcurve_plots.html\n",
      "2023/02/03  19:16           210ÿ863 PRcurve_plots.ipynb\n",
      "2023/02/05  17:09           107ÿ593 validation_analysis_ann1.ipynb\n",
      "2023/02/05  15:40           842ÿ235 validation_analysis_cnn1.html\n",
      "2023/02/05  15:42           244ÿ341 validation_analysis_cnn1.ipynb\n",
      "2023/02/05  17:02           750ÿ863 validation_analysis_cnn2.html\n",
      "2023/02/05  17:03           154ÿ820 validation_analysis_cnn2.ipynb\n",
      "2023/02/03  19:25            25ÿ783 validation_PRcurves.png\n",
      "2023/02/03  19:25            48ÿ712 validation_PRcurves_zoomed.png\n",
      "2022/11/23  01:58        19ÿ475ÿ729 validset.csv\n",
      "              17 File(s)     35ÿ722ÿ250 bytes\n",
      "               4 Dir(s)  290ÿ933ÿ993ÿ472 bytes free\n"
     ]
    }
   ],
   "source": [
    "# whats in our dir \n",
    "\n",
    "%ls"
   ]
  },
  {
   "cell_type": "markdown",
   "id": "89514993",
   "metadata": {},
   "source": [
    "###  Define function to produce an individual pulse height "
   ]
  },
  {
   "cell_type": "code",
   "execution_count": 4,
   "id": "782ab461",
   "metadata": {},
   "outputs": [],
   "source": [
    "def single_ph(sigarray):\n",
    "    #num_sigs = len(sigarray) for this function it will be one - single signal \n",
    "    adc = np.sum(sigarray, axis=0)\n",
    "    timebin = np.arange(0,30,1)\n",
    "    '''\n",
    "    for i in range(30):\n",
    "        \n",
    "        avg = np.concatenate((np.array(sigarray[i]),\n",
    "                             np.array(sigarray[i+30]),\n",
    "                             np.array(sigarray[i+60])), axis=None).sum()/1\n",
    "        m_adc.append(avg)\n",
    "        timebin.append(i)\n",
    "    '''\n",
    "    #fig, ax = plt.subplots(figsize=(16, 7))\n",
    "    #plt.figure(figsize=(16, 7))\n",
    "    #plt.plot(timebin, m_adc, color=\"royalblue\")\n",
    "    #plt.scatter(timebin, m_adc, color=\"navy\")\n",
    "    plt.step(timebin, adc, color='royalblue')\n",
    "    plt.ylabel(\"ADC\", fontsize=13)\n",
    "    plt.xlabel(\"Time bin (100ns)\", fontsize=13)\n",
    "    plt.tight_layout()"
   ]
  },
  {
   "cell_type": "markdown",
   "id": "47f384da",
   "metadata": {},
   "source": [
    "### load the initial test data "
   ]
  },
  {
   "cell_type": "code",
   "execution_count": 5,
   "id": "e5b832ed",
   "metadata": {},
   "outputs": [],
   "source": [
    "test = pd.read_csv(\"validset.csv\")"
   ]
  },
  {
   "cell_type": "code",
   "execution_count": 6,
   "id": "d6dfba1d",
   "metadata": {},
   "outputs": [
    {
     "data": {
      "text/html": [
       "<div>\n",
       "<style scoped>\n",
       "    .dataframe tbody tr th:only-of-type {\n",
       "        vertical-align: middle;\n",
       "    }\n",
       "\n",
       "    .dataframe tbody tr th {\n",
       "        vertical-align: top;\n",
       "    }\n",
       "\n",
       "    .dataframe thead th {\n",
       "        text-align: right;\n",
       "    }\n",
       "</style>\n",
       "<table border=\"1\" class=\"dataframe\">\n",
       "  <thead>\n",
       "    <tr style=\"text-align: right;\">\n",
       "      <th></th>\n",
       "      <th>AN00</th>\n",
       "      <th>AN01</th>\n",
       "      <th>AN02</th>\n",
       "      <th>AN03</th>\n",
       "      <th>AN04</th>\n",
       "      <th>AN05</th>\n",
       "      <th>AN06</th>\n",
       "      <th>AN07</th>\n",
       "      <th>AN08</th>\n",
       "      <th>AN09</th>\n",
       "      <th>...</th>\n",
       "      <th>BN21</th>\n",
       "      <th>BN22</th>\n",
       "      <th>BN23</th>\n",
       "      <th>BN24</th>\n",
       "      <th>BN25</th>\n",
       "      <th>BN26</th>\n",
       "      <th>BN27</th>\n",
       "      <th>BN28</th>\n",
       "      <th>BN29</th>\n",
       "      <th>label</th>\n",
       "    </tr>\n",
       "  </thead>\n",
       "  <tbody>\n",
       "    <tr>\n",
       "      <th>0</th>\n",
       "      <td>13</td>\n",
       "      <td>30</td>\n",
       "      <td>39</td>\n",
       "      <td>30</td>\n",
       "      <td>21</td>\n",
       "      <td>36</td>\n",
       "      <td>31</td>\n",
       "      <td>22</td>\n",
       "      <td>16</td>\n",
       "      <td>19</td>\n",
       "      <td>...</td>\n",
       "      <td>15</td>\n",
       "      <td>16</td>\n",
       "      <td>13</td>\n",
       "      <td>13</td>\n",
       "      <td>14</td>\n",
       "      <td>12</td>\n",
       "      <td>14</td>\n",
       "      <td>13</td>\n",
       "      <td>14</td>\n",
       "      <td>0</td>\n",
       "    </tr>\n",
       "    <tr>\n",
       "      <th>1</th>\n",
       "      <td>9</td>\n",
       "      <td>9</td>\n",
       "      <td>8</td>\n",
       "      <td>11</td>\n",
       "      <td>7</td>\n",
       "      <td>11</td>\n",
       "      <td>9</td>\n",
       "      <td>12</td>\n",
       "      <td>8</td>\n",
       "      <td>13</td>\n",
       "      <td>...</td>\n",
       "      <td>28</td>\n",
       "      <td>22</td>\n",
       "      <td>20</td>\n",
       "      <td>17</td>\n",
       "      <td>15</td>\n",
       "      <td>13</td>\n",
       "      <td>12</td>\n",
       "      <td>13</td>\n",
       "      <td>12</td>\n",
       "      <td>0</td>\n",
       "    </tr>\n",
       "    <tr>\n",
       "      <th>2</th>\n",
       "      <td>80</td>\n",
       "      <td>143</td>\n",
       "      <td>108</td>\n",
       "      <td>71</td>\n",
       "      <td>50</td>\n",
       "      <td>37</td>\n",
       "      <td>32</td>\n",
       "      <td>29</td>\n",
       "      <td>25</td>\n",
       "      <td>25</td>\n",
       "      <td>...</td>\n",
       "      <td>14</td>\n",
       "      <td>17</td>\n",
       "      <td>15</td>\n",
       "      <td>14</td>\n",
       "      <td>14</td>\n",
       "      <td>13</td>\n",
       "      <td>13</td>\n",
       "      <td>15</td>\n",
       "      <td>13</td>\n",
       "      <td>1</td>\n",
       "    </tr>\n",
       "    <tr>\n",
       "      <th>3</th>\n",
       "      <td>10</td>\n",
       "      <td>16</td>\n",
       "      <td>16</td>\n",
       "      <td>29</td>\n",
       "      <td>31</td>\n",
       "      <td>22</td>\n",
       "      <td>14</td>\n",
       "      <td>14</td>\n",
       "      <td>13</td>\n",
       "      <td>10</td>\n",
       "      <td>...</td>\n",
       "      <td>21</td>\n",
       "      <td>15</td>\n",
       "      <td>15</td>\n",
       "      <td>16</td>\n",
       "      <td>18</td>\n",
       "      <td>14</td>\n",
       "      <td>16</td>\n",
       "      <td>13</td>\n",
       "      <td>15</td>\n",
       "      <td>0</td>\n",
       "    </tr>\n",
       "    <tr>\n",
       "      <th>4</th>\n",
       "      <td>24</td>\n",
       "      <td>41</td>\n",
       "      <td>26</td>\n",
       "      <td>22</td>\n",
       "      <td>24</td>\n",
       "      <td>26</td>\n",
       "      <td>19</td>\n",
       "      <td>19</td>\n",
       "      <td>18</td>\n",
       "      <td>18</td>\n",
       "      <td>...</td>\n",
       "      <td>68</td>\n",
       "      <td>39</td>\n",
       "      <td>29</td>\n",
       "      <td>22</td>\n",
       "      <td>20</td>\n",
       "      <td>20</td>\n",
       "      <td>20</td>\n",
       "      <td>16</td>\n",
       "      <td>14</td>\n",
       "      <td>0</td>\n",
       "    </tr>\n",
       "  </tbody>\n",
       "</table>\n",
       "<p>5 rows × 91 columns</p>\n",
       "</div>"
      ],
      "text/plain": [
       "   AN00  AN01  AN02  AN03  AN04  AN05  AN06  AN07  AN08  AN09  ...  BN21  \\\n",
       "0    13    30    39    30    21    36    31    22    16    19  ...    15   \n",
       "1     9     9     8    11     7    11     9    12     8    13  ...    28   \n",
       "2    80   143   108    71    50    37    32    29    25    25  ...    14   \n",
       "3    10    16    16    29    31    22    14    14    13    10  ...    21   \n",
       "4    24    41    26    22    24    26    19    19    18    18  ...    68   \n",
       "\n",
       "   BN22  BN23  BN24  BN25  BN26  BN27  BN28  BN29  label  \n",
       "0    16    13    13    14    12    14    13    14      0  \n",
       "1    22    20    17    15    13    12    13    12      0  \n",
       "2    17    15    14    14    13    13    15    13      1  \n",
       "3    15    15    16    18    14    16    13    15      0  \n",
       "4    39    29    22    20    20    20    16    14      0  \n",
       "\n",
       "[5 rows x 91 columns]"
      ]
     },
     "execution_count": 6,
     "metadata": {},
     "output_type": "execute_result"
    }
   ],
   "source": [
    "test.head()"
   ]
  },
  {
   "cell_type": "markdown",
   "id": "10e0c3d2",
   "metadata": {},
   "source": [
    "### Modify the cell below if using an ANN "
   ]
  },
  {
   "cell_type": "code",
   "execution_count": 7,
   "id": "26c30f0b",
   "metadata": {},
   "outputs": [],
   "source": [
    "# Get the signals and labels as arrays \n",
    "signals = np.array(test.iloc[:, :90])\n",
    "labels = np.array(test.label)\n"
   ]
  },
  {
   "cell_type": "code",
   "execution_count": 8,
   "id": "1633be18",
   "metadata": {},
   "outputs": [],
   "source": [
    "labels_ohe = keras.utils.np_utils.to_categorical(labels, 2)"
   ]
  },
  {
   "cell_type": "markdown",
   "id": "edb5ee6f",
   "metadata": {},
   "source": [
    "## Now we get the signals and assign to \"sigs\" variable. Modify the cell below depending on the model used and if normalization and or reshaping is needed or not"
   ]
  },
  {
   "cell_type": "code",
   "execution_count": 9,
   "id": "59725c89",
   "metadata": {},
   "outputs": [],
   "source": [
    "sigs = signals/1023\n"
   ]
  },
  {
   "cell_type": "code",
   "execution_count": null,
   "id": "673ff321",
   "metadata": {},
   "outputs": [],
   "source": []
  },
  {
   "cell_type": "markdown",
   "id": "50edac43",
   "metadata": {},
   "source": [
    "## load the keras model "
   ]
  },
  {
   "cell_type": "markdown",
   "id": "0946d9cb",
   "metadata": {},
   "source": []
  },
  {
   "cell_type": "code",
   "execution_count": 10,
   "id": "63c4266a",
   "metadata": {},
   "outputs": [],
   "source": [
    "mod = load_model('ann1.h5')"
   ]
  },
  {
   "cell_type": "code",
   "execution_count": 11,
   "id": "907b438e",
   "metadata": {},
   "outputs": [
    {
     "name": "stdout",
     "output_type": "stream",
     "text": [
      "Model: \"sequential\"\n",
      "_________________________________________________________________\n",
      " Layer (type)                Output Shape              Param #   \n",
      "=================================================================\n",
      " hidden1 (Dense)             (None, 120)               10920     \n",
      "                                                                 \n",
      " dropout (Dropout)           (None, 120)               0         \n",
      "                                                                 \n",
      " Dense-output (Dense)        (None, 2)                 242       \n",
      "                                                                 \n",
      "=================================================================\n",
      "Total params: 11,162\n",
      "Trainable params: 11,162\n",
      "Non-trainable params: 0\n",
      "_________________________________________________________________\n"
     ]
    }
   ],
   "source": [
    "mod.summary()"
   ]
  },
  {
   "cell_type": "markdown",
   "id": "63cfd844",
   "metadata": {},
   "source": [
    "## Predict on the test data using model "
   ]
  },
  {
   "cell_type": "code",
   "execution_count": 12,
   "id": "40866173",
   "metadata": {},
   "outputs": [],
   "source": [
    "probs = mod.predict(sigs)"
   ]
  },
  {
   "cell_type": "code",
   "execution_count": 13,
   "id": "e552c2d2",
   "metadata": {},
   "outputs": [],
   "source": [
    "from sklearn.metrics import ConfusionMatrixDisplay\n"
   ]
  },
  {
   "cell_type": "code",
   "execution_count": null,
   "id": "4730ff79",
   "metadata": {},
   "outputs": [],
   "source": [
    "\n"
   ]
  },
  {
   "cell_type": "code",
   "execution_count": null,
   "id": "1c17fbae",
   "metadata": {},
   "outputs": [],
   "source": []
  },
  {
   "cell_type": "markdown",
   "id": "ea8de350",
   "metadata": {},
   "source": [
    "## Performance metrics "
   ]
  },
  {
   "cell_type": "code",
   "execution_count": 14,
   "id": "36b4f6e5",
   "metadata": {},
   "outputs": [],
   "source": [
    "from sklearn import metrics"
   ]
  },
  {
   "cell_type": "code",
   "execution_count": null,
   "id": "f7a758d1",
   "metadata": {},
   "outputs": [],
   "source": []
  },
  {
   "cell_type": "markdown",
   "id": "dcf0a4f1",
   "metadata": {},
   "source": [
    "# Precision -Recall curve "
   ]
  },
  {
   "cell_type": "markdown",
   "id": "948cf983",
   "metadata": {},
   "source": [
    "The above results were obtained from selecting the class that exhibited the greater probability of occurrence amongst the two.\n",
    "This therefore set the probability threshold to 0.5. We now examine the P-R curve in order to select a threshold that maximizes the AUC-PR of our model."
   ]
  },
  {
   "cell_type": "code",
   "execution_count": 15,
   "id": "c0d50393",
   "metadata": {},
   "outputs": [],
   "source": [
    "from sklearn.metrics import precision_recall_curve, auc"
   ]
  },
  {
   "cell_type": "code",
   "execution_count": 16,
   "id": "42971c62",
   "metadata": {},
   "outputs": [
    {
     "data": {
      "image/png": "[encoded data removed]",
      "text/plain": [
       "<Figure size 864x576 with 1 Axes>"
      ]
     },
     "metadata": {
      "needs_background": "light"
     },
     "output_type": "display_data"
    }
   ],
   "source": [
    "prec_cnn1, rec_cnn1, thres_cnn1 = precision_recall_curve(labels_ohe[:, 1].ravel(), probs[:,1].ravel())\n",
    "pr_auc_cnn1=auc(rec_cnn1, prec_cnn1)\n",
    "\n",
    "df_pr = pd.DataFrame({'Prec':prec_cnn1[:-1], \n",
    "                     'Rec':rec_cnn1[:-1],\n",
    "                     'thres':thres_cnn1})\n",
    "df_pr['AUC'] = pr_auc_cnn1\n",
    "#df_pr['approx_area'] = df_pr['Prec']*df_pr['Rec']\n",
    "df_pr['dist'] = np.sqrt(((1-df_pr['Prec'])**2)+((1-df_pr['Rec'])**2))\n",
    "\n",
    "ind = np.where(df_pr['dist']==df_pr['dist'].min())[0][0]\n",
    "\n",
    "\n",
    "\n",
    "\n",
    "plt.figure(figsize=(12, 8))\n",
    "plt.plot(df_pr['Rec'], df_pr['Prec'], label='cnn1 (auc = {:.3f})'.format(pr_auc_cnn1), color='magenta', linewidth=2)\n",
    "plt.plot(df_pr.Rec[ind], df_pr.Prec[ind], marker='o', linestyle='', \n",
    "         label='Threshold={:.3f}'.format(df_pr.thres[ind]), markersize=10)\n",
    "\n",
    "plt.axvline(df_pr['Rec'][ind], color='darkcyan', linestyle='--')\n",
    "plt.axhline(df_pr['Prec'][ind], color='darkcyan', linestyle='--')\n",
    "plt.title(\"Precision Recall curve\",fontsize=14)\n",
    "plt.xlabel(\"Recall\",fontsize=14)\n",
    "plt.ylabel(\"Precision\",fontsize=14)\n",
    "plt.xlim(0.8,1)\n",
    "plt.ylim(0.8,1)\n",
    "plt.legend(fontsize=13, loc='lower left')\n",
    "plt.show()"
   ]
  },
  {
   "cell_type": "code",
   "execution_count": 17,
   "id": "691bc4b8",
   "metadata": {},
   "outputs": [
    {
     "data": {
      "image/png": "[encoded data removed]",
      "text/plain": [
       "<Figure size 864x576 with 1 Axes>"
      ]
     },
     "metadata": {
      "needs_background": "light"
     },
     "output_type": "display_data"
    }
   ],
   "source": [
    "plt.figure(figsize=(12, 8))\n",
    "plt.plot(df_pr['Rec'], df_pr['Prec'], label='cnn1 (auc = {:.3f})'.format(pr_auc_cnn1), color='deeppink', linewidth=2)\n",
    "plt.plot(df_pr.Rec[ind], df_pr.Prec[ind], marker='o', linestyle='', \n",
    "         label='Threshold={:.3f}'.format(df_pr.thres[ind]), markersize=10)\n",
    "\n",
    "plt.axvline(df_pr['Rec'][ind], color='darkcyan', linestyle='--')\n",
    "plt.axhline(df_pr['Prec'][ind], color='darkcyan', linestyle='--')\n",
    "plt.title(\"Precision Recall curve\",fontsize=14)\n",
    "plt.xlabel(\"Recall\",fontsize=14)\n",
    "plt.ylabel(\"Precision\",fontsize=14)\n",
    "#plt.xlim(0.7,1)\n",
    "#plt.ylim(0.7,1)\n",
    "plt.legend(fontsize=13)\n",
    "plt.show()"
   ]
  },
  {
   "cell_type": "markdown",
   "id": "0ab26835",
   "metadata": {},
   "source": [
    "### Now apply the threshold and re-analyse all"
   ]
  },
  {
   "cell_type": "code",
   "execution_count": 18,
   "id": "368ce162",
   "metadata": {},
   "outputs": [],
   "source": [
    "# SAVE THE PR CURVE INFO as csv \n",
    "\n",
    "#df_pr.to_csv(\"ANN1_PR_info.csv\", index=False)\n",
    "\n"
   ]
  },
  {
   "cell_type": "code",
   "execution_count": 19,
   "id": "c130115c",
   "metadata": {},
   "outputs": [],
   "source": [
    "# Compute the new predictions based on the prob thresh of 0.6\n",
    "\n",
    "thres_preds = np.zeros(len(probs))\n",
    "\n",
    "thres_preds[probs[:,1]>=0.556] = 1\n"
   ]
  },
  {
   "cell_type": "markdown",
   "id": "67ea3d6e",
   "metadata": {},
   "source": [
    "### Confusion matrix of thresholded predictions "
   ]
  },
  {
   "cell_type": "code",
   "execution_count": 20,
   "id": "561c2d1a",
   "metadata": {},
   "outputs": [
    {
     "data": {
      "image/png": "[encoded data removed]",
      "text/plain": [
       "<Figure size 432x288 with 2 Axes>"
      ]
     },
     "metadata": {
      "needs_background": "light"
     },
     "output_type": "display_data"
    }
   ],
   "source": [
    "ConfusionMatrixDisplay.from_predictions(\n",
    "    labels, thres_preds, cmap='Reds', display_labels=['Real', 'Sim']\n",
    ")\n",
    "plt.show()"
   ]
  },
  {
   "cell_type": "code",
   "execution_count": 21,
   "id": "af3cb700",
   "metadata": {},
   "outputs": [
    {
     "name": "stdout",
     "output_type": "stream",
     "text": [
      "Precision = 0.9771292501938199\n",
      "Sensitivity = 0.9737858719646799\n",
      "F1 = 0.9754546962242246\n",
      "Accuracy = 0.9877078113536635\n"
     ]
    }
   ],
   "source": [
    "t_Prec = metrics.precision_score(labels, thres_preds, pos_label=1)\n",
    "t_Sens = metrics.recall_score(labels, thres_preds, pos_label=1)\n",
    "#Spec = metrics.recall_score(labels, preds, pos_label=1)\n",
    "t_F1 = metrics.f1_score(labels, thres_preds, pos_label=1)\n",
    "t_Acc = metrics.accuracy_score(labels, thres_preds)\n",
    "\n",
    "\n",
    "print('Precision = {}'.format(t_Prec))\n",
    "print('Sensitivity = {}'.format(t_Sens))\n",
    "#print('Specificity = {}'.format(Spec))\n",
    "print('F1 = {}'.format(t_F1))\n",
    "print('Accuracy = {}'.format(t_Acc))"
   ]
  },
  {
   "cell_type": "code",
   "execution_count": 22,
   "id": "55024feb",
   "metadata": {},
   "outputs": [],
   "source": [
    "from sklearn.metrics import confusion_matrix"
   ]
  },
  {
   "cell_type": "code",
   "execution_count": 23,
   "id": "4ee4bcff",
   "metadata": {},
   "outputs": [
    {
     "name": "stdout",
     "output_type": "stream",
     "text": [
      "Specificity = 0.9923689510541195\n",
      "Miss rate / FNR  = 0.026214128035320087\n"
     ]
    }
   ],
   "source": [
    "tn, fp, fn, tp = confusion_matrix(labels, thres_preds, labels=[0, 1]).ravel()\n",
    "\n",
    "t_Spec = tn/(tn + fp)\n",
    "t_missrate = fn/(fn + tp) \n",
    "print('Specificity = {}'.format(t_Spec))\n",
    "print('Miss rate / FNR  = {}'.format(t_missrate))\n"
   ]
  },
  {
   "cell_type": "code",
   "execution_count": null,
   "id": "6c0a9500",
   "metadata": {},
   "outputs": [],
   "source": []
  },
  {
   "cell_type": "code",
   "execution_count": 24,
   "id": "114574c4",
   "metadata": {},
   "outputs": [
    {
     "data": {
      "text/plain": [
       "array([[53708,   413],\n",
       "       [  475, 17645]], dtype=int64)"
      ]
     },
     "execution_count": 24,
     "metadata": {},
     "output_type": "execute_result"
    }
   ],
   "source": [
    "confusion_matrix(labels, thres_preds, labels=[0, 1])"
   ]
  },
  {
   "cell_type": "code",
   "execution_count": null,
   "id": "4a1344b0",
   "metadata": {},
   "outputs": [],
   "source": []
  },
  {
   "cell_type": "code",
   "execution_count": 25,
   "id": "a56d1521",
   "metadata": {},
   "outputs": [],
   "source": [
    "def PH_recon(truth, modelprobs, probthresh, sigdata):\n",
    "    \n",
    "     \n",
    "    # First make predict the classes based on our threshold and the probs that our model outputs\n",
    "    classpreds = np.zeros(len(sigdata))\n",
    "    classpreds[modelprobs[:,1] >= probthresh] = 1\n",
    "    \n",
    "    \n",
    "    # Now find the subset of the sigdata that are misclassifications based on our predictions \n",
    "    \n",
    "    \n",
    "    # find out where misclassifications occur (indices)\n",
    "    #-------------------------------------------------\n",
    "\n",
    "    misclass = np.where(truth!=classpreds)[0]\n",
    "    #misclass_probs = modelprobs[misclass]\n",
    "    misclass_labs = truth[misclass]\n",
    "    #misclass_preds = classpreds[misclass]\n",
    "\n",
    "    misclass_sigs = sigdata[misclass]\n",
    "    #-------------------------------------------------\n",
    "    \n",
    "    \n",
    "    # Further subset the misclassified signals to find the FALSE NEGATIVES \n",
    "    \n",
    "    # Here the preds = 0 but the true labels = 1\n",
    "\n",
    "    # This is a subset of the misclass \n",
    "\n",
    "    #------------------------------------------------------------------------------------\n",
    "    # where in the misclassified labels is the labels 1 \n",
    "    fn_locs = np.where(misclass_labs == 1)[0]  # these are locations of truly sim sigs \n",
    "\n",
    "    #misclass_labsfn = misclass_labs[fn_locs] \n",
    "    #misclass_predfn = misclass_preds[fn_locs]\n",
    "\n",
    "    #misclass_probsfn = misclass_probs[fn_locs]\n",
    "\n",
    "    misclass_sigsfn = misclass_sigs[fn_locs]\n",
    "    #------------------------------------------------------------------------------------\n",
    "    \n",
    "    \n",
    "    # make a data frame of the False negatives \n",
    "    df_Fn = pd.DataFrame(misclass_sigsfn)\n",
    "    \n",
    "    #from avgph import *\n",
    "    \n",
    "    # get the PH info as arrays for the FALSE NEGATIVES\n",
    "    tfn, adc_fn = pharray(df_Fn)\n",
    "    \n",
    "    \n",
    "    \n",
    "    # get the PH info as arrays for all the Misclassifications \n",
    "    tfmc, adc_mc = pharray(pd.DataFrame(misclass_sigs))\n",
    "    \n",
    "    \n",
    "    \n",
    "    #==================================================\n",
    "    # Finally return all 4 arrays in a certain order \n",
    "    #==================================================\n",
    "    \n",
    "    \n",
    "    return tfn, adc_fn, tfmc, adc_mc\n",
    "    "
   ]
  },
  {
   "cell_type": "code",
   "execution_count": 26,
   "id": "0be2542d",
   "metadata": {},
   "outputs": [],
   "source": [
    "from avgph import *"
   ]
  },
  {
   "cell_type": "code",
   "execution_count": null,
   "id": "377de990",
   "metadata": {},
   "outputs": [],
   "source": []
  },
  {
   "cell_type": "code",
   "execution_count": 27,
   "id": "8a5888ab",
   "metadata": {},
   "outputs": [
    {
     "data": {
      "image/png": "[encoded data removed]",
      "text/plain": [
       "<Figure size 720x504 with 1 Axes>"
      ]
     },
     "metadata": {
      "needs_background": "light"
     },
     "output_type": "display_data"
    },
    {
     "data": {
      "image/png": "[encoded data removed]",
      "text/plain": [
       "<Figure size 720x504 with 1 Axes>"
      ]
     },
     "metadata": {
      "needs_background": "light"
     },
     "output_type": "display_data"
    }
   ],
   "source": [
    "time_fn, adc_fn, time_fnfp, adc_fnfp = PH_recon(truth = labels, modelprobs = probs, probthresh = 0.556, sigdata=signals)\n",
    "\n",
    "\n",
    "plt.figure(figsize=(10, 7))\n",
    "plt.plot(time_fn, adc_fn, color='blueviolet', linestyle='--', marker='s', label=\"False negatives\")\n",
    "plt.xlabel(\"Time (100ns)\", fontsize=13)\n",
    "plt.ylabel('ADC ', fontsize=13)\n",
    "plt.title(\"False Negatives\", fontsize=13)\n",
    "plt.legend()\n",
    "plt.show()\n",
    "\n",
    "\n",
    "\n",
    "plt.figure(figsize=(10, 7))\n",
    "plt.plot(time_fnfp, adc_fnfp, color='mediumvioletred', linestyle='--', marker='s', label=\"All misclassified signals\")\n",
    "plt.xlabel(\"Time (100ns)\", fontsize=13)\n",
    "plt.ylabel('ADC ', fontsize=13)\n",
    "plt.title(\"False Negatives + False Positives\", fontsize=13)\n",
    "plt.legend()\n",
    "plt.show()"
   ]
  },
  {
   "cell_type": "code",
   "execution_count": null,
   "id": "e5506ee1",
   "metadata": {},
   "outputs": [],
   "source": []
  }
 ],
 "metadata": {
  "kernelspec": {
   "display_name": "Python 3 (ipykernel)",
   "language": "python",
   "name": "python3"
  },
  "language_info": {
   "codemirror_mode": {
    "name": "ipython",
    "version": 3
   },
   "file_extension": ".py",
   "mimetype": "text/x-python",
   "name": "python",
   "nbconvert_exporter": "python",
   "pygments_lexer": "ipython3",
   "version": "3.9.7"
  }
 },
 "nbformat": 4,
 "nbformat_minor": 5
}
