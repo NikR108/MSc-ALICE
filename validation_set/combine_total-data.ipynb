{
 "cells": [
  {
   "cell_type": "code",
   "execution_count": 1,
   "id": "783676e3",
   "metadata": {},
   "outputs": [],
   "source": [
    "import numpy as np\n",
    "import pandas as pd \n",
    "\n",
    "from sklearn.model_selection import train_test_split"
   ]
  },
  {
   "cell_type": "code",
   "execution_count": 2,
   "id": "f9ebc2e0",
   "metadata": {},
   "outputs": [],
   "source": [
    "# load in the real and sim data \n",
    "\n",
    "rdf = pd.read_csv(\"../Stephan_Raw_Data/Clean_realsigs_LHC22o.csv\")\n",
    "\n",
    "sdf = pd.read_csv(\"../Sim50_combined/total_sim100k.csv\")\n",
    "\n",
    "\n"
   ]
  },
  {
   "cell_type": "code",
   "execution_count": 3,
   "id": "5aef6d6a",
   "metadata": {},
   "outputs": [
    {
     "data": {
      "text/plain": [
       "(763954, 105)"
      ]
     },
     "execution_count": 3,
     "metadata": {},
     "output_type": "execute_result"
    }
   ],
   "source": [
    "rdf.shape"
   ]
  },
  {
   "cell_type": "code",
   "execution_count": 4,
   "id": "58626931",
   "metadata": {},
   "outputs": [
    {
     "data": {
      "text/plain": [
       "(201336, 106)"
      ]
     },
     "execution_count": 4,
     "metadata": {},
     "output_type": "execute_result"
    }
   ],
   "source": [
    "sdf.shape"
   ]
  },
  {
   "cell_type": "code",
   "execution_count": 15,
   "id": "988f4769",
   "metadata": {},
   "outputs": [
    {
     "data": {
      "text/plain": [
       "0.2508322203839177"
      ]
     },
     "execution_count": 15,
     "metadata": {},
     "output_type": "execute_result"
    }
   ],
   "source": [
    "201336/(201336+601336)"
   ]
  },
  {
   "cell_type": "code",
   "execution_count": 8,
   "id": "c5e7d855",
   "metadata": {},
   "outputs": [
    {
     "data": {
      "text/html": [
       "<div>\n",
       "<style scoped>\n",
       "    .dataframe tbody tr th:only-of-type {\n",
       "        vertical-align: middle;\n",
       "    }\n",
       "\n",
       "    .dataframe tbody tr th {\n",
       "        vertical-align: top;\n",
       "    }\n",
       "\n",
       "    .dataframe thead th {\n",
       "        text-align: right;\n",
       "    }\n",
       "</style>\n",
       "<table border=\"1\" class=\"dataframe\">\n",
       "  <thead>\n",
       "    <tr style=\"text-align: right;\">\n",
       "      <th></th>\n",
       "      <th>AN00</th>\n",
       "      <th>AN01</th>\n",
       "      <th>AN02</th>\n",
       "      <th>AN03</th>\n",
       "      <th>AN04</th>\n",
       "      <th>AN05</th>\n",
       "      <th>AN06</th>\n",
       "      <th>AN07</th>\n",
       "      <th>AN08</th>\n",
       "      <th>AN09</th>\n",
       "      <th>...</th>\n",
       "      <th>MXRatio</th>\n",
       "      <th>Amax</th>\n",
       "      <th>Aavg</th>\n",
       "      <th>ARatio</th>\n",
       "      <th>Bmax</th>\n",
       "      <th>Bavg</th>\n",
       "      <th>BRatio</th>\n",
       "      <th>Asum</th>\n",
       "      <th>MXsum</th>\n",
       "      <th>Bsum</th>\n",
       "    </tr>\n",
       "  </thead>\n",
       "  <tbody>\n",
       "    <tr>\n",
       "      <th>0</th>\n",
       "      <td>8</td>\n",
       "      <td>9</td>\n",
       "      <td>9</td>\n",
       "      <td>10</td>\n",
       "      <td>9</td>\n",
       "      <td>9</td>\n",
       "      <td>10</td>\n",
       "      <td>10</td>\n",
       "      <td>10</td>\n",
       "      <td>7</td>\n",
       "      <td>...</td>\n",
       "      <td>0.147889</td>\n",
       "      <td>296</td>\n",
       "      <td>49.300000</td>\n",
       "      <td>0.166554</td>\n",
       "      <td>24</td>\n",
       "      <td>11.533333</td>\n",
       "      <td>0.480556</td>\n",
       "      <td>1479</td>\n",
       "      <td>1646</td>\n",
       "      <td>346</td>\n",
       "    </tr>\n",
       "    <tr>\n",
       "      <th>1</th>\n",
       "      <td>9</td>\n",
       "      <td>10</td>\n",
       "      <td>9</td>\n",
       "      <td>8</td>\n",
       "      <td>10</td>\n",
       "      <td>8</td>\n",
       "      <td>8</td>\n",
       "      <td>8</td>\n",
       "      <td>11</td>\n",
       "      <td>10</td>\n",
       "      <td>...</td>\n",
       "      <td>0.197442</td>\n",
       "      <td>45</td>\n",
       "      <td>15.000000</td>\n",
       "      <td>0.333333</td>\n",
       "      <td>21</td>\n",
       "      <td>10.633333</td>\n",
       "      <td>0.506349</td>\n",
       "      <td>450</td>\n",
       "      <td>2393</td>\n",
       "      <td>319</td>\n",
       "    </tr>\n",
       "    <tr>\n",
       "      <th>2</th>\n",
       "      <td>10</td>\n",
       "      <td>9</td>\n",
       "      <td>9</td>\n",
       "      <td>9</td>\n",
       "      <td>10</td>\n",
       "      <td>9</td>\n",
       "      <td>8</td>\n",
       "      <td>10</td>\n",
       "      <td>11</td>\n",
       "      <td>7</td>\n",
       "      <td>...</td>\n",
       "      <td>0.145594</td>\n",
       "      <td>97</td>\n",
       "      <td>20.166667</td>\n",
       "      <td>0.207904</td>\n",
       "      <td>45</td>\n",
       "      <td>13.500000</td>\n",
       "      <td>0.300000</td>\n",
       "      <td>605</td>\n",
       "      <td>760</td>\n",
       "      <td>405</td>\n",
       "    </tr>\n",
       "    <tr>\n",
       "      <th>3</th>\n",
       "      <td>10</td>\n",
       "      <td>11</td>\n",
       "      <td>9</td>\n",
       "      <td>10</td>\n",
       "      <td>9</td>\n",
       "      <td>10</td>\n",
       "      <td>9</td>\n",
       "      <td>10</td>\n",
       "      <td>13</td>\n",
       "      <td>9</td>\n",
       "      <td>...</td>\n",
       "      <td>0.142801</td>\n",
       "      <td>87</td>\n",
       "      <td>18.600000</td>\n",
       "      <td>0.213793</td>\n",
       "      <td>148</td>\n",
       "      <td>22.633333</td>\n",
       "      <td>0.152928</td>\n",
       "      <td>558</td>\n",
       "      <td>724</td>\n",
       "      <td>679</td>\n",
       "    </tr>\n",
       "    <tr>\n",
       "      <th>4</th>\n",
       "      <td>6</td>\n",
       "      <td>8</td>\n",
       "      <td>10</td>\n",
       "      <td>10</td>\n",
       "      <td>12</td>\n",
       "      <td>9</td>\n",
       "      <td>12</td>\n",
       "      <td>11</td>\n",
       "      <td>11</td>\n",
       "      <td>9</td>\n",
       "      <td>...</td>\n",
       "      <td>0.196875</td>\n",
       "      <td>73</td>\n",
       "      <td>16.733333</td>\n",
       "      <td>0.229224</td>\n",
       "      <td>75</td>\n",
       "      <td>16.466667</td>\n",
       "      <td>0.219556</td>\n",
       "      <td>502</td>\n",
       "      <td>567</td>\n",
       "      <td>494</td>\n",
       "    </tr>\n",
       "  </tbody>\n",
       "</table>\n",
       "<p>5 rows × 105 columns</p>\n",
       "</div>"
      ],
      "text/plain": [
       "   AN00  AN01  AN02  AN03  AN04  AN05  AN06  AN07  AN08  AN09  ...   MXRatio  \\\n",
       "0     8     9     9    10     9     9    10    10    10     7  ...  0.147889   \n",
       "1     9    10     9     8    10     8     8     8    11    10  ...  0.197442   \n",
       "2    10     9     9     9    10     9     8    10    11     7  ...  0.145594   \n",
       "3    10    11     9    10     9    10     9    10    13     9  ...  0.142801   \n",
       "4     6     8    10    10    12     9    12    11    11     9  ...  0.196875   \n",
       "\n",
       "   Amax       Aavg    ARatio  Bmax       Bavg    BRatio  Asum  MXsum  Bsum  \n",
       "0   296  49.300000  0.166554    24  11.533333  0.480556  1479   1646   346  \n",
       "1    45  15.000000  0.333333    21  10.633333  0.506349   450   2393   319  \n",
       "2    97  20.166667  0.207904    45  13.500000  0.300000   605    760   405  \n",
       "3    87  18.600000  0.213793   148  22.633333  0.152928   558    724   679  \n",
       "4    73  16.733333  0.229224    75  16.466667  0.219556   502    567   494  \n",
       "\n",
       "[5 rows x 105 columns]"
      ]
     },
     "execution_count": 8,
     "metadata": {},
     "output_type": "execute_result"
    }
   ],
   "source": [
    "rdf.head()"
   ]
  },
  {
   "cell_type": "code",
   "execution_count": 11,
   "id": "c577be78",
   "metadata": {},
   "outputs": [],
   "source": [
    "# create a label column for the  real data and set it to 0 \n",
    "\n",
    "rdf['label'] = 0"
   ]
  },
  {
   "cell_type": "code",
   "execution_count": 12,
   "id": "b64e0062",
   "metadata": {},
   "outputs": [
    {
     "data": {
      "text/plain": [
       "(763954, 106)"
      ]
     },
     "execution_count": 12,
     "metadata": {},
     "output_type": "execute_result"
    }
   ],
   "source": [
    "rdf.shape"
   ]
  },
  {
   "cell_type": "code",
   "execution_count": 13,
   "id": "53c1c1f3",
   "metadata": {},
   "outputs": [
    {
     "data": {
      "text/plain": [
       "0         0\n",
       "1         0\n",
       "2         0\n",
       "3         0\n",
       "4         0\n",
       "         ..\n",
       "763949    0\n",
       "763950    0\n",
       "763951    0\n",
       "763952    0\n",
       "763953    0\n",
       "Name: label, Length: 763954, dtype: int64"
      ]
     },
     "execution_count": 13,
     "metadata": {},
     "output_type": "execute_result"
    }
   ],
   "source": [
    "rdf.label"
   ]
  },
  {
   "cell_type": "code",
   "execution_count": 39,
   "id": "e6bdb78b",
   "metadata": {},
   "outputs": [
    {
     "data": {
      "text/plain": [
       "0         1\n",
       "1         1\n",
       "2         1\n",
       "3         1\n",
       "4         1\n",
       "         ..\n",
       "201331    1\n",
       "201332    1\n",
       "201333    1\n",
       "201334    1\n",
       "201335    1\n",
       "Name: label, Length: 201336, dtype: int64"
      ]
     },
     "execution_count": 39,
     "metadata": {},
     "output_type": "execute_result"
    }
   ],
   "source": [
    "sdf.label"
   ]
  },
  {
   "cell_type": "code",
   "execution_count": 16,
   "id": "bba7c6cf",
   "metadata": {},
   "outputs": [],
   "source": [
    "# get a downsample of the real data\n",
    "\n",
    "#rdf_samp = rdf.sample(n=601336, random_state=108)"
   ]
  },
  {
   "cell_type": "code",
   "execution_count": 17,
   "id": "b84c2cb1",
   "metadata": {},
   "outputs": [
    {
     "data": {
      "text/html": [
       "<div>\n",
       "<style scoped>\n",
       "    .dataframe tbody tr th:only-of-type {\n",
       "        vertical-align: middle;\n",
       "    }\n",
       "\n",
       "    .dataframe tbody tr th {\n",
       "        vertical-align: top;\n",
       "    }\n",
       "\n",
       "    .dataframe thead th {\n",
       "        text-align: right;\n",
       "    }\n",
       "</style>\n",
       "<table border=\"1\" class=\"dataframe\">\n",
       "  <thead>\n",
       "    <tr style=\"text-align: right;\">\n",
       "      <th></th>\n",
       "      <th>AN00</th>\n",
       "      <th>AN01</th>\n",
       "      <th>AN02</th>\n",
       "      <th>AN03</th>\n",
       "      <th>AN04</th>\n",
       "      <th>AN05</th>\n",
       "      <th>AN06</th>\n",
       "      <th>AN07</th>\n",
       "      <th>AN08</th>\n",
       "      <th>AN09</th>\n",
       "      <th>...</th>\n",
       "      <th>Amax</th>\n",
       "      <th>Aavg</th>\n",
       "      <th>ARatio</th>\n",
       "      <th>Bmax</th>\n",
       "      <th>Bavg</th>\n",
       "      <th>BRatio</th>\n",
       "      <th>Asum</th>\n",
       "      <th>MXsum</th>\n",
       "      <th>Bsum</th>\n",
       "      <th>label</th>\n",
       "    </tr>\n",
       "  </thead>\n",
       "  <tbody>\n",
       "    <tr>\n",
       "      <th>586283</th>\n",
       "      <td>14</td>\n",
       "      <td>22</td>\n",
       "      <td>17</td>\n",
       "      <td>15</td>\n",
       "      <td>16</td>\n",
       "      <td>14</td>\n",
       "      <td>12</td>\n",
       "      <td>11</td>\n",
       "      <td>11</td>\n",
       "      <td>11</td>\n",
       "      <td>...</td>\n",
       "      <td>22</td>\n",
       "      <td>12.166667</td>\n",
       "      <td>0.553030</td>\n",
       "      <td>31</td>\n",
       "      <td>17.400000</td>\n",
       "      <td>0.561290</td>\n",
       "      <td>365</td>\n",
       "      <td>951</td>\n",
       "      <td>522</td>\n",
       "      <td>0</td>\n",
       "    </tr>\n",
       "    <tr>\n",
       "      <th>139708</th>\n",
       "      <td>11</td>\n",
       "      <td>11</td>\n",
       "      <td>9</td>\n",
       "      <td>48</td>\n",
       "      <td>60</td>\n",
       "      <td>45</td>\n",
       "      <td>46</td>\n",
       "      <td>36</td>\n",
       "      <td>28</td>\n",
       "      <td>21</td>\n",
       "      <td>...</td>\n",
       "      <td>60</td>\n",
       "      <td>19.466667</td>\n",
       "      <td>0.324444</td>\n",
       "      <td>56</td>\n",
       "      <td>18.633333</td>\n",
       "      <td>0.332738</td>\n",
       "      <td>584</td>\n",
       "      <td>2685</td>\n",
       "      <td>559</td>\n",
       "      <td>0</td>\n",
       "    </tr>\n",
       "    <tr>\n",
       "      <th>628137</th>\n",
       "      <td>11</td>\n",
       "      <td>9</td>\n",
       "      <td>10</td>\n",
       "      <td>10</td>\n",
       "      <td>7</td>\n",
       "      <td>10</td>\n",
       "      <td>8</td>\n",
       "      <td>10</td>\n",
       "      <td>9</td>\n",
       "      <td>11</td>\n",
       "      <td>...</td>\n",
       "      <td>259</td>\n",
       "      <td>40.866667</td>\n",
       "      <td>0.157786</td>\n",
       "      <td>43</td>\n",
       "      <td>13.800000</td>\n",
       "      <td>0.320930</td>\n",
       "      <td>1226</td>\n",
       "      <td>2010</td>\n",
       "      <td>414</td>\n",
       "      <td>0</td>\n",
       "    </tr>\n",
       "    <tr>\n",
       "      <th>105143</th>\n",
       "      <td>10</td>\n",
       "      <td>9</td>\n",
       "      <td>9</td>\n",
       "      <td>8</td>\n",
       "      <td>10</td>\n",
       "      <td>7</td>\n",
       "      <td>10</td>\n",
       "      <td>9</td>\n",
       "      <td>8</td>\n",
       "      <td>7</td>\n",
       "      <td>...</td>\n",
       "      <td>63</td>\n",
       "      <td>20.166667</td>\n",
       "      <td>0.320106</td>\n",
       "      <td>304</td>\n",
       "      <td>57.733333</td>\n",
       "      <td>0.189912</td>\n",
       "      <td>605</td>\n",
       "      <td>4603</td>\n",
       "      <td>1732</td>\n",
       "      <td>0</td>\n",
       "    </tr>\n",
       "    <tr>\n",
       "      <th>31665</th>\n",
       "      <td>9</td>\n",
       "      <td>9</td>\n",
       "      <td>8</td>\n",
       "      <td>11</td>\n",
       "      <td>8</td>\n",
       "      <td>8</td>\n",
       "      <td>10</td>\n",
       "      <td>9</td>\n",
       "      <td>8</td>\n",
       "      <td>10</td>\n",
       "      <td>...</td>\n",
       "      <td>37</td>\n",
       "      <td>13.200000</td>\n",
       "      <td>0.356757</td>\n",
       "      <td>22</td>\n",
       "      <td>11.566667</td>\n",
       "      <td>0.525758</td>\n",
       "      <td>396</td>\n",
       "      <td>582</td>\n",
       "      <td>347</td>\n",
       "      <td>0</td>\n",
       "    </tr>\n",
       "  </tbody>\n",
       "</table>\n",
       "<p>5 rows × 106 columns</p>\n",
       "</div>"
      ],
      "text/plain": [
       "        AN00  AN01  AN02  AN03  AN04  AN05  AN06  AN07  AN08  AN09  ...  Amax  \\\n",
       "586283    14    22    17    15    16    14    12    11    11    11  ...    22   \n",
       "139708    11    11     9    48    60    45    46    36    28    21  ...    60   \n",
       "628137    11     9    10    10     7    10     8    10     9    11  ...   259   \n",
       "105143    10     9     9     8    10     7    10     9     8     7  ...    63   \n",
       "31665      9     9     8    11     8     8    10     9     8    10  ...    37   \n",
       "\n",
       "             Aavg    ARatio  Bmax       Bavg    BRatio  Asum  MXsum  Bsum  \\\n",
       "586283  12.166667  0.553030    31  17.400000  0.561290   365    951   522   \n",
       "139708  19.466667  0.324444    56  18.633333  0.332738   584   2685   559   \n",
       "628137  40.866667  0.157786    43  13.800000  0.320930  1226   2010   414   \n",
       "105143  20.166667  0.320106   304  57.733333  0.189912   605   4603  1732   \n",
       "31665   13.200000  0.356757    22  11.566667  0.525758   396    582   347   \n",
       "\n",
       "        label  \n",
       "586283      0  \n",
       "139708      0  \n",
       "628137      0  \n",
       "105143      0  \n",
       "31665       0  \n",
       "\n",
       "[5 rows x 106 columns]"
      ]
     },
     "execution_count": 17,
     "metadata": {},
     "output_type": "execute_result"
    }
   ],
   "source": [
    "rdf_samp.head()"
   ]
  },
  {
   "cell_type": "code",
   "execution_count": 18,
   "id": "f6ca4b72",
   "metadata": {},
   "outputs": [
    {
     "data": {
      "text/plain": [
       "(601336, 106)"
      ]
     },
     "execution_count": 18,
     "metadata": {},
     "output_type": "execute_result"
    }
   ],
   "source": [
    "rdf_samp.shape"
   ]
  },
  {
   "cell_type": "code",
   "execution_count": null,
   "id": "e98b4c9d",
   "metadata": {},
   "outputs": [],
   "source": []
  },
  {
   "cell_type": "code",
   "execution_count": 19,
   "id": "55a4a8cd",
   "metadata": {},
   "outputs": [],
   "source": [
    "# Now combine the data frames \n",
    "\n",
    "#Full = pd.concat([rdf_samp, sdf])"
   ]
  },
  {
   "cell_type": "code",
   "execution_count": 20,
   "id": "989a0fd0",
   "metadata": {},
   "outputs": [
    {
     "data": {
      "text/plain": [
       "(802672, 106)"
      ]
     },
     "execution_count": 20,
     "metadata": {},
     "output_type": "execute_result"
    }
   ],
   "source": [
    "Full.shape"
   ]
  },
  {
   "cell_type": "code",
   "execution_count": 21,
   "id": "1b8a8722",
   "metadata": {},
   "outputs": [],
   "source": [
    "# Now save as a csv \n",
    "\n",
    "#Full.to_csv(\"TRDsignals.csv\", index=False)"
   ]
  },
  {
   "cell_type": "code",
   "execution_count": 22,
   "id": "18ff88d0",
   "metadata": {},
   "outputs": [
    {
     "name": "stdout",
     "output_type": "stream",
     "text": [
      "TRDsignals.csv  Untitled.ipynb  info.txt\r\n"
     ]
    }
   ],
   "source": [
    "%ls"
   ]
  },
  {
   "cell_type": "code",
   "execution_count": 23,
   "id": "0fba33b7",
   "metadata": {},
   "outputs": [
    {
     "name": "stdout",
     "output_type": "stream",
     "text": [
      "total 655960\r\n",
      "-rw-r--r--  1 nikhiel  staff  322354006 Nov 21 23:37 TRDsignals.csv\r\n",
      "-rw-r--r--  1 nikhiel  staff      18220 Nov 21 23:36 Untitled.ipynb\r\n",
      "-rw-r--r--  1 nikhiel  staff        131 Nov 21 21:06 info.txt\r\n"
     ]
    }
   ],
   "source": [
    "%ls -l"
   ]
  },
  {
   "cell_type": "code",
   "execution_count": null,
   "id": "89f02929",
   "metadata": {},
   "outputs": [],
   "source": []
  },
  {
   "cell_type": "code",
   "execution_count": 25,
   "id": "25165da1",
   "metadata": {},
   "outputs": [],
   "source": [
    "import matplotlib.pyplot as plt \n",
    "%matplotlib inline "
   ]
  },
  {
   "cell_type": "code",
   "execution_count": 35,
   "id": "adfd393f",
   "metadata": {},
   "outputs": [
    {
     "data": {
      "image/png": "[encoded data removed]",
      "text/plain": [
       "<Figure size 864x504 with 1 Axes>"
      ]
     },
     "metadata": {
      "needs_background": "light"
     },
     "output_type": "display_data"
    }
   ],
   "source": [
    "plt.figure(figsize=(12, 7))\n",
    "plt.hist(Full.ADCSUM[Full.label==0], histtype='step', color='red', label=\"real\", bins=30, log=True)\n",
    "plt.hist(Full.ADCSUM[Full.label==1], histtype='step', color='blue', label=\"sim\", bins=30, log=True)\n",
    "plt.legend()\n",
    "plt.show()"
   ]
  },
  {
   "cell_type": "code",
   "execution_count": 30,
   "id": "4a98edd1",
   "metadata": {},
   "outputs": [
    {
     "data": {
      "text/plain": [
       "AN00      601336\n",
       "AN01      601336\n",
       "AN02      601336\n",
       "AN03      601336\n",
       "AN04      601336\n",
       "           ...  \n",
       "BRatio    601336\n",
       "Asum      601336\n",
       "MXsum     601336\n",
       "Bsum      601336\n",
       "label     601336\n",
       "Length: 106, dtype: int64"
      ]
     },
     "execution_count": 30,
     "metadata": {},
     "output_type": "execute_result"
    }
   ],
   "source": []
  },
  {
   "cell_type": "code",
   "execution_count": 36,
   "id": "0ee9af1d",
   "metadata": {},
   "outputs": [
    {
     "name": "stdout",
     "output_type": "stream",
     "text": [
      "total 655984\r\n",
      "-rw-r--r--  1 nikhiel  staff  322354006 Nov 21 23:37 TRDsignals.csv\r\n",
      "-rw-r--r--  1 nikhiel  staff      31776 Nov 22 00:00 Untitled.ipynb\r\n",
      "-rw-r--r--  1 nikhiel  staff        131 Nov 21 21:06 info.txt\r\n"
     ]
    }
   ],
   "source": [
    "%ls -l"
   ]
  },
  {
   "cell_type": "markdown",
   "id": "8a733533",
   "metadata": {},
   "source": [
    "# Now split into test and training sets "
   ]
  },
  {
   "cell_type": "code",
   "execution_count": 37,
   "id": "cbf3bd24",
   "metadata": {},
   "outputs": [],
   "source": [
    "TRD = pd.read_csv(\"TRDsignals.csv\")"
   ]
  },
  {
   "cell_type": "code",
   "execution_count": 38,
   "id": "15d3f975",
   "metadata": {},
   "outputs": [
    {
     "data": {
      "text/plain": [
       "(802672, 106)"
      ]
     },
     "execution_count": 38,
     "metadata": {},
     "output_type": "execute_result"
    }
   ],
   "source": [
    "TRD.shape"
   ]
  },
  {
   "cell_type": "raw",
   "id": "44484ff1",
   "metadata": {},
   "source": [
    "sigs = TRD.iloc[:, :90]\n",
    "\n",
    "#labels = pd.concat([real_samp.iloc[:, 150], sim.iloc[:, 150]])\n",
    "\n",
    "labels = TRD.label\n",
    "\n",
    "# check the shapes of these\n",
    "labels.shape\n",
    "sigs.shape\n",
    "\n",
    "\n",
    "X_train, X_test, Y_train, Y_test = train_test_split(sigs, labels, test_size=0.10, random_state=108, stratify=labels)\n",
    "\n",
    "\n",
    "train = pd.concat([X_train, Y_train], axis=1) # side by side \n",
    "\n",
    "test = pd.concat([X_test, Y_test], axis=1) # side by side \n",
    "\n",
    "\n"
   ]
  },
  {
   "cell_type": "code",
   "execution_count": 41,
   "id": "9b0be1ad",
   "metadata": {},
   "outputs": [
    {
     "data": {
      "text/plain": [
       "(802672,)"
      ]
     },
     "execution_count": 41,
     "metadata": {},
     "output_type": "execute_result"
    }
   ],
   "source": [
    "labels.shape"
   ]
  },
  {
   "cell_type": "code",
   "execution_count": 42,
   "id": "a694b2a3",
   "metadata": {},
   "outputs": [
    {
     "data": {
      "text/plain": [
       "(802672, 90)"
      ]
     },
     "execution_count": 42,
     "metadata": {},
     "output_type": "execute_result"
    }
   ],
   "source": [
    "sigs.shape"
   ]
  },
  {
   "cell_type": "code",
   "execution_count": 43,
   "id": "200e5bb8",
   "metadata": {},
   "outputs": [
    {
     "data": {
      "text/plain": [
       "(80268, 91)"
      ]
     },
     "execution_count": 43,
     "metadata": {},
     "output_type": "execute_result"
    }
   ],
   "source": [
    "test.shape"
   ]
  },
  {
   "cell_type": "code",
   "execution_count": 44,
   "id": "9cfd82a2",
   "metadata": {},
   "outputs": [
    {
     "data": {
      "text/plain": [
       "(722404, 91)"
      ]
     },
     "execution_count": 44,
     "metadata": {},
     "output_type": "execute_result"
    }
   ],
   "source": [
    "train.shape"
   ]
  },
  {
   "cell_type": "raw",
   "id": "69a34d37",
   "metadata": {},
   "source": [
    "train.to_csv(\"train.csv\", index=False)\n",
    "test.to_csv(\"test.csv\", index=False)\n"
   ]
  },
  {
   "cell_type": "code",
   "execution_count": null,
   "id": "bbbc41e4",
   "metadata": {},
   "outputs": [],
   "source": []
  },
  {
   "cell_type": "code",
   "execution_count": 46,
   "id": "95021d8e",
   "metadata": {},
   "outputs": [
    {
     "name": "stdout",
     "output_type": "stream",
     "text": [
      "TRDsignals.csv  Untitled.ipynb  info.txt        test.csv        train.csv\r\n"
     ]
    }
   ],
   "source": [
    "%ls"
   ]
  },
  {
   "cell_type": "code",
   "execution_count": 47,
   "id": "9798b3d3",
   "metadata": {},
   "outputs": [],
   "source": [
    "training = pd.read_csv(\"train.csv\")\n",
    "testing = pd.read_csv(\"test.csv\")"
   ]
  },
  {
   "cell_type": "code",
   "execution_count": 48,
   "id": "090ceefe",
   "metadata": {},
   "outputs": [
    {
     "data": {
      "text/plain": [
       "(722404, 91)"
      ]
     },
     "execution_count": 48,
     "metadata": {},
     "output_type": "execute_result"
    }
   ],
   "source": [
    "training.shape"
   ]
  },
  {
   "cell_type": "code",
   "execution_count": 49,
   "id": "e259fb5c",
   "metadata": {},
   "outputs": [
    {
     "data": {
      "text/plain": [
       "(80268, 91)"
      ]
     },
     "execution_count": 49,
     "metadata": {},
     "output_type": "execute_result"
    }
   ],
   "source": [
    "testing.shape"
   ]
  },
  {
   "cell_type": "code",
   "execution_count": 50,
   "id": "28c2b77f",
   "metadata": {},
   "outputs": [
    {
     "data": {
      "text/plain": [
       "array([1, 2, 3, 4, 5])"
      ]
     },
     "execution_count": 50,
     "metadata": {},
     "output_type": "execute_result"
    }
   ],
   "source": [
    "a = [1,2,3,4,5]\n",
    "A = np.array(a)\n",
    "A"
   ]
  },
  {
   "cell_type": "code",
   "execution_count": 51,
   "id": "8809a29d",
   "metadata": {},
   "outputs": [],
   "source": [
    "np.save(\"array.npy\", A)"
   ]
  },
  {
   "cell_type": "code",
   "execution_count": 52,
   "id": "9422ae21",
   "metadata": {},
   "outputs": [
    {
     "name": "stdout",
     "output_type": "stream",
     "text": [
      "TRDsignals.csv  array.npy       test.csv\r\n",
      "Untitled.ipynb  info.txt        train.csv\r\n"
     ]
    }
   ],
   "source": [
    "%ls"
   ]
  },
  {
   "cell_type": "code",
   "execution_count": 53,
   "id": "f6e27d55",
   "metadata": {},
   "outputs": [],
   "source": [
    "l = np.load(\"array.npy\")"
   ]
  },
  {
   "cell_type": "code",
   "execution_count": 54,
   "id": "45bd8ef4",
   "metadata": {},
   "outputs": [
    {
     "data": {
      "text/plain": [
       "array([1, 2, 3, 4, 5])"
      ]
     },
     "execution_count": 54,
     "metadata": {},
     "output_type": "execute_result"
    }
   ],
   "source": [
    "l"
   ]
  },
  {
   "cell_type": "code",
   "execution_count": 55,
   "id": "c68d5827",
   "metadata": {},
   "outputs": [],
   "source": [
    "\n",
    "q = Full\n"
   ]
  },
  {
   "cell_type": "code",
   "execution_count": 56,
   "id": "b22c8359",
   "metadata": {},
   "outputs": [
    {
     "data": {
      "text/plain": [
       "(802672, 106)"
      ]
     },
     "execution_count": 56,
     "metadata": {},
     "output_type": "execute_result"
    }
   ],
   "source": [
    "q.shape"
   ]
  },
  {
   "cell_type": "code",
   "execution_count": 57,
   "id": "3c44e2c5",
   "metadata": {},
   "outputs": [
    {
     "ename": "TypeError",
     "evalue": "'method' object is not subscriptable",
     "output_type": "error",
     "traceback": [
      "\u001b[0;31m---------------------------------------------------------------------------\u001b[0m",
      "\u001b[0;31mTypeError\u001b[0m                                 Traceback (most recent call last)",
      "Input \u001b[0;32mIn [57]\u001b[0m, in \u001b[0;36m<cell line: 1>\u001b[0;34m()\u001b[0m\n\u001b[0;32m----> 1\u001b[0m q1 \u001b[38;5;241m=\u001b[39m \u001b[43mq\u001b[49m\u001b[38;5;241;43m.\u001b[39;49m\u001b[43mdrop\u001b[49m\u001b[43m[\u001b[49m\u001b[38;5;124;43m'\u001b[39;49m\u001b[38;5;124;43mlabel\u001b[39;49m\u001b[38;5;124;43m'\u001b[39;49m\u001b[43m]\u001b[49m\n",
      "\u001b[0;31mTypeError\u001b[0m: 'method' object is not subscriptable"
     ]
    }
   ],
   "source": [
    "q.drop['label']"
   ]
  },
  {
   "cell_type": "code",
   "execution_count": null,
   "id": "bc2313c7",
   "metadata": {},
   "outputs": [],
   "source": []
  }
 ],
 "metadata": {
  "kernelspec": {
   "display_name": "Python 3 (ipykernel)",
   "language": "python",
   "name": "python3"
  },
  "language_info": {
   "codemirror_mode": {
    "name": "ipython",
    "version": 3
   },
   "file_extension": ".py",
   "mimetype": "text/x-python",
   "name": "python",
   "nbconvert_exporter": "python",
   "pygments_lexer": "ipython3",
   "version": "3.9.12"
  }
 },
 "nbformat": 4,
 "nbformat_minor": 5
}
